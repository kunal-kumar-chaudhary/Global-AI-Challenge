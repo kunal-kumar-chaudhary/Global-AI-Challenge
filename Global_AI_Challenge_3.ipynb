{
  "nbformat": 4,
  "nbformat_minor": 0,
  "metadata": {
    "colab": {
      "name": "Global AI Challenge 3.ipynb",
      "provenance": [],
      "authorship_tag": "ABX9TyNVYVzapb4+59vUexltycku",
      "include_colab_link": true
    },
    "kernelspec": {
      "name": "python3",
      "display_name": "Python 3"
    },
    "language_info": {
      "name": "python"
    }
  },
  "cells": [
    {
      "cell_type": "markdown",
      "metadata": {
        "id": "view-in-github",
        "colab_type": "text"
      },
      "source": [
        "<a href=\"https://colab.research.google.com/github/kunal-kumar-chaudhary/Global-AI-Challenge/blob/main/Global_AI_Challenge_3.ipynb\" target=\"_parent\"><img src=\"https://colab.research.google.com/assets/colab-badge.svg\" alt=\"Open In Colab\"/></a>"
      ]
    },
    {
      "cell_type": "code",
      "source": [
        "import pandas as pd\n",
        "import numpy as np\n",
        "import matplotlib.pyplot as plt\n",
        "import seaborn as sns"
      ],
      "metadata": {
        "id": "EXahgl-Jl4ki"
      },
      "execution_count": 394,
      "outputs": []
    },
    {
      "cell_type": "code",
      "execution_count": 395,
      "metadata": {
        "id": "_R7hi5EQltgo"
      },
      "outputs": [],
      "source": [
        "# loading our data\n",
        "train = pd.read_csv(\"training data.csv\")\n",
        "test = pd.read_csv(\"testing data.csv\")"
      ]
    },
    {
      "cell_type": "code",
      "source": [
        "train.head(3)"
      ],
      "metadata": {
        "colab": {
          "base_uri": "https://localhost:8080/",
          "height": 311
        },
        "id": "VX9R8mgEmO7d",
        "outputId": "5eeaa1b0-e0dc-43ee-9054-3ae358bce532"
      },
      "execution_count": 396,
      "outputs": [
        {
          "output_type": "execute_result",
          "data": {
            "text/html": [
              "\n",
              "  <div id=\"df-272a97cf-ce84-46d6-b684-87f07c6c2866\">\n",
              "    <div class=\"colab-df-container\">\n",
              "      <div>\n",
              "<style scoped>\n",
              "    .dataframe tbody tr th:only-of-type {\n",
              "        vertical-align: middle;\n",
              "    }\n",
              "\n",
              "    .dataframe tbody tr th {\n",
              "        vertical-align: top;\n",
              "    }\n",
              "\n",
              "    .dataframe thead th {\n",
              "        text-align: right;\n",
              "    }\n",
              "</style>\n",
              "<table border=\"1\" class=\"dataframe\">\n",
              "  <thead>\n",
              "    <tr style=\"text-align: right;\">\n",
              "      <th></th>\n",
              "      <th>Unnamed: 0</th>\n",
              "      <th>Unnamed: 0.1</th>\n",
              "      <th>Smiles</th>\n",
              "      <th>Active</th>\n",
              "      <th>exactmw</th>\n",
              "      <th>amw</th>\n",
              "      <th>lipinskiHBA</th>\n",
              "      <th>lipinskiHBD</th>\n",
              "      <th>NumRotatableBonds</th>\n",
              "      <th>NumHBD</th>\n",
              "      <th>NumHBA</th>\n",
              "      <th>NumHeavyAtoms</th>\n",
              "      <th>NumAtoms</th>\n",
              "      <th>NumHeteroatoms</th>\n",
              "      <th>NumAmideBonds</th>\n",
              "      <th>FractionCSP3</th>\n",
              "      <th>NumRings</th>\n",
              "      <th>NumAromaticRings</th>\n",
              "      <th>NumAliphaticRings</th>\n",
              "      <th>NumSaturatedRings</th>\n",
              "      <th>NumHeterocycles</th>\n",
              "      <th>NumAromaticHeterocycles</th>\n",
              "      <th>NumSaturatedHeterocycles</th>\n",
              "      <th>NumAliphaticHeterocycles</th>\n",
              "      <th>NumSpiroAtoms</th>\n",
              "      <th>NumBridgeheadAtoms</th>\n",
              "      <th>NumAtomStereoCenters</th>\n",
              "      <th>NumUnspecifiedAtomStereoCenters</th>\n",
              "      <th>labuteASA</th>\n",
              "      <th>tpsa</th>\n",
              "      <th>CrippenClogP</th>\n",
              "      <th>CrippenMR</th>\n",
              "      <th>chi0v</th>\n",
              "      <th>chi1v</th>\n",
              "      <th>chi2v</th>\n",
              "      <th>chi3v</th>\n",
              "      <th>chi4v</th>\n",
              "      <th>chi0n</th>\n",
              "      <th>chi1n</th>\n",
              "      <th>chi2n</th>\n",
              "      <th>chi3n</th>\n",
              "      <th>chi4n</th>\n",
              "      <th>hallKierAlpha</th>\n",
              "      <th>kappa1</th>\n",
              "      <th>kappa2</th>\n",
              "      <th>kappa3</th>\n",
              "      <th>Phi</th>\n",
              "      <th>descriptors</th>\n",
              "    </tr>\n",
              "  </thead>\n",
              "  <tbody>\n",
              "    <tr>\n",
              "      <th>0</th>\n",
              "      <td>0</td>\n",
              "      <td>0</td>\n",
              "      <td>COc1ccc2[nH]cc(CCN)c2c1</td>\n",
              "      <td>False</td>\n",
              "      <td>190.110613</td>\n",
              "      <td>190.246</td>\n",
              "      <td>3.0</td>\n",
              "      <td>3.0</td>\n",
              "      <td>3.0</td>\n",
              "      <td>2.0</td>\n",
              "      <td>2.0</td>\n",
              "      <td>14.0</td>\n",
              "      <td>28.0</td>\n",
              "      <td>3.0</td>\n",
              "      <td>0.0</td>\n",
              "      <td>0.272727</td>\n",
              "      <td>2.0</td>\n",
              "      <td>2.0</td>\n",
              "      <td>0.0</td>\n",
              "      <td>0.0</td>\n",
              "      <td>1.0</td>\n",
              "      <td>1.0</td>\n",
              "      <td>0.0</td>\n",
              "      <td>0.0</td>\n",
              "      <td>0.0</td>\n",
              "      <td>0.0</td>\n",
              "      <td>0.0</td>\n",
              "      <td>0.0</td>\n",
              "      <td>82.870490</td>\n",
              "      <td>51.04</td>\n",
              "      <td>1.6777</td>\n",
              "      <td>57.6091</td>\n",
              "      <td>8.209213</td>\n",
              "      <td>4.689558</td>\n",
              "      <td>2.388265</td>\n",
              "      <td>2.388265</td>\n",
              "      <td>1.646830</td>\n",
              "      <td>8.209213</td>\n",
              "      <td>4.689558</td>\n",
              "      <td>2.388265</td>\n",
              "      <td>2.388265</td>\n",
              "      <td>1.646830</td>\n",
              "      <td>-1.48</td>\n",
              "      <td>9.089833</td>\n",
              "      <td>3.717081</td>\n",
              "      <td>1.463957</td>\n",
              "      <td>2.413403</td>\n",
              "      <td>[190.11061307 190.246        3.           3.  ...</td>\n",
              "    </tr>\n",
              "    <tr>\n",
              "      <th>1</th>\n",
              "      <td>1</td>\n",
              "      <td>1</td>\n",
              "      <td>CCCN1CCC[C@H](c2cccc(O)c2)C1.Cl</td>\n",
              "      <td>False</td>\n",
              "      <td>255.138992</td>\n",
              "      <td>255.789</td>\n",
              "      <td>2.0</td>\n",
              "      <td>1.0</td>\n",
              "      <td>3.0</td>\n",
              "      <td>1.0</td>\n",
              "      <td>2.0</td>\n",
              "      <td>17.0</td>\n",
              "      <td>39.0</td>\n",
              "      <td>3.0</td>\n",
              "      <td>0.0</td>\n",
              "      <td>0.571429</td>\n",
              "      <td>2.0</td>\n",
              "      <td>1.0</td>\n",
              "      <td>1.0</td>\n",
              "      <td>1.0</td>\n",
              "      <td>1.0</td>\n",
              "      <td>0.0</td>\n",
              "      <td>1.0</td>\n",
              "      <td>1.0</td>\n",
              "      <td>0.0</td>\n",
              "      <td>0.0</td>\n",
              "      <td>1.0</td>\n",
              "      <td>0.0</td>\n",
              "      <td>110.052270</td>\n",
              "      <td>23.47</td>\n",
              "      <td>3.4034</td>\n",
              "      <td>74.0608</td>\n",
              "      <td>11.248564</td>\n",
              "      <td>6.305936</td>\n",
              "      <td>3.386963</td>\n",
              "      <td>3.386963</td>\n",
              "      <td>2.625667</td>\n",
              "      <td>10.432068</td>\n",
              "      <td>6.305936</td>\n",
              "      <td>3.386963</td>\n",
              "      <td>3.386963</td>\n",
              "      <td>2.625667</td>\n",
              "      <td>-0.73</td>\n",
              "      <td>14.331463</td>\n",
              "      <td>6.873090</td>\n",
              "      <td>3.896375</td>\n",
              "      <td>5.794202</td>\n",
              "      <td>[255.138992   255.789        2.           1.  ...</td>\n",
              "    </tr>\n",
              "    <tr>\n",
              "      <th>2</th>\n",
              "      <td>2</td>\n",
              "      <td>2</td>\n",
              "      <td>O=C(NO)c1cnc(N2CCN(S(=O)(=O)c3ccc4ccccc4c3)CC2...</td>\n",
              "      <td>False</td>\n",
              "      <td>413.115775</td>\n",
              "      <td>413.459</td>\n",
              "      <td>9.0</td>\n",
              "      <td>2.0</td>\n",
              "      <td>4.0</td>\n",
              "      <td>2.0</td>\n",
              "      <td>7.0</td>\n",
              "      <td>29.0</td>\n",
              "      <td>48.0</td>\n",
              "      <td>10.0</td>\n",
              "      <td>1.0</td>\n",
              "      <td>0.210526</td>\n",
              "      <td>4.0</td>\n",
              "      <td>3.0</td>\n",
              "      <td>1.0</td>\n",
              "      <td>1.0</td>\n",
              "      <td>2.0</td>\n",
              "      <td>1.0</td>\n",
              "      <td>1.0</td>\n",
              "      <td>1.0</td>\n",
              "      <td>0.0</td>\n",
              "      <td>0.0</td>\n",
              "      <td>0.0</td>\n",
              "      <td>0.0</td>\n",
              "      <td>167.168437</td>\n",
              "      <td>115.73</td>\n",
              "      <td>1.2597</td>\n",
              "      <td>106.2045</td>\n",
              "      <td>16.210137</td>\n",
              "      <td>10.432690</td>\n",
              "      <td>6.776768</td>\n",
              "      <td>6.776768</td>\n",
              "      <td>4.729780</td>\n",
              "      <td>15.393641</td>\n",
              "      <td>8.992626</td>\n",
              "      <td>4.882131</td>\n",
              "      <td>4.882131</td>\n",
              "      <td>3.271715</td>\n",
              "      <td>-3.08</td>\n",
              "      <td>19.245735</td>\n",
              "      <td>7.740178</td>\n",
              "      <td>3.770959</td>\n",
              "      <td>5.136739</td>\n",
              "      <td>[ 4.13115775e+02  4.13459000e+02  9.00000000e+...</td>\n",
              "    </tr>\n",
              "  </tbody>\n",
              "</table>\n",
              "</div>\n",
              "      <button class=\"colab-df-convert\" onclick=\"convertToInteractive('df-272a97cf-ce84-46d6-b684-87f07c6c2866')\"\n",
              "              title=\"Convert this dataframe to an interactive table.\"\n",
              "              style=\"display:none;\">\n",
              "        \n",
              "  <svg xmlns=\"http://www.w3.org/2000/svg\" height=\"24px\"viewBox=\"0 0 24 24\"\n",
              "       width=\"24px\">\n",
              "    <path d=\"M0 0h24v24H0V0z\" fill=\"none\"/>\n",
              "    <path d=\"M18.56 5.44l.94 2.06.94-2.06 2.06-.94-2.06-.94-.94-2.06-.94 2.06-2.06.94zm-11 1L8.5 8.5l.94-2.06 2.06-.94-2.06-.94L8.5 2.5l-.94 2.06-2.06.94zm10 10l.94 2.06.94-2.06 2.06-.94-2.06-.94-.94-2.06-.94 2.06-2.06.94z\"/><path d=\"M17.41 7.96l-1.37-1.37c-.4-.4-.92-.59-1.43-.59-.52 0-1.04.2-1.43.59L10.3 9.45l-7.72 7.72c-.78.78-.78 2.05 0 2.83L4 21.41c.39.39.9.59 1.41.59.51 0 1.02-.2 1.41-.59l7.78-7.78 2.81-2.81c.8-.78.8-2.07 0-2.86zM5.41 20L4 18.59l7.72-7.72 1.47 1.35L5.41 20z\"/>\n",
              "  </svg>\n",
              "      </button>\n",
              "      \n",
              "  <style>\n",
              "    .colab-df-container {\n",
              "      display:flex;\n",
              "      flex-wrap:wrap;\n",
              "      gap: 12px;\n",
              "    }\n",
              "\n",
              "    .colab-df-convert {\n",
              "      background-color: #E8F0FE;\n",
              "      border: none;\n",
              "      border-radius: 50%;\n",
              "      cursor: pointer;\n",
              "      display: none;\n",
              "      fill: #1967D2;\n",
              "      height: 32px;\n",
              "      padding: 0 0 0 0;\n",
              "      width: 32px;\n",
              "    }\n",
              "\n",
              "    .colab-df-convert:hover {\n",
              "      background-color: #E2EBFA;\n",
              "      box-shadow: 0px 1px 2px rgba(60, 64, 67, 0.3), 0px 1px 3px 1px rgba(60, 64, 67, 0.15);\n",
              "      fill: #174EA6;\n",
              "    }\n",
              "\n",
              "    [theme=dark] .colab-df-convert {\n",
              "      background-color: #3B4455;\n",
              "      fill: #D2E3FC;\n",
              "    }\n",
              "\n",
              "    [theme=dark] .colab-df-convert:hover {\n",
              "      background-color: #434B5C;\n",
              "      box-shadow: 0px 1px 3px 1px rgba(0, 0, 0, 0.15);\n",
              "      filter: drop-shadow(0px 1px 2px rgba(0, 0, 0, 0.3));\n",
              "      fill: #FFFFFF;\n",
              "    }\n",
              "  </style>\n",
              "\n",
              "      <script>\n",
              "        const buttonEl =\n",
              "          document.querySelector('#df-272a97cf-ce84-46d6-b684-87f07c6c2866 button.colab-df-convert');\n",
              "        buttonEl.style.display =\n",
              "          google.colab.kernel.accessAllowed ? 'block' : 'none';\n",
              "\n",
              "        async function convertToInteractive(key) {\n",
              "          const element = document.querySelector('#df-272a97cf-ce84-46d6-b684-87f07c6c2866');\n",
              "          const dataTable =\n",
              "            await google.colab.kernel.invokeFunction('convertToInteractive',\n",
              "                                                     [key], {});\n",
              "          if (!dataTable) return;\n",
              "\n",
              "          const docLinkHtml = 'Like what you see? Visit the ' +\n",
              "            '<a target=\"_blank\" href=https://colab.research.google.com/notebooks/data_table.ipynb>data table notebook</a>'\n",
              "            + ' to learn more about interactive tables.';\n",
              "          element.innerHTML = '';\n",
              "          dataTable['output_type'] = 'display_data';\n",
              "          await google.colab.output.renderOutput(dataTable, element);\n",
              "          const docLink = document.createElement('div');\n",
              "          docLink.innerHTML = docLinkHtml;\n",
              "          element.appendChild(docLink);\n",
              "        }\n",
              "      </script>\n",
              "    </div>\n",
              "  </div>\n",
              "  "
            ],
            "text/plain": [
              "   Unnamed: 0  ...                                        descriptors\n",
              "0           0  ...  [190.11061307 190.246        3.           3.  ...\n",
              "1           1  ...  [255.138992   255.789        2.           1.  ...\n",
              "2           2  ...  [ 4.13115775e+02  4.13459000e+02  9.00000000e+...\n",
              "\n",
              "[3 rows x 48 columns]"
            ]
          },
          "metadata": {},
          "execution_count": 396
        }
      ]
    },
    {
      "cell_type": "code",
      "source": [
        "test.head(3)"
      ],
      "metadata": {
        "colab": {
          "base_uri": "https://localhost:8080/",
          "height": 346
        },
        "id": "fZPxzbKsmRwz",
        "outputId": "934b3603-af7d-45db-83c9-ee0cdd20ec72"
      },
      "execution_count": 397,
      "outputs": [
        {
          "output_type": "execute_result",
          "data": {
            "text/html": [
              "\n",
              "  <div id=\"df-d8adf5fb-8216-4c05-ad28-3f874e8eb098\">\n",
              "    <div class=\"colab-df-container\">\n",
              "      <div>\n",
              "<style scoped>\n",
              "    .dataframe tbody tr th:only-of-type {\n",
              "        vertical-align: middle;\n",
              "    }\n",
              "\n",
              "    .dataframe tbody tr th {\n",
              "        vertical-align: top;\n",
              "    }\n",
              "\n",
              "    .dataframe thead th {\n",
              "        text-align: right;\n",
              "    }\n",
              "</style>\n",
              "<table border=\"1\" class=\"dataframe\">\n",
              "  <thead>\n",
              "    <tr style=\"text-align: right;\">\n",
              "      <th></th>\n",
              "      <th>Unnamed: 0</th>\n",
              "      <th>Unnamed: 0.1</th>\n",
              "      <th>Smiles</th>\n",
              "      <th>exactmw</th>\n",
              "      <th>amw</th>\n",
              "      <th>lipinskiHBA</th>\n",
              "      <th>lipinskiHBD</th>\n",
              "      <th>NumRotatableBonds</th>\n",
              "      <th>NumHBD</th>\n",
              "      <th>NumHBA</th>\n",
              "      <th>NumHeavyAtoms</th>\n",
              "      <th>NumAtoms</th>\n",
              "      <th>NumHeteroatoms</th>\n",
              "      <th>NumAmideBonds</th>\n",
              "      <th>FractionCSP3</th>\n",
              "      <th>NumRings</th>\n",
              "      <th>NumAromaticRings</th>\n",
              "      <th>NumAliphaticRings</th>\n",
              "      <th>NumSaturatedRings</th>\n",
              "      <th>NumHeterocycles</th>\n",
              "      <th>NumAromaticHeterocycles</th>\n",
              "      <th>NumSaturatedHeterocycles</th>\n",
              "      <th>NumAliphaticHeterocycles</th>\n",
              "      <th>NumSpiroAtoms</th>\n",
              "      <th>NumBridgeheadAtoms</th>\n",
              "      <th>NumAtomStereoCenters</th>\n",
              "      <th>NumUnspecifiedAtomStereoCenters</th>\n",
              "      <th>labuteASA</th>\n",
              "      <th>tpsa</th>\n",
              "      <th>CrippenClogP</th>\n",
              "      <th>CrippenMR</th>\n",
              "      <th>chi0v</th>\n",
              "      <th>chi1v</th>\n",
              "      <th>chi2v</th>\n",
              "      <th>chi3v</th>\n",
              "      <th>chi4v</th>\n",
              "      <th>chi0n</th>\n",
              "      <th>chi1n</th>\n",
              "      <th>chi2n</th>\n",
              "      <th>chi3n</th>\n",
              "      <th>chi4n</th>\n",
              "      <th>hallKierAlpha</th>\n",
              "      <th>kappa1</th>\n",
              "      <th>kappa2</th>\n",
              "      <th>kappa3</th>\n",
              "      <th>Phi</th>\n",
              "      <th>descriptors</th>\n",
              "    </tr>\n",
              "  </thead>\n",
              "  <tbody>\n",
              "    <tr>\n",
              "      <th>0</th>\n",
              "      <td>0</td>\n",
              "      <td>0</td>\n",
              "      <td>COC(=O)Nc1ccc(-c2nc(N3CCOCC3)c3cnn(C4CCN(Cc5cc...</td>\n",
              "      <td>528.259737</td>\n",
              "      <td>528.617</td>\n",
              "      <td>11.0</td>\n",
              "      <td>1.0</td>\n",
              "      <td>6.0</td>\n",
              "      <td>1.0</td>\n",
              "      <td>10.0</td>\n",
              "      <td>39.0</td>\n",
              "      <td>71.0</td>\n",
              "      <td>11.0</td>\n",
              "      <td>1.0</td>\n",
              "      <td>0.392857</td>\n",
              "      <td>6.0</td>\n",
              "      <td>4.0</td>\n",
              "      <td>2.0</td>\n",
              "      <td>2.0</td>\n",
              "      <td>5.0</td>\n",
              "      <td>3.0</td>\n",
              "      <td>2.0</td>\n",
              "      <td>2.0</td>\n",
              "      <td>0.0</td>\n",
              "      <td>0.0</td>\n",
              "      <td>0.0</td>\n",
              "      <td>0.0</td>\n",
              "      <td>226.319219</td>\n",
              "      <td>110.53</td>\n",
              "      <td>3.7403</td>\n",
              "      <td>147.6037</td>\n",
              "      <td>21.992704</td>\n",
              "      <td>13.323531</td>\n",
              "      <td>7.351116</td>\n",
              "      <td>7.351116</td>\n",
              "      <td>5.266717</td>\n",
              "      <td>21.992704</td>\n",
              "      <td>13.323531</td>\n",
              "      <td>7.351116</td>\n",
              "      <td>7.351116</td>\n",
              "      <td>5.266717</td>\n",
              "      <td>-4.09</td>\n",
              "      <td>25.202404</td>\n",
              "      <td>11.339826</td>\n",
              "      <td>5.545201</td>\n",
              "      <td>7.327971</td>\n",
              "      <td>[ 5.28259737e+02  5.28617000e+02  1.10000000e+...</td>\n",
              "    </tr>\n",
              "    <tr>\n",
              "      <th>1</th>\n",
              "      <td>1</td>\n",
              "      <td>1</td>\n",
              "      <td>O=Cc1cn(Cc2ccc(Cl)cc2)c2ccccc12</td>\n",
              "      <td>269.060742</td>\n",
              "      <td>269.731</td>\n",
              "      <td>2.0</td>\n",
              "      <td>0.0</td>\n",
              "      <td>3.0</td>\n",
              "      <td>0.0</td>\n",
              "      <td>2.0</td>\n",
              "      <td>19.0</td>\n",
              "      <td>31.0</td>\n",
              "      <td>3.0</td>\n",
              "      <td>0.0</td>\n",
              "      <td>0.062500</td>\n",
              "      <td>3.0</td>\n",
              "      <td>3.0</td>\n",
              "      <td>0.0</td>\n",
              "      <td>0.0</td>\n",
              "      <td>1.0</td>\n",
              "      <td>1.0</td>\n",
              "      <td>0.0</td>\n",
              "      <td>0.0</td>\n",
              "      <td>0.0</td>\n",
              "      <td>0.0</td>\n",
              "      <td>0.0</td>\n",
              "      <td>0.0</td>\n",
              "      <td>115.783966</td>\n",
              "      <td>22.00</td>\n",
              "      <td>4.1555</td>\n",
              "      <td>77.8795</td>\n",
              "      <td>10.969965</td>\n",
              "      <td>6.430304</td>\n",
              "      <td>3.464525</td>\n",
              "      <td>3.464525</td>\n",
              "      <td>2.412406</td>\n",
              "      <td>10.214036</td>\n",
              "      <td>6.052339</td>\n",
              "      <td>3.212548</td>\n",
              "      <td>3.212548</td>\n",
              "      <td>2.286418</td>\n",
              "      <td>-2.06</td>\n",
              "      <td>11.998587</td>\n",
              "      <td>4.902237</td>\n",
              "      <td>2.269970</td>\n",
              "      <td>3.095785</td>\n",
              "      <td>[ 2.69060742e+02  2.69731000e+02  2.00000000e+...</td>\n",
              "    </tr>\n",
              "    <tr>\n",
              "      <th>2</th>\n",
              "      <td>2</td>\n",
              "      <td>2</td>\n",
              "      <td>NC(CO)C(=O)NNCc1ccc(O)c(O)c1O</td>\n",
              "      <td>257.101171</td>\n",
              "      <td>257.246</td>\n",
              "      <td>8.0</td>\n",
              "      <td>8.0</td>\n",
              "      <td>5.0</td>\n",
              "      <td>7.0</td>\n",
              "      <td>7.0</td>\n",
              "      <td>18.0</td>\n",
              "      <td>33.0</td>\n",
              "      <td>8.0</td>\n",
              "      <td>1.0</td>\n",
              "      <td>0.300000</td>\n",
              "      <td>1.0</td>\n",
              "      <td>1.0</td>\n",
              "      <td>0.0</td>\n",
              "      <td>0.0</td>\n",
              "      <td>0.0</td>\n",
              "      <td>0.0</td>\n",
              "      <td>0.0</td>\n",
              "      <td>0.0</td>\n",
              "      <td>0.0</td>\n",
              "      <td>0.0</td>\n",
              "      <td>1.0</td>\n",
              "      <td>1.0</td>\n",
              "      <td>102.639380</td>\n",
              "      <td>148.07</td>\n",
              "      <td>-1.7562</td>\n",
              "      <td>61.4800</td>\n",
              "      <td>9.420717</td>\n",
              "      <td>5.089219</td>\n",
              "      <td>2.237368</td>\n",
              "      <td>2.237368</td>\n",
              "      <td>1.155580</td>\n",
              "      <td>9.420717</td>\n",
              "      <td>5.089219</td>\n",
              "      <td>2.237368</td>\n",
              "      <td>2.237368</td>\n",
              "      <td>1.155580</td>\n",
              "      <td>-2.03</td>\n",
              "      <td>14.032617</td>\n",
              "      <td>6.052775</td>\n",
              "      <td>3.230833</td>\n",
              "      <td>4.718682</td>\n",
              "      <td>[257.10117058 257.246        8.           8.  ...</td>\n",
              "    </tr>\n",
              "  </tbody>\n",
              "</table>\n",
              "</div>\n",
              "      <button class=\"colab-df-convert\" onclick=\"convertToInteractive('df-d8adf5fb-8216-4c05-ad28-3f874e8eb098')\"\n",
              "              title=\"Convert this dataframe to an interactive table.\"\n",
              "              style=\"display:none;\">\n",
              "        \n",
              "  <svg xmlns=\"http://www.w3.org/2000/svg\" height=\"24px\"viewBox=\"0 0 24 24\"\n",
              "       width=\"24px\">\n",
              "    <path d=\"M0 0h24v24H0V0z\" fill=\"none\"/>\n",
              "    <path d=\"M18.56 5.44l.94 2.06.94-2.06 2.06-.94-2.06-.94-.94-2.06-.94 2.06-2.06.94zm-11 1L8.5 8.5l.94-2.06 2.06-.94-2.06-.94L8.5 2.5l-.94 2.06-2.06.94zm10 10l.94 2.06.94-2.06 2.06-.94-2.06-.94-.94-2.06-.94 2.06-2.06.94z\"/><path d=\"M17.41 7.96l-1.37-1.37c-.4-.4-.92-.59-1.43-.59-.52 0-1.04.2-1.43.59L10.3 9.45l-7.72 7.72c-.78.78-.78 2.05 0 2.83L4 21.41c.39.39.9.59 1.41.59.51 0 1.02-.2 1.41-.59l7.78-7.78 2.81-2.81c.8-.78.8-2.07 0-2.86zM5.41 20L4 18.59l7.72-7.72 1.47 1.35L5.41 20z\"/>\n",
              "  </svg>\n",
              "      </button>\n",
              "      \n",
              "  <style>\n",
              "    .colab-df-container {\n",
              "      display:flex;\n",
              "      flex-wrap:wrap;\n",
              "      gap: 12px;\n",
              "    }\n",
              "\n",
              "    .colab-df-convert {\n",
              "      background-color: #E8F0FE;\n",
              "      border: none;\n",
              "      border-radius: 50%;\n",
              "      cursor: pointer;\n",
              "      display: none;\n",
              "      fill: #1967D2;\n",
              "      height: 32px;\n",
              "      padding: 0 0 0 0;\n",
              "      width: 32px;\n",
              "    }\n",
              "\n",
              "    .colab-df-convert:hover {\n",
              "      background-color: #E2EBFA;\n",
              "      box-shadow: 0px 1px 2px rgba(60, 64, 67, 0.3), 0px 1px 3px 1px rgba(60, 64, 67, 0.15);\n",
              "      fill: #174EA6;\n",
              "    }\n",
              "\n",
              "    [theme=dark] .colab-df-convert {\n",
              "      background-color: #3B4455;\n",
              "      fill: #D2E3FC;\n",
              "    }\n",
              "\n",
              "    [theme=dark] .colab-df-convert:hover {\n",
              "      background-color: #434B5C;\n",
              "      box-shadow: 0px 1px 3px 1px rgba(0, 0, 0, 0.15);\n",
              "      filter: drop-shadow(0px 1px 2px rgba(0, 0, 0, 0.3));\n",
              "      fill: #FFFFFF;\n",
              "    }\n",
              "  </style>\n",
              "\n",
              "      <script>\n",
              "        const buttonEl =\n",
              "          document.querySelector('#df-d8adf5fb-8216-4c05-ad28-3f874e8eb098 button.colab-df-convert');\n",
              "        buttonEl.style.display =\n",
              "          google.colab.kernel.accessAllowed ? 'block' : 'none';\n",
              "\n",
              "        async function convertToInteractive(key) {\n",
              "          const element = document.querySelector('#df-d8adf5fb-8216-4c05-ad28-3f874e8eb098');\n",
              "          const dataTable =\n",
              "            await google.colab.kernel.invokeFunction('convertToInteractive',\n",
              "                                                     [key], {});\n",
              "          if (!dataTable) return;\n",
              "\n",
              "          const docLinkHtml = 'Like what you see? Visit the ' +\n",
              "            '<a target=\"_blank\" href=https://colab.research.google.com/notebooks/data_table.ipynb>data table notebook</a>'\n",
              "            + ' to learn more about interactive tables.';\n",
              "          element.innerHTML = '';\n",
              "          dataTable['output_type'] = 'display_data';\n",
              "          await google.colab.output.renderOutput(dataTable, element);\n",
              "          const docLink = document.createElement('div');\n",
              "          docLink.innerHTML = docLinkHtml;\n",
              "          element.appendChild(docLink);\n",
              "        }\n",
              "      </script>\n",
              "    </div>\n",
              "  </div>\n",
              "  "
            ],
            "text/plain": [
              "   Unnamed: 0  ...                                        descriptors\n",
              "0           0  ...  [ 5.28259737e+02  5.28617000e+02  1.10000000e+...\n",
              "1           1  ...  [ 2.69060742e+02  2.69731000e+02  2.00000000e+...\n",
              "2           2  ...  [257.10117058 257.246        8.           8.  ...\n",
              "\n",
              "[3 rows x 47 columns]"
            ]
          },
          "metadata": {},
          "execution_count": 397
        }
      ]
    },
    {
      "cell_type": "code",
      "source": [
        "train.info()"
      ],
      "metadata": {
        "colab": {
          "base_uri": "https://localhost:8080/"
        },
        "id": "2y-nNY9rmU0z",
        "outputId": "e41ad14b-3b07-4c39-9d44-dd2531fd550a"
      },
      "execution_count": 398,
      "outputs": [
        {
          "output_type": "stream",
          "name": "stdout",
          "text": [
            "<class 'pandas.core.frame.DataFrame'>\n",
            "RangeIndex: 5557 entries, 0 to 5556\n",
            "Data columns (total 48 columns):\n",
            " #   Column                           Non-Null Count  Dtype  \n",
            "---  ------                           --------------  -----  \n",
            " 0   Unnamed: 0                       5557 non-null   int64  \n",
            " 1   Unnamed: 0.1                     5557 non-null   int64  \n",
            " 2   Smiles                           5557 non-null   object \n",
            " 3   Active                           5557 non-null   bool   \n",
            " 4   exactmw                          5557 non-null   float64\n",
            " 5   amw                              5557 non-null   float64\n",
            " 6   lipinskiHBA                      5557 non-null   float64\n",
            " 7   lipinskiHBD                      5557 non-null   float64\n",
            " 8   NumRotatableBonds                5557 non-null   float64\n",
            " 9   NumHBD                           5557 non-null   float64\n",
            " 10  NumHBA                           5557 non-null   float64\n",
            " 11  NumHeavyAtoms                    5557 non-null   float64\n",
            " 12  NumAtoms                         5557 non-null   float64\n",
            " 13  NumHeteroatoms                   5557 non-null   float64\n",
            " 14  NumAmideBonds                    5557 non-null   float64\n",
            " 15  FractionCSP3                     5557 non-null   float64\n",
            " 16  NumRings                         5557 non-null   float64\n",
            " 17  NumAromaticRings                 5557 non-null   float64\n",
            " 18  NumAliphaticRings                5557 non-null   float64\n",
            " 19  NumSaturatedRings                5557 non-null   float64\n",
            " 20  NumHeterocycles                  5557 non-null   float64\n",
            " 21  NumAromaticHeterocycles          5557 non-null   float64\n",
            " 22  NumSaturatedHeterocycles         5557 non-null   float64\n",
            " 23  NumAliphaticHeterocycles         5557 non-null   float64\n",
            " 24  NumSpiroAtoms                    5557 non-null   float64\n",
            " 25  NumBridgeheadAtoms               5557 non-null   float64\n",
            " 26  NumAtomStereoCenters             5557 non-null   float64\n",
            " 27  NumUnspecifiedAtomStereoCenters  5557 non-null   float64\n",
            " 28  labuteASA                        5557 non-null   float64\n",
            " 29  tpsa                             5557 non-null   float64\n",
            " 30  CrippenClogP                     5557 non-null   float64\n",
            " 31  CrippenMR                        5557 non-null   float64\n",
            " 32  chi0v                            5557 non-null   float64\n",
            " 33  chi1v                            5557 non-null   float64\n",
            " 34  chi2v                            5557 non-null   float64\n",
            " 35  chi3v                            5557 non-null   float64\n",
            " 36  chi4v                            5557 non-null   float64\n",
            " 37  chi0n                            5557 non-null   float64\n",
            " 38  chi1n                            5557 non-null   float64\n",
            " 39  chi2n                            5557 non-null   float64\n",
            " 40  chi3n                            5557 non-null   float64\n",
            " 41  chi4n                            5557 non-null   float64\n",
            " 42  hallKierAlpha                    5557 non-null   float64\n",
            " 43  kappa1                           5557 non-null   float64\n",
            " 44  kappa2                           5557 non-null   float64\n",
            " 45  kappa3                           5557 non-null   float64\n",
            " 46  Phi                              5557 non-null   float64\n",
            " 47  descriptors                      5557 non-null   object \n",
            "dtypes: bool(1), float64(43), int64(2), object(2)\n",
            "memory usage: 2.0+ MB\n"
          ]
        }
      ]
    },
    {
      "cell_type": "code",
      "source": [
        "test.info()"
      ],
      "metadata": {
        "colab": {
          "base_uri": "https://localhost:8080/"
        },
        "id": "jyKH3gX8mbDP",
        "outputId": "4f9e5f66-520c-4be8-a01f-3a72525201e8"
      },
      "execution_count": 399,
      "outputs": [
        {
          "output_type": "stream",
          "name": "stdout",
          "text": [
            "<class 'pandas.core.frame.DataFrame'>\n",
            "RangeIndex: 1614 entries, 0 to 1613\n",
            "Data columns (total 47 columns):\n",
            " #   Column                           Non-Null Count  Dtype  \n",
            "---  ------                           --------------  -----  \n",
            " 0   Unnamed: 0                       1614 non-null   int64  \n",
            " 1   Unnamed: 0.1                     1614 non-null   int64  \n",
            " 2   Smiles                           1614 non-null   object \n",
            " 3   exactmw                          1614 non-null   float64\n",
            " 4   amw                              1614 non-null   float64\n",
            " 5   lipinskiHBA                      1614 non-null   float64\n",
            " 6   lipinskiHBD                      1614 non-null   float64\n",
            " 7   NumRotatableBonds                1614 non-null   float64\n",
            " 8   NumHBD                           1614 non-null   float64\n",
            " 9   NumHBA                           1614 non-null   float64\n",
            " 10  NumHeavyAtoms                    1614 non-null   float64\n",
            " 11  NumAtoms                         1614 non-null   float64\n",
            " 12  NumHeteroatoms                   1614 non-null   float64\n",
            " 13  NumAmideBonds                    1614 non-null   float64\n",
            " 14  FractionCSP3                     1614 non-null   float64\n",
            " 15  NumRings                         1614 non-null   float64\n",
            " 16  NumAromaticRings                 1614 non-null   float64\n",
            " 17  NumAliphaticRings                1614 non-null   float64\n",
            " 18  NumSaturatedRings                1614 non-null   float64\n",
            " 19  NumHeterocycles                  1614 non-null   float64\n",
            " 20  NumAromaticHeterocycles          1614 non-null   float64\n",
            " 21  NumSaturatedHeterocycles         1614 non-null   float64\n",
            " 22  NumAliphaticHeterocycles         1614 non-null   float64\n",
            " 23  NumSpiroAtoms                    1614 non-null   float64\n",
            " 24  NumBridgeheadAtoms               1614 non-null   float64\n",
            " 25  NumAtomStereoCenters             1614 non-null   float64\n",
            " 26  NumUnspecifiedAtomStereoCenters  1614 non-null   float64\n",
            " 27  labuteASA                        1614 non-null   float64\n",
            " 28  tpsa                             1614 non-null   float64\n",
            " 29  CrippenClogP                     1614 non-null   float64\n",
            " 30  CrippenMR                        1614 non-null   float64\n",
            " 31  chi0v                            1614 non-null   float64\n",
            " 32  chi1v                            1614 non-null   float64\n",
            " 33  chi2v                            1614 non-null   float64\n",
            " 34  chi3v                            1614 non-null   float64\n",
            " 35  chi4v                            1614 non-null   float64\n",
            " 36  chi0n                            1614 non-null   float64\n",
            " 37  chi1n                            1614 non-null   float64\n",
            " 38  chi2n                            1614 non-null   float64\n",
            " 39  chi3n                            1614 non-null   float64\n",
            " 40  chi4n                            1614 non-null   float64\n",
            " 41  hallKierAlpha                    1614 non-null   float64\n",
            " 42  kappa1                           1614 non-null   float64\n",
            " 43  kappa2                           1614 non-null   float64\n",
            " 44  kappa3                           1614 non-null   float64\n",
            " 45  Phi                              1614 non-null   float64\n",
            " 46  descriptors                      1614 non-null   object \n",
            "dtypes: float64(43), int64(2), object(2)\n",
            "memory usage: 592.8+ KB\n"
          ]
        }
      ]
    },
    {
      "cell_type": "code",
      "source": [
        "train.drop(columns=['Unnamed: 0', 'Unnamed: 0.1', 'Smiles'], inplace=True)\n",
        "test.drop(columns=['Unnamed: 0', 'Unnamed: 0.1', 'Smiles'], inplace=True)"
      ],
      "metadata": {
        "id": "ilWh10xgmdN2"
      },
      "execution_count": 400,
      "outputs": []
    },
    {
      "cell_type": "code",
      "source": [
        "train.drop(columns=['descriptors'], inplace=True)\n",
        "test.drop(columns=['descriptors'], inplace=True)"
      ],
      "metadata": {
        "id": "vtuxsn8xnDpt"
      },
      "execution_count": 401,
      "outputs": []
    },
    {
      "cell_type": "code",
      "source": [
        "test.columns.value_counts().sum()"
      ],
      "metadata": {
        "colab": {
          "base_uri": "https://localhost:8080/"
        },
        "id": "YjPeu5ZNnnFd",
        "outputId": "756fdd0b-c65d-4ceb-d6e7-f2fed4503321"
      },
      "execution_count": 402,
      "outputs": [
        {
          "output_type": "execute_result",
          "data": {
            "text/plain": [
              "43"
            ]
          },
          "metadata": {},
          "execution_count": 402
        }
      ]
    },
    {
      "cell_type": "code",
      "source": [
        "train.columns.value_counts().sum()"
      ],
      "metadata": {
        "colab": {
          "base_uri": "https://localhost:8080/"
        },
        "id": "l_ag7CQbnvpl",
        "outputId": "f060a18a-5e24-4aa8-e2bc-cc7c80dfb137"
      },
      "execution_count": 403,
      "outputs": [
        {
          "output_type": "execute_result",
          "data": {
            "text/plain": [
              "44"
            ]
          },
          "metadata": {},
          "execution_count": 403
        }
      ]
    },
    {
      "cell_type": "code",
      "source": [
        "train.columns"
      ],
      "metadata": {
        "colab": {
          "base_uri": "https://localhost:8080/"
        },
        "id": "xZAyO0Hqn_q-",
        "outputId": "783dd575-3181-4a9e-c64b-d22204820730"
      },
      "execution_count": 404,
      "outputs": [
        {
          "output_type": "execute_result",
          "data": {
            "text/plain": [
              "Index(['Active', 'exactmw', 'amw', 'lipinskiHBA', 'lipinskiHBD',\n",
              "       'NumRotatableBonds', 'NumHBD', 'NumHBA', 'NumHeavyAtoms', 'NumAtoms',\n",
              "       'NumHeteroatoms', 'NumAmideBonds', 'FractionCSP3', 'NumRings',\n",
              "       'NumAromaticRings', 'NumAliphaticRings', 'NumSaturatedRings',\n",
              "       'NumHeterocycles', 'NumAromaticHeterocycles',\n",
              "       'NumSaturatedHeterocycles', 'NumAliphaticHeterocycles', 'NumSpiroAtoms',\n",
              "       'NumBridgeheadAtoms', 'NumAtomStereoCenters',\n",
              "       'NumUnspecifiedAtomStereoCenters', 'labuteASA', 'tpsa', 'CrippenClogP',\n",
              "       'CrippenMR', 'chi0v', 'chi1v', 'chi2v', 'chi3v', 'chi4v', 'chi0n',\n",
              "       'chi1n', 'chi2n', 'chi3n', 'chi4n', 'hallKierAlpha', 'kappa1', 'kappa2',\n",
              "       'kappa3', 'Phi'],\n",
              "      dtype='object')"
            ]
          },
          "metadata": {},
          "execution_count": 404
        }
      ]
    },
    {
      "cell_type": "code",
      "source": [
        "test.columns"
      ],
      "metadata": {
        "colab": {
          "base_uri": "https://localhost:8080/"
        },
        "id": "1usb5QjZoCYR",
        "outputId": "f2e69fc0-369b-480c-e735-1014280ff5dc"
      },
      "execution_count": 405,
      "outputs": [
        {
          "output_type": "execute_result",
          "data": {
            "text/plain": [
              "Index(['exactmw', 'amw', 'lipinskiHBA', 'lipinskiHBD', 'NumRotatableBonds',\n",
              "       'NumHBD', 'NumHBA', 'NumHeavyAtoms', 'NumAtoms', 'NumHeteroatoms',\n",
              "       'NumAmideBonds', 'FractionCSP3', 'NumRings', 'NumAromaticRings',\n",
              "       'NumAliphaticRings', 'NumSaturatedRings', 'NumHeterocycles',\n",
              "       'NumAromaticHeterocycles', 'NumSaturatedHeterocycles',\n",
              "       'NumAliphaticHeterocycles', 'NumSpiroAtoms', 'NumBridgeheadAtoms',\n",
              "       'NumAtomStereoCenters', 'NumUnspecifiedAtomStereoCenters', 'labuteASA',\n",
              "       'tpsa', 'CrippenClogP', 'CrippenMR', 'chi0v', 'chi1v', 'chi2v', 'chi3v',\n",
              "       'chi4v', 'chi0n', 'chi1n', 'chi2n', 'chi3n', 'chi4n', 'hallKierAlpha',\n",
              "       'kappa1', 'kappa2', 'kappa3', 'Phi'],\n",
              "      dtype='object')"
            ]
          },
          "metadata": {},
          "execution_count": 405
        }
      ]
    },
    {
      "cell_type": "code",
      "source": [
        "# we need to seperate our data into indepdent and dependent variable before feature scaling.\n",
        "for i in train.columns:\n",
        "  if i not in test.columns:\n",
        "    print(i)"
      ],
      "metadata": {
        "colab": {
          "base_uri": "https://localhost:8080/"
        },
        "id": "kg8Iev6loE_q",
        "outputId": "f20b2ee8-cd1a-4cc0-adaa-1315848fcef4"
      },
      "execution_count": 406,
      "outputs": [
        {
          "output_type": "stream",
          "name": "stdout",
          "text": [
            "Active\n"
          ]
        }
      ]
    },
    {
      "cell_type": "code",
      "source": [
        "train_y = train['Active']\n",
        "train_x = train.drop(columns=['Active'])"
      ],
      "metadata": {
        "id": "8pcRV9N4obXm"
      },
      "execution_count": 407,
      "outputs": []
    },
    {
      "cell_type": "code",
      "source": [
        "from sklearn.preprocessing import LabelEncoder\n",
        "le = LabelEncoder()\n",
        "train_y = le.fit_transform(train_y)"
      ],
      "metadata": {
        "id": "-f8D82bctuWL"
      },
      "execution_count": 408,
      "outputs": []
    },
    {
      "cell_type": "markdown",
      "source": [
        "### Feature scaling"
      ],
      "metadata": {
        "id": "hU1jvVVnm7ln"
      }
    },
    {
      "cell_type": "code",
      "source": [
        "from sklearn.preprocessing import StandardScaler\n",
        "sc = StandardScaler()\n",
        "train_x = sc.fit_transform(train_x)\n",
        "test = sc.transform(test)"
      ],
      "metadata": {
        "id": "T-VWh9g1m-JE"
      },
      "execution_count": 409,
      "outputs": []
    },
    {
      "cell_type": "markdown",
      "source": [
        "### Principal Component Analysis"
      ],
      "metadata": {
        "id": "gTk2ByVesN70"
      }
    },
    {
      "cell_type": "code",
      "source": [
        "from sklearn.decomposition import PCA\n",
        "pca = PCA(n_components=30)\n",
        "train_pca = pca.fit_transform(train_x)\n",
        "test_pca = pca.transform(test)"
      ],
      "metadata": {
        "id": "wUNE_i0esSyx"
      },
      "execution_count": 410,
      "outputs": []
    },
    {
      "cell_type": "code",
      "source": [
        "train_pca"
      ],
      "metadata": {
        "colab": {
          "base_uri": "https://localhost:8080/"
        },
        "id": "pAWXHILpsuZl",
        "outputId": "500e5e4b-28de-4fc1-b57f-45936964cf10"
      },
      "execution_count": 411,
      "outputs": [
        {
          "output_type": "execute_result",
          "data": {
            "text/plain": [
              "array([[-4.58015651e+00, -5.53559453e-01,  2.58483740e-01, ...,\n",
              "        -7.73108787e-02, -3.20263444e-02, -2.39306582e-02],\n",
              "       [-3.00356690e+00,  1.58363750e+00,  6.97581993e-01, ...,\n",
              "         6.63440144e-02,  1.85991685e-02,  3.77429536e-02],\n",
              "       [ 1.28638174e+00, -3.67948739e-01, -5.12212359e-01, ...,\n",
              "        -7.52031530e-02, -4.38172521e-02,  1.50528403e-01],\n",
              "       ...,\n",
              "       [-6.02558242e+00, -3.95429809e-01, -3.26395580e-01, ...,\n",
              "        -2.01450333e-03,  3.57057868e-02,  1.94103773e-02],\n",
              "       [ 2.34308668e+00,  2.95294747e-01, -2.11930854e+00, ...,\n",
              "         2.00690306e-02,  1.27669073e-01,  1.58136407e-02],\n",
              "       [-2.77960670e+00, -8.81094662e-01,  8.76435238e-01, ...,\n",
              "        -2.58684694e-02, -1.19808455e-01,  7.97131931e-02]])"
            ]
          },
          "metadata": {},
          "execution_count": 411
        }
      ]
    },
    {
      "cell_type": "code",
      "source": [
        "test_pca"
      ],
      "metadata": {
        "colab": {
          "base_uri": "https://localhost:8080/"
        },
        "id": "K0pnvK0GyV3f",
        "outputId": "a1d8056e-afd6-4096-c0c0-974d74537a50"
      },
      "execution_count": 412,
      "outputs": [
        {
          "output_type": "execute_result",
          "data": {
            "text/plain": [
              "array([[ 5.20870649e+00,  5.80678518e-01, -2.57920047e+00, ...,\n",
              "        -2.81842998e-02,  1.59940277e-02,  1.06998003e-01],\n",
              "       [-3.50541509e+00, -3.21959556e-01, -1.87890329e+00, ...,\n",
              "        -4.17793454e-03,  4.54743155e-02,  1.09795863e-02],\n",
              "       [-2.69462740e+00, -2.44931285e+00,  3.76769301e+00, ...,\n",
              "         1.81101402e-02, -5.30082785e-02,  8.61194245e-04],\n",
              "       ...,\n",
              "       [ 3.48906596e+00,  3.78936652e+00,  9.02246626e-01, ...,\n",
              "         3.87752119e-02,  8.76439481e-02, -2.93708535e-02],\n",
              "       [-1.72090727e+00, -1.63704714e+00, -1.07780979e+00, ...,\n",
              "        -9.40076947e-02, -9.63040426e-02, -2.99837675e-02],\n",
              "       [-1.36207337e+00, -7.82118979e-02, -9.55403891e-01, ...,\n",
              "         9.76566607e-02, -4.49556479e-03, -5.01673769e-02]])"
            ]
          },
          "metadata": {},
          "execution_count": 412
        }
      ]
    },
    {
      "cell_type": "markdown",
      "source": [
        "### Train Test Split"
      ],
      "metadata": {
        "id": "MA3rmgjGtFkM"
      }
    },
    {
      "cell_type": "code",
      "source": [
        "from sklearn.model_selection import train_test_split\n",
        "x_train, x_val, y_train, y_val = train_test_split(train_pca, train_y, test_size=0.2,\n",
        "                                                  random_state=42, stratify=train_y)"
      ],
      "metadata": {
        "id": "7sxDWaoFtIi6"
      },
      "execution_count": 413,
      "outputs": []
    },
    {
      "cell_type": "markdown",
      "source": [
        "startifying the data will put out the data with balanced number of classes in both validation and training set. let's verify this thing.."
      ],
      "metadata": {
        "id": "3ny2UEluuVYT"
      }
    },
    {
      "cell_type": "code",
      "source": [
        "df1 = pd.DataFrame(y_train, columns=['Active'])\n",
        "df2 = pd.DataFrame(y_val, columns=['Active'])"
      ],
      "metadata": {
        "id": "jqCslrytuQSZ"
      },
      "execution_count": 414,
      "outputs": []
    },
    {
      "cell_type": "code",
      "source": [
        "df1.head()"
      ],
      "metadata": {
        "colab": {
          "base_uri": "https://localhost:8080/",
          "height": 206
        },
        "id": "MsFvsXNYu7iY",
        "outputId": "6bc2ea66-d2f4-4c36-aaa6-c04f6a380443"
      },
      "execution_count": 415,
      "outputs": [
        {
          "output_type": "execute_result",
          "data": {
            "text/html": [
              "\n",
              "  <div id=\"df-ded30c78-8a34-43d1-a77a-fe5a4c44a808\">\n",
              "    <div class=\"colab-df-container\">\n",
              "      <div>\n",
              "<style scoped>\n",
              "    .dataframe tbody tr th:only-of-type {\n",
              "        vertical-align: middle;\n",
              "    }\n",
              "\n",
              "    .dataframe tbody tr th {\n",
              "        vertical-align: top;\n",
              "    }\n",
              "\n",
              "    .dataframe thead th {\n",
              "        text-align: right;\n",
              "    }\n",
              "</style>\n",
              "<table border=\"1\" class=\"dataframe\">\n",
              "  <thead>\n",
              "    <tr style=\"text-align: right;\">\n",
              "      <th></th>\n",
              "      <th>Active</th>\n",
              "    </tr>\n",
              "  </thead>\n",
              "  <tbody>\n",
              "    <tr>\n",
              "      <th>0</th>\n",
              "      <td>0</td>\n",
              "    </tr>\n",
              "    <tr>\n",
              "      <th>1</th>\n",
              "      <td>0</td>\n",
              "    </tr>\n",
              "    <tr>\n",
              "      <th>2</th>\n",
              "      <td>0</td>\n",
              "    </tr>\n",
              "    <tr>\n",
              "      <th>3</th>\n",
              "      <td>0</td>\n",
              "    </tr>\n",
              "    <tr>\n",
              "      <th>4</th>\n",
              "      <td>0</td>\n",
              "    </tr>\n",
              "  </tbody>\n",
              "</table>\n",
              "</div>\n",
              "      <button class=\"colab-df-convert\" onclick=\"convertToInteractive('df-ded30c78-8a34-43d1-a77a-fe5a4c44a808')\"\n",
              "              title=\"Convert this dataframe to an interactive table.\"\n",
              "              style=\"display:none;\">\n",
              "        \n",
              "  <svg xmlns=\"http://www.w3.org/2000/svg\" height=\"24px\"viewBox=\"0 0 24 24\"\n",
              "       width=\"24px\">\n",
              "    <path d=\"M0 0h24v24H0V0z\" fill=\"none\"/>\n",
              "    <path d=\"M18.56 5.44l.94 2.06.94-2.06 2.06-.94-2.06-.94-.94-2.06-.94 2.06-2.06.94zm-11 1L8.5 8.5l.94-2.06 2.06-.94-2.06-.94L8.5 2.5l-.94 2.06-2.06.94zm10 10l.94 2.06.94-2.06 2.06-.94-2.06-.94-.94-2.06-.94 2.06-2.06.94z\"/><path d=\"M17.41 7.96l-1.37-1.37c-.4-.4-.92-.59-1.43-.59-.52 0-1.04.2-1.43.59L10.3 9.45l-7.72 7.72c-.78.78-.78 2.05 0 2.83L4 21.41c.39.39.9.59 1.41.59.51 0 1.02-.2 1.41-.59l7.78-7.78 2.81-2.81c.8-.78.8-2.07 0-2.86zM5.41 20L4 18.59l7.72-7.72 1.47 1.35L5.41 20z\"/>\n",
              "  </svg>\n",
              "      </button>\n",
              "      \n",
              "  <style>\n",
              "    .colab-df-container {\n",
              "      display:flex;\n",
              "      flex-wrap:wrap;\n",
              "      gap: 12px;\n",
              "    }\n",
              "\n",
              "    .colab-df-convert {\n",
              "      background-color: #E8F0FE;\n",
              "      border: none;\n",
              "      border-radius: 50%;\n",
              "      cursor: pointer;\n",
              "      display: none;\n",
              "      fill: #1967D2;\n",
              "      height: 32px;\n",
              "      padding: 0 0 0 0;\n",
              "      width: 32px;\n",
              "    }\n",
              "\n",
              "    .colab-df-convert:hover {\n",
              "      background-color: #E2EBFA;\n",
              "      box-shadow: 0px 1px 2px rgba(60, 64, 67, 0.3), 0px 1px 3px 1px rgba(60, 64, 67, 0.15);\n",
              "      fill: #174EA6;\n",
              "    }\n",
              "\n",
              "    [theme=dark] .colab-df-convert {\n",
              "      background-color: #3B4455;\n",
              "      fill: #D2E3FC;\n",
              "    }\n",
              "\n",
              "    [theme=dark] .colab-df-convert:hover {\n",
              "      background-color: #434B5C;\n",
              "      box-shadow: 0px 1px 3px 1px rgba(0, 0, 0, 0.15);\n",
              "      filter: drop-shadow(0px 1px 2px rgba(0, 0, 0, 0.3));\n",
              "      fill: #FFFFFF;\n",
              "    }\n",
              "  </style>\n",
              "\n",
              "      <script>\n",
              "        const buttonEl =\n",
              "          document.querySelector('#df-ded30c78-8a34-43d1-a77a-fe5a4c44a808 button.colab-df-convert');\n",
              "        buttonEl.style.display =\n",
              "          google.colab.kernel.accessAllowed ? 'block' : 'none';\n",
              "\n",
              "        async function convertToInteractive(key) {\n",
              "          const element = document.querySelector('#df-ded30c78-8a34-43d1-a77a-fe5a4c44a808');\n",
              "          const dataTable =\n",
              "            await google.colab.kernel.invokeFunction('convertToInteractive',\n",
              "                                                     [key], {});\n",
              "          if (!dataTable) return;\n",
              "\n",
              "          const docLinkHtml = 'Like what you see? Visit the ' +\n",
              "            '<a target=\"_blank\" href=https://colab.research.google.com/notebooks/data_table.ipynb>data table notebook</a>'\n",
              "            + ' to learn more about interactive tables.';\n",
              "          element.innerHTML = '';\n",
              "          dataTable['output_type'] = 'display_data';\n",
              "          await google.colab.output.renderOutput(dataTable, element);\n",
              "          const docLink = document.createElement('div');\n",
              "          docLink.innerHTML = docLinkHtml;\n",
              "          element.appendChild(docLink);\n",
              "        }\n",
              "      </script>\n",
              "    </div>\n",
              "  </div>\n",
              "  "
            ],
            "text/plain": [
              "   Active\n",
              "0       0\n",
              "1       0\n",
              "2       0\n",
              "3       0\n",
              "4       0"
            ]
          },
          "metadata": {},
          "execution_count": 415
        }
      ]
    },
    {
      "cell_type": "code",
      "source": [
        "df2.head()"
      ],
      "metadata": {
        "colab": {
          "base_uri": "https://localhost:8080/",
          "height": 206
        },
        "id": "A9Z4UmbEvB7Y",
        "outputId": "c3f12cd7-a22e-48d5-ba87-81a51c3c2dc6"
      },
      "execution_count": 416,
      "outputs": [
        {
          "output_type": "execute_result",
          "data": {
            "text/html": [
              "\n",
              "  <div id=\"df-32abd329-0102-4078-a65f-737bb18d5699\">\n",
              "    <div class=\"colab-df-container\">\n",
              "      <div>\n",
              "<style scoped>\n",
              "    .dataframe tbody tr th:only-of-type {\n",
              "        vertical-align: middle;\n",
              "    }\n",
              "\n",
              "    .dataframe tbody tr th {\n",
              "        vertical-align: top;\n",
              "    }\n",
              "\n",
              "    .dataframe thead th {\n",
              "        text-align: right;\n",
              "    }\n",
              "</style>\n",
              "<table border=\"1\" class=\"dataframe\">\n",
              "  <thead>\n",
              "    <tr style=\"text-align: right;\">\n",
              "      <th></th>\n",
              "      <th>Active</th>\n",
              "    </tr>\n",
              "  </thead>\n",
              "  <tbody>\n",
              "    <tr>\n",
              "      <th>0</th>\n",
              "      <td>0</td>\n",
              "    </tr>\n",
              "    <tr>\n",
              "      <th>1</th>\n",
              "      <td>0</td>\n",
              "    </tr>\n",
              "    <tr>\n",
              "      <th>2</th>\n",
              "      <td>0</td>\n",
              "    </tr>\n",
              "    <tr>\n",
              "      <th>3</th>\n",
              "      <td>0</td>\n",
              "    </tr>\n",
              "    <tr>\n",
              "      <th>4</th>\n",
              "      <td>0</td>\n",
              "    </tr>\n",
              "  </tbody>\n",
              "</table>\n",
              "</div>\n",
              "      <button class=\"colab-df-convert\" onclick=\"convertToInteractive('df-32abd329-0102-4078-a65f-737bb18d5699')\"\n",
              "              title=\"Convert this dataframe to an interactive table.\"\n",
              "              style=\"display:none;\">\n",
              "        \n",
              "  <svg xmlns=\"http://www.w3.org/2000/svg\" height=\"24px\"viewBox=\"0 0 24 24\"\n",
              "       width=\"24px\">\n",
              "    <path d=\"M0 0h24v24H0V0z\" fill=\"none\"/>\n",
              "    <path d=\"M18.56 5.44l.94 2.06.94-2.06 2.06-.94-2.06-.94-.94-2.06-.94 2.06-2.06.94zm-11 1L8.5 8.5l.94-2.06 2.06-.94-2.06-.94L8.5 2.5l-.94 2.06-2.06.94zm10 10l.94 2.06.94-2.06 2.06-.94-2.06-.94-.94-2.06-.94 2.06-2.06.94z\"/><path d=\"M17.41 7.96l-1.37-1.37c-.4-.4-.92-.59-1.43-.59-.52 0-1.04.2-1.43.59L10.3 9.45l-7.72 7.72c-.78.78-.78 2.05 0 2.83L4 21.41c.39.39.9.59 1.41.59.51 0 1.02-.2 1.41-.59l7.78-7.78 2.81-2.81c.8-.78.8-2.07 0-2.86zM5.41 20L4 18.59l7.72-7.72 1.47 1.35L5.41 20z\"/>\n",
              "  </svg>\n",
              "      </button>\n",
              "      \n",
              "  <style>\n",
              "    .colab-df-container {\n",
              "      display:flex;\n",
              "      flex-wrap:wrap;\n",
              "      gap: 12px;\n",
              "    }\n",
              "\n",
              "    .colab-df-convert {\n",
              "      background-color: #E8F0FE;\n",
              "      border: none;\n",
              "      border-radius: 50%;\n",
              "      cursor: pointer;\n",
              "      display: none;\n",
              "      fill: #1967D2;\n",
              "      height: 32px;\n",
              "      padding: 0 0 0 0;\n",
              "      width: 32px;\n",
              "    }\n",
              "\n",
              "    .colab-df-convert:hover {\n",
              "      background-color: #E2EBFA;\n",
              "      box-shadow: 0px 1px 2px rgba(60, 64, 67, 0.3), 0px 1px 3px 1px rgba(60, 64, 67, 0.15);\n",
              "      fill: #174EA6;\n",
              "    }\n",
              "\n",
              "    [theme=dark] .colab-df-convert {\n",
              "      background-color: #3B4455;\n",
              "      fill: #D2E3FC;\n",
              "    }\n",
              "\n",
              "    [theme=dark] .colab-df-convert:hover {\n",
              "      background-color: #434B5C;\n",
              "      box-shadow: 0px 1px 3px 1px rgba(0, 0, 0, 0.15);\n",
              "      filter: drop-shadow(0px 1px 2px rgba(0, 0, 0, 0.3));\n",
              "      fill: #FFFFFF;\n",
              "    }\n",
              "  </style>\n",
              "\n",
              "      <script>\n",
              "        const buttonEl =\n",
              "          document.querySelector('#df-32abd329-0102-4078-a65f-737bb18d5699 button.colab-df-convert');\n",
              "        buttonEl.style.display =\n",
              "          google.colab.kernel.accessAllowed ? 'block' : 'none';\n",
              "\n",
              "        async function convertToInteractive(key) {\n",
              "          const element = document.querySelector('#df-32abd329-0102-4078-a65f-737bb18d5699');\n",
              "          const dataTable =\n",
              "            await google.colab.kernel.invokeFunction('convertToInteractive',\n",
              "                                                     [key], {});\n",
              "          if (!dataTable) return;\n",
              "\n",
              "          const docLinkHtml = 'Like what you see? Visit the ' +\n",
              "            '<a target=\"_blank\" href=https://colab.research.google.com/notebooks/data_table.ipynb>data table notebook</a>'\n",
              "            + ' to learn more about interactive tables.';\n",
              "          element.innerHTML = '';\n",
              "          dataTable['output_type'] = 'display_data';\n",
              "          await google.colab.output.renderOutput(dataTable, element);\n",
              "          const docLink = document.createElement('div');\n",
              "          docLink.innerHTML = docLinkHtml;\n",
              "          element.appendChild(docLink);\n",
              "        }\n",
              "      </script>\n",
              "    </div>\n",
              "  </div>\n",
              "  "
            ],
            "text/plain": [
              "   Active\n",
              "0       0\n",
              "1       0\n",
              "2       0\n",
              "3       0\n",
              "4       0"
            ]
          },
          "metadata": {},
          "execution_count": 416
        }
      ]
    },
    {
      "cell_type": "code",
      "source": [
        "plt.figure(figsize=(10,8))\n",
        "df1['Active'].value_counts().plot.pie(autopct=\"%.2f\")"
      ],
      "metadata": {
        "colab": {
          "base_uri": "https://localhost:8080/",
          "height": 483
        },
        "id": "BUTsvJ9qvEXt",
        "outputId": "1274a50a-7ab6-4840-98d4-3c2f561fc747"
      },
      "execution_count": 417,
      "outputs": [
        {
          "output_type": "execute_result",
          "data": {
            "text/plain": [
              "<matplotlib.axes._subplots.AxesSubplot at 0x7fc1a0e94bd0>"
            ]
          },
          "metadata": {},
          "execution_count": 417
        },
        {
          "output_type": "display_data",
          "data": {
            "image/png": "[encoded data removed]",
            "text/plain": [
              "<Figure size 720x576 with 1 Axes>"
            ]
          },
          "metadata": {}
        }
      ]
    },
    {
      "cell_type": "code",
      "source": [
        "plt.figure(figsize=(10,8))\n",
        "df2['Active'].value_counts().plot.pie(autopct=\"%.2f\")"
      ],
      "metadata": {
        "colab": {
          "base_uri": "https://localhost:8080/",
          "height": 483
        },
        "id": "ImxnXaGlvQwZ",
        "outputId": "c9ac8288-83d9-4b58-bcf5-7c66236b64ae"
      },
      "execution_count": 418,
      "outputs": [
        {
          "output_type": "execute_result",
          "data": {
            "text/plain": [
              "<matplotlib.axes._subplots.AxesSubplot at 0x7fc1a0df83d0>"
            ]
          },
          "metadata": {},
          "execution_count": 418
        },
        {
          "output_type": "display_data",
          "data": {
            "image/png": "[encoded data removed]",
            "text/plain": [
              "<Figure size 720x576 with 1 Axes>"
            ]
          },
          "metadata": {}
        }
      ]
    },
    {
      "cell_type": "markdown",
      "source": [
        "from above pie charts, we can see that the percentage of class distribution is same in both training as well as validation data.\n",
        "we do `stratification` in case our data is imbalanced."
      ],
      "metadata": {
        "id": "QTDwcHP9vVRN"
      }
    },
    {
      "cell_type": "markdown",
      "source": [
        "### Random Oversampling"
      ],
      "metadata": {
        "id": "kp53SFFJmwpL"
      }
    },
    {
      "cell_type": "markdown",
      "source": [
        "as our dataset is imbalanced, we will apply Random OverSampling to generate redundant rows which will not contribute to the predictions, but will definitely help us deal with imbalanced class."
      ],
      "metadata": {
        "id": "Te7vOaQFwnbv"
      }
    },
    {
      "cell_type": "code",
      "source": [
        "!pip install -U imbalanced-learn\n",
        "from imblearn.over_sampling import SMOTE\n",
        "ruc = SMOTE(sampling_strategy=1)\n",
        "\"\"\" \n",
        "this will provide us with the classes in equal ratio. \n",
        "we can change the value of sampling_strategy to change class number ratio.\n",
        "\"\"\"\n",
        "x_res, y_res = ruc.fit_resample(x_train, y_train)"
      ],
      "metadata": {
        "colab": {
          "base_uri": "https://localhost:8080/"
        },
        "id": "2wpBxeG3mtQo",
        "outputId": "38a629d1-a2f0-4edd-fd71-541a0f915a9b"
      },
      "execution_count": 419,
      "outputs": [
        {
          "output_type": "stream",
          "name": "stdout",
          "text": [
            "Requirement already satisfied: imbalanced-learn in /usr/local/lib/python3.7/dist-packages (0.9.0)\n",
            "Requirement already satisfied: threadpoolctl>=2.0.0 in /usr/local/lib/python3.7/dist-packages (from imbalanced-learn) (3.1.0)\n",
            "Requirement already satisfied: joblib>=0.11 in /usr/local/lib/python3.7/dist-packages (from imbalanced-learn) (1.1.0)\n",
            "Requirement already satisfied: numpy>=1.14.6 in /usr/local/lib/python3.7/dist-packages (from imbalanced-learn) (1.21.5)\n",
            "Requirement already satisfied: scikit-learn>=1.0.1 in /usr/local/lib/python3.7/dist-packages (from imbalanced-learn) (1.0.2)\n",
            "Requirement already satisfied: scipy>=1.1.0 in /usr/local/lib/python3.7/dist-packages (from imbalanced-learn) (1.4.1)\n"
          ]
        }
      ]
    },
    {
      "cell_type": "code",
      "source": [
        "x_res"
      ],
      "metadata": {
        "colab": {
          "base_uri": "https://localhost:8080/"
        },
        "id": "KErzH7pRxGHM",
        "outputId": "16fff44b-7ba7-407a-b3ef-c616fe6d1d97"
      },
      "execution_count": 420,
      "outputs": [
        {
          "output_type": "execute_result",
          "data": {
            "text/plain": [
              "array([[ 9.03226421e+00,  6.44200277e+00,  5.19837006e-01, ...,\n",
              "        -4.61984019e-02,  4.69441235e-02, -1.44483137e-01],\n",
              "       [ 2.57687187e+00,  1.65477844e+00,  1.12771949e+00, ...,\n",
              "        -6.12462976e-02,  9.82799387e-02, -4.82024358e-02],\n",
              "       [-2.44125953e-01,  5.00081838e+00,  2.74292768e-01, ...,\n",
              "        -2.17568828e-02,  5.97422279e-02,  5.32179982e-02],\n",
              "       ...,\n",
              "       [ 2.63457867e+00, -9.00753144e-01,  3.95082981e-01, ...,\n",
              "         7.97316475e-03, -1.15171660e-01,  7.61643835e-02],\n",
              "       [-3.29400265e+00, -1.28391601e+00, -8.59670709e-02, ...,\n",
              "        -8.72504651e-03,  1.63569935e-02,  7.80440446e-02],\n",
              "       [ 3.74351748e+00, -1.46452120e-02, -1.26832390e+00, ...,\n",
              "         1.43557734e-02,  8.24205665e-03, -4.72064250e-02]])"
            ]
          },
          "metadata": {},
          "execution_count": 420
        }
      ]
    },
    {
      "cell_type": "code",
      "source": [
        "y_res"
      ],
      "metadata": {
        "colab": {
          "base_uri": "https://localhost:8080/"
        },
        "id": "gKqqvz7MxHzH",
        "outputId": "170fac4f-e52d-4bda-eb19-372647e7f32a"
      },
      "execution_count": 421,
      "outputs": [
        {
          "output_type": "execute_result",
          "data": {
            "text/plain": [
              "array([0, 0, 0, ..., 1, 1, 1])"
            ]
          },
          "metadata": {},
          "execution_count": 421
        }
      ]
    },
    {
      "cell_type": "markdown",
      "source": [
        "# XGBoost"
      ],
      "metadata": {
        "id": "hxxSYdHcxLr0"
      }
    },
    {
      "cell_type": "code",
      "source": [
        "import xgboost as xgb\n",
        "XGB = xgb.XGBClassifier()\n",
        "XGB.fit(x_res, y_res)"
      ],
      "metadata": {
        "colab": {
          "base_uri": "https://localhost:8080/"
        },
        "id": "jqxP2Y8axOeH",
        "outputId": "2f43cfd0-ac74-4a03-f114-fd703e94cbdb"
      },
      "execution_count": 422,
      "outputs": [
        {
          "output_type": "execute_result",
          "data": {
            "text/plain": [
              "XGBClassifier()"
            ]
          },
          "metadata": {},
          "execution_count": 422
        }
      ]
    },
    {
      "cell_type": "code",
      "source": [
        "from sklearn.metrics import f1_score\n",
        "y_pred = XGB.predict(x_val)\n",
        "f1 = f1_score(y_val, y_pred)\n",
        "f1"
      ],
      "metadata": {
        "colab": {
          "base_uri": "https://localhost:8080/"
        },
        "id": "pmC0aybRxV8f",
        "outputId": "6f807a7b-9893-4eaf-9939-2a061dda5f8c"
      },
      "execution_count": 423,
      "outputs": [
        {
          "output_type": "execute_result",
          "data": {
            "text/plain": [
              "0.14705882352941174"
            ]
          },
          "metadata": {},
          "execution_count": 423
        }
      ]
    },
    {
      "cell_type": "code",
      "source": [
        "original_prediction = XGB.predict(test_pca)"
      ],
      "metadata": {
        "id": "Nurkhpr7xkEA"
      },
      "execution_count": 424,
      "outputs": []
    },
    {
      "cell_type": "code",
      "source": [
        "original_prediction"
      ],
      "metadata": {
        "colab": {
          "base_uri": "https://localhost:8080/"
        },
        "id": "MXOmEjzqyeC2",
        "outputId": "260c06d4-5f14-4c0c-c219-094bbe2e3a33"
      },
      "execution_count": 425,
      "outputs": [
        {
          "output_type": "execute_result",
          "data": {
            "text/plain": [
              "array([1, 1, 1, ..., 0, 0, 0])"
            ]
          },
          "metadata": {},
          "execution_count": 425
        }
      ]
    },
    {
      "cell_type": "code",
      "source": [
        "df = pd.read_csv(\"submission_4.csv\")"
      ],
      "metadata": {
        "id": "F_Lkpp6Uyg2x"
      },
      "execution_count": 427,
      "outputs": []
    },
    {
      "cell_type": "code",
      "source": [
        "df['Active'] = original_prediction\n",
        "df.head()"
      ],
      "metadata": {
        "id": "lvn4p3Xx6VIv",
        "outputId": "bc0110c3-edf9-4a16-e4a9-6eaae58ef29c",
        "colab": {
          "base_uri": "https://localhost:8080/",
          "height": 206
        }
      },
      "execution_count": 428,
      "outputs": [
        {
          "output_type": "execute_result",
          "data": {
            "text/html": [
              "\n",
              "  <div id=\"df-61b61dc1-64c1-4537-8cf1-38fbca48e97a\">\n",
              "    <div class=\"colab-df-container\">\n",
              "      <div>\n",
              "<style scoped>\n",
              "    .dataframe tbody tr th:only-of-type {\n",
              "        vertical-align: middle;\n",
              "    }\n",
              "\n",
              "    .dataframe tbody tr th {\n",
              "        vertical-align: top;\n",
              "    }\n",
              "\n",
              "    .dataframe thead th {\n",
              "        text-align: right;\n",
              "    }\n",
              "</style>\n",
              "<table border=\"1\" class=\"dataframe\">\n",
              "  <thead>\n",
              "    <tr style=\"text-align: right;\">\n",
              "      <th></th>\n",
              "      <th>Unnamed: 0</th>\n",
              "      <th>Smiles</th>\n",
              "      <th>Active</th>\n",
              "    </tr>\n",
              "  </thead>\n",
              "  <tbody>\n",
              "    <tr>\n",
              "      <th>0</th>\n",
              "      <td>0</td>\n",
              "      <td>COC(=O)Nc1ccc(-c2nc(N3CCOCC3)c3cnn(C4CCN(Cc5cc...</td>\n",
              "      <td>1</td>\n",
              "    </tr>\n",
              "    <tr>\n",
              "      <th>1</th>\n",
              "      <td>1</td>\n",
              "      <td>O=Cc1cn(Cc2ccc(Cl)cc2)c2ccccc12</td>\n",
              "      <td>1</td>\n",
              "    </tr>\n",
              "    <tr>\n",
              "      <th>2</th>\n",
              "      <td>2</td>\n",
              "      <td>NC(CO)C(=O)NNCc1ccc(O)c(O)c1O</td>\n",
              "      <td>1</td>\n",
              "    </tr>\n",
              "    <tr>\n",
              "      <th>3</th>\n",
              "      <td>3</td>\n",
              "      <td>Nc1nc(=O)n([C@H]2C[C@H](O)[C@@H](CO)O2)cc1Cl</td>\n",
              "      <td>1</td>\n",
              "    </tr>\n",
              "    <tr>\n",
              "      <th>4</th>\n",
              "      <td>4</td>\n",
              "      <td>Nc1ccc(C(=O)Nc2cccc(-c3nc(N4CCOCC4)c4oc5ncccc5...</td>\n",
              "      <td>0</td>\n",
              "    </tr>\n",
              "  </tbody>\n",
              "</table>\n",
              "</div>\n",
              "      <button class=\"colab-df-convert\" onclick=\"convertToInteractive('df-61b61dc1-64c1-4537-8cf1-38fbca48e97a')\"\n",
              "              title=\"Convert this dataframe to an interactive table.\"\n",
              "              style=\"display:none;\">\n",
              "        \n",
              "  <svg xmlns=\"http://www.w3.org/2000/svg\" height=\"24px\"viewBox=\"0 0 24 24\"\n",
              "       width=\"24px\">\n",
              "    <path d=\"M0 0h24v24H0V0z\" fill=\"none\"/>\n",
              "    <path d=\"M18.56 5.44l.94 2.06.94-2.06 2.06-.94-2.06-.94-.94-2.06-.94 2.06-2.06.94zm-11 1L8.5 8.5l.94-2.06 2.06-.94-2.06-.94L8.5 2.5l-.94 2.06-2.06.94zm10 10l.94 2.06.94-2.06 2.06-.94-2.06-.94-.94-2.06-.94 2.06-2.06.94z\"/><path d=\"M17.41 7.96l-1.37-1.37c-.4-.4-.92-.59-1.43-.59-.52 0-1.04.2-1.43.59L10.3 9.45l-7.72 7.72c-.78.78-.78 2.05 0 2.83L4 21.41c.39.39.9.59 1.41.59.51 0 1.02-.2 1.41-.59l7.78-7.78 2.81-2.81c.8-.78.8-2.07 0-2.86zM5.41 20L4 18.59l7.72-7.72 1.47 1.35L5.41 20z\"/>\n",
              "  </svg>\n",
              "      </button>\n",
              "      \n",
              "  <style>\n",
              "    .colab-df-container {\n",
              "      display:flex;\n",
              "      flex-wrap:wrap;\n",
              "      gap: 12px;\n",
              "    }\n",
              "\n",
              "    .colab-df-convert {\n",
              "      background-color: #E8F0FE;\n",
              "      border: none;\n",
              "      border-radius: 50%;\n",
              "      cursor: pointer;\n",
              "      display: none;\n",
              "      fill: #1967D2;\n",
              "      height: 32px;\n",
              "      padding: 0 0 0 0;\n",
              "      width: 32px;\n",
              "    }\n",
              "\n",
              "    .colab-df-convert:hover {\n",
              "      background-color: #E2EBFA;\n",
              "      box-shadow: 0px 1px 2px rgba(60, 64, 67, 0.3), 0px 1px 3px 1px rgba(60, 64, 67, 0.15);\n",
              "      fill: #174EA6;\n",
              "    }\n",
              "\n",
              "    [theme=dark] .colab-df-convert {\n",
              "      background-color: #3B4455;\n",
              "      fill: #D2E3FC;\n",
              "    }\n",
              "\n",
              "    [theme=dark] .colab-df-convert:hover {\n",
              "      background-color: #434B5C;\n",
              "      box-shadow: 0px 1px 3px 1px rgba(0, 0, 0, 0.15);\n",
              "      filter: drop-shadow(0px 1px 2px rgba(0, 0, 0, 0.3));\n",
              "      fill: #FFFFFF;\n",
              "    }\n",
              "  </style>\n",
              "\n",
              "      <script>\n",
              "        const buttonEl =\n",
              "          document.querySelector('#df-61b61dc1-64c1-4537-8cf1-38fbca48e97a button.colab-df-convert');\n",
              "        buttonEl.style.display =\n",
              "          google.colab.kernel.accessAllowed ? 'block' : 'none';\n",
              "\n",
              "        async function convertToInteractive(key) {\n",
              "          const element = document.querySelector('#df-61b61dc1-64c1-4537-8cf1-38fbca48e97a');\n",
              "          const dataTable =\n",
              "            await google.colab.kernel.invokeFunction('convertToInteractive',\n",
              "                                                     [key], {});\n",
              "          if (!dataTable) return;\n",
              "\n",
              "          const docLinkHtml = 'Like what you see? Visit the ' +\n",
              "            '<a target=\"_blank\" href=https://colab.research.google.com/notebooks/data_table.ipynb>data table notebook</a>'\n",
              "            + ' to learn more about interactive tables.';\n",
              "          element.innerHTML = '';\n",
              "          dataTable['output_type'] = 'display_data';\n",
              "          await google.colab.output.renderOutput(dataTable, element);\n",
              "          const docLink = document.createElement('div');\n",
              "          docLink.innerHTML = docLinkHtml;\n",
              "          element.appendChild(docLink);\n",
              "        }\n",
              "      </script>\n",
              "    </div>\n",
              "  </div>\n",
              "  "
            ],
            "text/plain": [
              "   Unnamed: 0                                             Smiles  Active\n",
              "0           0  COC(=O)Nc1ccc(-c2nc(N3CCOCC3)c3cnn(C4CCN(Cc5cc...       1\n",
              "1           1                    O=Cc1cn(Cc2ccc(Cl)cc2)c2ccccc12       1\n",
              "2           2                      NC(CO)C(=O)NNCc1ccc(O)c(O)c1O       1\n",
              "3           3       Nc1nc(=O)n([C@H]2C[C@H](O)[C@@H](CO)O2)cc1Cl       1\n",
              "4           4  Nc1ccc(C(=O)Nc2cccc(-c3nc(N4CCOCC4)c4oc5ncccc5...       0"
            ]
          },
          "metadata": {},
          "execution_count": 428
        }
      ]
    },
    {
      "cell_type": "code",
      "source": [
        "df.drop(columns=['Unnamed: 0'], inplace=True)\n",
        "df.head()"
      ],
      "metadata": {
        "id": "W_uk13GU6ey7",
        "outputId": "67fd784c-56a9-40c9-994b-1af419fc0efe",
        "colab": {
          "base_uri": "https://localhost:8080/",
          "height": 206
        }
      },
      "execution_count": 429,
      "outputs": [
        {
          "output_type": "execute_result",
          "data": {
            "text/html": [
              "\n",
              "  <div id=\"df-2ec0792e-05ba-446a-9c65-bdedc541586d\">\n",
              "    <div class=\"colab-df-container\">\n",
              "      <div>\n",
              "<style scoped>\n",
              "    .dataframe tbody tr th:only-of-type {\n",
              "        vertical-align: middle;\n",
              "    }\n",
              "\n",
              "    .dataframe tbody tr th {\n",
              "        vertical-align: top;\n",
              "    }\n",
              "\n",
              "    .dataframe thead th {\n",
              "        text-align: right;\n",
              "    }\n",
              "</style>\n",
              "<table border=\"1\" class=\"dataframe\">\n",
              "  <thead>\n",
              "    <tr style=\"text-align: right;\">\n",
              "      <th></th>\n",
              "      <th>Smiles</th>\n",
              "      <th>Active</th>\n",
              "    </tr>\n",
              "  </thead>\n",
              "  <tbody>\n",
              "    <tr>\n",
              "      <th>0</th>\n",
              "      <td>COC(=O)Nc1ccc(-c2nc(N3CCOCC3)c3cnn(C4CCN(Cc5cc...</td>\n",
              "      <td>1</td>\n",
              "    </tr>\n",
              "    <tr>\n",
              "      <th>1</th>\n",
              "      <td>O=Cc1cn(Cc2ccc(Cl)cc2)c2ccccc12</td>\n",
              "      <td>1</td>\n",
              "    </tr>\n",
              "    <tr>\n",
              "      <th>2</th>\n",
              "      <td>NC(CO)C(=O)NNCc1ccc(O)c(O)c1O</td>\n",
              "      <td>1</td>\n",
              "    </tr>\n",
              "    <tr>\n",
              "      <th>3</th>\n",
              "      <td>Nc1nc(=O)n([C@H]2C[C@H](O)[C@@H](CO)O2)cc1Cl</td>\n",
              "      <td>1</td>\n",
              "    </tr>\n",
              "    <tr>\n",
              "      <th>4</th>\n",
              "      <td>Nc1ccc(C(=O)Nc2cccc(-c3nc(N4CCOCC4)c4oc5ncccc5...</td>\n",
              "      <td>0</td>\n",
              "    </tr>\n",
              "  </tbody>\n",
              "</table>\n",
              "</div>\n",
              "      <button class=\"colab-df-convert\" onclick=\"convertToInteractive('df-2ec0792e-05ba-446a-9c65-bdedc541586d')\"\n",
              "              title=\"Convert this dataframe to an interactive table.\"\n",
              "              style=\"display:none;\">\n",
              "        \n",
              "  <svg xmlns=\"http://www.w3.org/2000/svg\" height=\"24px\"viewBox=\"0 0 24 24\"\n",
              "       width=\"24px\">\n",
              "    <path d=\"M0 0h24v24H0V0z\" fill=\"none\"/>\n",
              "    <path d=\"M18.56 5.44l.94 2.06.94-2.06 2.06-.94-2.06-.94-.94-2.06-.94 2.06-2.06.94zm-11 1L8.5 8.5l.94-2.06 2.06-.94-2.06-.94L8.5 2.5l-.94 2.06-2.06.94zm10 10l.94 2.06.94-2.06 2.06-.94-2.06-.94-.94-2.06-.94 2.06-2.06.94z\"/><path d=\"M17.41 7.96l-1.37-1.37c-.4-.4-.92-.59-1.43-.59-.52 0-1.04.2-1.43.59L10.3 9.45l-7.72 7.72c-.78.78-.78 2.05 0 2.83L4 21.41c.39.39.9.59 1.41.59.51 0 1.02-.2 1.41-.59l7.78-7.78 2.81-2.81c.8-.78.8-2.07 0-2.86zM5.41 20L4 18.59l7.72-7.72 1.47 1.35L5.41 20z\"/>\n",
              "  </svg>\n",
              "      </button>\n",
              "      \n",
              "  <style>\n",
              "    .colab-df-container {\n",
              "      display:flex;\n",
              "      flex-wrap:wrap;\n",
              "      gap: 12px;\n",
              "    }\n",
              "\n",
              "    .colab-df-convert {\n",
              "      background-color: #E8F0FE;\n",
              "      border: none;\n",
              "      border-radius: 50%;\n",
              "      cursor: pointer;\n",
              "      display: none;\n",
              "      fill: #1967D2;\n",
              "      height: 32px;\n",
              "      padding: 0 0 0 0;\n",
              "      width: 32px;\n",
              "    }\n",
              "\n",
              "    .colab-df-convert:hover {\n",
              "      background-color: #E2EBFA;\n",
              "      box-shadow: 0px 1px 2px rgba(60, 64, 67, 0.3), 0px 1px 3px 1px rgba(60, 64, 67, 0.15);\n",
              "      fill: #174EA6;\n",
              "    }\n",
              "\n",
              "    [theme=dark] .colab-df-convert {\n",
              "      background-color: #3B4455;\n",
              "      fill: #D2E3FC;\n",
              "    }\n",
              "\n",
              "    [theme=dark] .colab-df-convert:hover {\n",
              "      background-color: #434B5C;\n",
              "      box-shadow: 0px 1px 3px 1px rgba(0, 0, 0, 0.15);\n",
              "      filter: drop-shadow(0px 1px 2px rgba(0, 0, 0, 0.3));\n",
              "      fill: #FFFFFF;\n",
              "    }\n",
              "  </style>\n",
              "\n",
              "      <script>\n",
              "        const buttonEl =\n",
              "          document.querySelector('#df-2ec0792e-05ba-446a-9c65-bdedc541586d button.colab-df-convert');\n",
              "        buttonEl.style.display =\n",
              "          google.colab.kernel.accessAllowed ? 'block' : 'none';\n",
              "\n",
              "        async function convertToInteractive(key) {\n",
              "          const element = document.querySelector('#df-2ec0792e-05ba-446a-9c65-bdedc541586d');\n",
              "          const dataTable =\n",
              "            await google.colab.kernel.invokeFunction('convertToInteractive',\n",
              "                                                     [key], {});\n",
              "          if (!dataTable) return;\n",
              "\n",
              "          const docLinkHtml = 'Like what you see? Visit the ' +\n",
              "            '<a target=\"_blank\" href=https://colab.research.google.com/notebooks/data_table.ipynb>data table notebook</a>'\n",
              "            + ' to learn more about interactive tables.';\n",
              "          element.innerHTML = '';\n",
              "          dataTable['output_type'] = 'display_data';\n",
              "          await google.colab.output.renderOutput(dataTable, element);\n",
              "          const docLink = document.createElement('div');\n",
              "          docLink.innerHTML = docLinkHtml;\n",
              "          element.appendChild(docLink);\n",
              "        }\n",
              "      </script>\n",
              "    </div>\n",
              "  </div>\n",
              "  "
            ],
            "text/plain": [
              "                                              Smiles  Active\n",
              "0  COC(=O)Nc1ccc(-c2nc(N3CCOCC3)c3cnn(C4CCN(Cc5cc...       1\n",
              "1                    O=Cc1cn(Cc2ccc(Cl)cc2)c2ccccc12       1\n",
              "2                      NC(CO)C(=O)NNCc1ccc(O)c(O)c1O       1\n",
              "3       Nc1nc(=O)n([C@H]2C[C@H](O)[C@@H](CO)O2)cc1Cl       1\n",
              "4  Nc1ccc(C(=O)Nc2cccc(-c3nc(N4CCOCC4)c4oc5ncccc5...       0"
            ]
          },
          "metadata": {},
          "execution_count": 429
        }
      ]
    },
    {
      "cell_type": "code",
      "source": [
        "df.to_csv(\"final_submission_4.csv\")"
      ],
      "metadata": {
        "id": "x4M2G97Z6mbY"
      },
      "execution_count": 430,
      "outputs": []
    }
  ]
}