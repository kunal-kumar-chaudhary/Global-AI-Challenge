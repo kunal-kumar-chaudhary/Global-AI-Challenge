{
  "cells": [
    {
      "cell_type": "markdown",
      "metadata": {
        "id": "view-in-github",
        "colab_type": "text"
      },
      "source": [
        "<a href=\"https://colab.research.google.com/github/kunal-kumar-chaudhary/Global-AI-Challenge/blob/main/Global_AI_Challenge_2.ipynb\" target=\"_parent\"><img src=\"https://colab.research.google.com/assets/colab-badge.svg\" alt=\"Open In Colab\"/></a>"
      ]
    },
    {
      "cell_type": "markdown",
      "metadata": {
        "id": "V543l_yS_NvR"
      },
      "source": [
        "importing our essential libraries"
      ]
    },
    {
      "cell_type": "code",
      "execution_count": 54,
      "metadata": {
        "id": "emsOcmqI_NBl"
      },
      "outputs": [],
      "source": [
        "import numpy as np\n",
        "import pandas as pd\n",
        "import matplotlib.pyplot as plt\n",
        "import seaborn as sns"
      ]
    },
    {
      "cell_type": "code",
      "execution_count": 55,
      "metadata": {
        "colab": {
          "base_uri": "https://localhost:8080/",
          "height": 206
        },
        "id": "0mjTuDyz_JXr",
        "outputId": "425782d7-4e87-4f62-b217-68733c52d5fd"
      },
      "outputs": [
        {
          "output_type": "execute_result",
          "data": {
            "text/html": [
              "\n",
              "  <div id=\"df-5846884f-b693-4bd3-a0fe-0f920b563968\">\n",
              "    <div class=\"colab-df-container\">\n",
              "      <div>\n",
              "<style scoped>\n",
              "    .dataframe tbody tr th:only-of-type {\n",
              "        vertical-align: middle;\n",
              "    }\n",
              "\n",
              "    .dataframe tbody tr th {\n",
              "        vertical-align: top;\n",
              "    }\n",
              "\n",
              "    .dataframe thead th {\n",
              "        text-align: right;\n",
              "    }\n",
              "</style>\n",
              "<table border=\"1\" class=\"dataframe\">\n",
              "  <thead>\n",
              "    <tr style=\"text-align: right;\">\n",
              "      <th></th>\n",
              "      <th>Unnamed: 0</th>\n",
              "      <th>Smiles</th>\n",
              "      <th>Active</th>\n",
              "    </tr>\n",
              "  </thead>\n",
              "  <tbody>\n",
              "    <tr>\n",
              "      <th>0</th>\n",
              "      <td>0</td>\n",
              "      <td>COc1ccc2[nH]cc(CCN)c2c1</td>\n",
              "      <td>False</td>\n",
              "    </tr>\n",
              "    <tr>\n",
              "      <th>1</th>\n",
              "      <td>1</td>\n",
              "      <td>CCCN1CCC[C@H](c2cccc(O)c2)C1.Cl</td>\n",
              "      <td>False</td>\n",
              "    </tr>\n",
              "    <tr>\n",
              "      <th>2</th>\n",
              "      <td>2</td>\n",
              "      <td>O=C(NO)c1cnc(N2CCN(S(=O)(=O)c3ccc4ccccc4c3)CC2...</td>\n",
              "      <td>False</td>\n",
              "    </tr>\n",
              "    <tr>\n",
              "      <th>3</th>\n",
              "      <td>3</td>\n",
              "      <td>Nc1cccc(CNC(=O)c2ccc(Oc3ccc(OCc4cccc(F)c4)cc3)...</td>\n",
              "      <td>False</td>\n",
              "    </tr>\n",
              "    <tr>\n",
              "      <th>4</th>\n",
              "      <td>4</td>\n",
              "      <td>Fc1ccccc1CNCc1ccc(-c2ccnc3[nH]ccc23)cc1</td>\n",
              "      <td>False</td>\n",
              "    </tr>\n",
              "  </tbody>\n",
              "</table>\n",
              "</div>\n",
              "      <button class=\"colab-df-convert\" onclick=\"convertToInteractive('df-5846884f-b693-4bd3-a0fe-0f920b563968')\"\n",
              "              title=\"Convert this dataframe to an interactive table.\"\n",
              "              style=\"display:none;\">\n",
              "        \n",
              "  <svg xmlns=\"http://www.w3.org/2000/svg\" height=\"24px\"viewBox=\"0 0 24 24\"\n",
              "       width=\"24px\">\n",
              "    <path d=\"M0 0h24v24H0V0z\" fill=\"none\"/>\n",
              "    <path d=\"M18.56 5.44l.94 2.06.94-2.06 2.06-.94-2.06-.94-.94-2.06-.94 2.06-2.06.94zm-11 1L8.5 8.5l.94-2.06 2.06-.94-2.06-.94L8.5 2.5l-.94 2.06-2.06.94zm10 10l.94 2.06.94-2.06 2.06-.94-2.06-.94-.94-2.06-.94 2.06-2.06.94z\"/><path d=\"M17.41 7.96l-1.37-1.37c-.4-.4-.92-.59-1.43-.59-.52 0-1.04.2-1.43.59L10.3 9.45l-7.72 7.72c-.78.78-.78 2.05 0 2.83L4 21.41c.39.39.9.59 1.41.59.51 0 1.02-.2 1.41-.59l7.78-7.78 2.81-2.81c.8-.78.8-2.07 0-2.86zM5.41 20L4 18.59l7.72-7.72 1.47 1.35L5.41 20z\"/>\n",
              "  </svg>\n",
              "      </button>\n",
              "      \n",
              "  <style>\n",
              "    .colab-df-container {\n",
              "      display:flex;\n",
              "      flex-wrap:wrap;\n",
              "      gap: 12px;\n",
              "    }\n",
              "\n",
              "    .colab-df-convert {\n",
              "      background-color: #E8F0FE;\n",
              "      border: none;\n",
              "      border-radius: 50%;\n",
              "      cursor: pointer;\n",
              "      display: none;\n",
              "      fill: #1967D2;\n",
              "      height: 32px;\n",
              "      padding: 0 0 0 0;\n",
              "      width: 32px;\n",
              "    }\n",
              "\n",
              "    .colab-df-convert:hover {\n",
              "      background-color: #E2EBFA;\n",
              "      box-shadow: 0px 1px 2px rgba(60, 64, 67, 0.3), 0px 1px 3px 1px rgba(60, 64, 67, 0.15);\n",
              "      fill: #174EA6;\n",
              "    }\n",
              "\n",
              "    [theme=dark] .colab-df-convert {\n",
              "      background-color: #3B4455;\n",
              "      fill: #D2E3FC;\n",
              "    }\n",
              "\n",
              "    [theme=dark] .colab-df-convert:hover {\n",
              "      background-color: #434B5C;\n",
              "      box-shadow: 0px 1px 3px 1px rgba(0, 0, 0, 0.15);\n",
              "      filter: drop-shadow(0px 1px 2px rgba(0, 0, 0, 0.3));\n",
              "      fill: #FFFFFF;\n",
              "    }\n",
              "  </style>\n",
              "\n",
              "      <script>\n",
              "        const buttonEl =\n",
              "          document.querySelector('#df-5846884f-b693-4bd3-a0fe-0f920b563968 button.colab-df-convert');\n",
              "        buttonEl.style.display =\n",
              "          google.colab.kernel.accessAllowed ? 'block' : 'none';\n",
              "\n",
              "        async function convertToInteractive(key) {\n",
              "          const element = document.querySelector('#df-5846884f-b693-4bd3-a0fe-0f920b563968');\n",
              "          const dataTable =\n",
              "            await google.colab.kernel.invokeFunction('convertToInteractive',\n",
              "                                                     [key], {});\n",
              "          if (!dataTable) return;\n",
              "\n",
              "          const docLinkHtml = 'Like what you see? Visit the ' +\n",
              "            '<a target=\"_blank\" href=https://colab.research.google.com/notebooks/data_table.ipynb>data table notebook</a>'\n",
              "            + ' to learn more about interactive tables.';\n",
              "          element.innerHTML = '';\n",
              "          dataTable['output_type'] = 'display_data';\n",
              "          await google.colab.output.renderOutput(dataTable, element);\n",
              "          const docLink = document.createElement('div');\n",
              "          docLink.innerHTML = docLinkHtml;\n",
              "          element.appendChild(docLink);\n",
              "        }\n",
              "      </script>\n",
              "    </div>\n",
              "  </div>\n",
              "  "
            ],
            "text/plain": [
              "   Unnamed: 0                                             Smiles  Active\n",
              "0           0                            COc1ccc2[nH]cc(CCN)c2c1   False\n",
              "1           1                    CCCN1CCC[C@H](c2cccc(O)c2)C1.Cl   False\n",
              "2           2  O=C(NO)c1cnc(N2CCN(S(=O)(=O)c3ccc4ccccc4c3)CC2...   False\n",
              "3           3  Nc1cccc(CNC(=O)c2ccc(Oc3ccc(OCc4cccc(F)c4)cc3)...   False\n",
              "4           4            Fc1ccccc1CNCc1ccc(-c2ccnc3[nH]ccc23)cc1   False"
            ]
          },
          "metadata": {},
          "execution_count": 55
        }
      ],
      "source": [
        "train_data = pd.read_csv(\"train.csv\")\n",
        "train_data.head()"
      ]
    },
    {
      "cell_type": "code",
      "execution_count": 56,
      "metadata": {
        "colab": {
          "base_uri": "https://localhost:8080/",
          "height": 206
        },
        "id": "wCBMmkHkdiY9",
        "outputId": "ce8a2c4b-ceb3-490f-cc0e-680f0d2f70ea"
      },
      "outputs": [
        {
          "output_type": "execute_result",
          "data": {
            "text/html": [
              "\n",
              "  <div id=\"df-2ecd8b2b-f66d-4bb6-8d38-f29fbef073d3\">\n",
              "    <div class=\"colab-df-container\">\n",
              "      <div>\n",
              "<style scoped>\n",
              "    .dataframe tbody tr th:only-of-type {\n",
              "        vertical-align: middle;\n",
              "    }\n",
              "\n",
              "    .dataframe tbody tr th {\n",
              "        vertical-align: top;\n",
              "    }\n",
              "\n",
              "    .dataframe thead th {\n",
              "        text-align: right;\n",
              "    }\n",
              "</style>\n",
              "<table border=\"1\" class=\"dataframe\">\n",
              "  <thead>\n",
              "    <tr style=\"text-align: right;\">\n",
              "      <th></th>\n",
              "      <th>Unnamed: 0</th>\n",
              "      <th>Smiles</th>\n",
              "    </tr>\n",
              "  </thead>\n",
              "  <tbody>\n",
              "    <tr>\n",
              "      <th>0</th>\n",
              "      <td>0</td>\n",
              "      <td>COC(=O)Nc1ccc(-c2nc(N3CCOCC3)c3cnn(C4CCN(Cc5cc...</td>\n",
              "    </tr>\n",
              "    <tr>\n",
              "      <th>1</th>\n",
              "      <td>1</td>\n",
              "      <td>O=Cc1cn(Cc2ccc(Cl)cc2)c2ccccc12</td>\n",
              "    </tr>\n",
              "    <tr>\n",
              "      <th>2</th>\n",
              "      <td>2</td>\n",
              "      <td>NC(CO)C(=O)NNCc1ccc(O)c(O)c1O</td>\n",
              "    </tr>\n",
              "    <tr>\n",
              "      <th>3</th>\n",
              "      <td>3</td>\n",
              "      <td>Nc1nc(=O)n([C@H]2C[C@H](O)[C@@H](CO)O2)cc1Cl</td>\n",
              "    </tr>\n",
              "    <tr>\n",
              "      <th>4</th>\n",
              "      <td>4</td>\n",
              "      <td>Nc1ccc(C(=O)Nc2cccc(-c3nc(N4CCOCC4)c4oc5ncccc5...</td>\n",
              "    </tr>\n",
              "  </tbody>\n",
              "</table>\n",
              "</div>\n",
              "      <button class=\"colab-df-convert\" onclick=\"convertToInteractive('df-2ecd8b2b-f66d-4bb6-8d38-f29fbef073d3')\"\n",
              "              title=\"Convert this dataframe to an interactive table.\"\n",
              "              style=\"display:none;\">\n",
              "        \n",
              "  <svg xmlns=\"http://www.w3.org/2000/svg\" height=\"24px\"viewBox=\"0 0 24 24\"\n",
              "       width=\"24px\">\n",
              "    <path d=\"M0 0h24v24H0V0z\" fill=\"none\"/>\n",
              "    <path d=\"M18.56 5.44l.94 2.06.94-2.06 2.06-.94-2.06-.94-.94-2.06-.94 2.06-2.06.94zm-11 1L8.5 8.5l.94-2.06 2.06-.94-2.06-.94L8.5 2.5l-.94 2.06-2.06.94zm10 10l.94 2.06.94-2.06 2.06-.94-2.06-.94-.94-2.06-.94 2.06-2.06.94z\"/><path d=\"M17.41 7.96l-1.37-1.37c-.4-.4-.92-.59-1.43-.59-.52 0-1.04.2-1.43.59L10.3 9.45l-7.72 7.72c-.78.78-.78 2.05 0 2.83L4 21.41c.39.39.9.59 1.41.59.51 0 1.02-.2 1.41-.59l7.78-7.78 2.81-2.81c.8-.78.8-2.07 0-2.86zM5.41 20L4 18.59l7.72-7.72 1.47 1.35L5.41 20z\"/>\n",
              "  </svg>\n",
              "      </button>\n",
              "      \n",
              "  <style>\n",
              "    .colab-df-container {\n",
              "      display:flex;\n",
              "      flex-wrap:wrap;\n",
              "      gap: 12px;\n",
              "    }\n",
              "\n",
              "    .colab-df-convert {\n",
              "      background-color: #E8F0FE;\n",
              "      border: none;\n",
              "      border-radius: 50%;\n",
              "      cursor: pointer;\n",
              "      display: none;\n",
              "      fill: #1967D2;\n",
              "      height: 32px;\n",
              "      padding: 0 0 0 0;\n",
              "      width: 32px;\n",
              "    }\n",
              "\n",
              "    .colab-df-convert:hover {\n",
              "      background-color: #E2EBFA;\n",
              "      box-shadow: 0px 1px 2px rgba(60, 64, 67, 0.3), 0px 1px 3px 1px rgba(60, 64, 67, 0.15);\n",
              "      fill: #174EA6;\n",
              "    }\n",
              "\n",
              "    [theme=dark] .colab-df-convert {\n",
              "      background-color: #3B4455;\n",
              "      fill: #D2E3FC;\n",
              "    }\n",
              "\n",
              "    [theme=dark] .colab-df-convert:hover {\n",
              "      background-color: #434B5C;\n",
              "      box-shadow: 0px 1px 3px 1px rgba(0, 0, 0, 0.15);\n",
              "      filter: drop-shadow(0px 1px 2px rgba(0, 0, 0, 0.3));\n",
              "      fill: #FFFFFF;\n",
              "    }\n",
              "  </style>\n",
              "\n",
              "      <script>\n",
              "        const buttonEl =\n",
              "          document.querySelector('#df-2ecd8b2b-f66d-4bb6-8d38-f29fbef073d3 button.colab-df-convert');\n",
              "        buttonEl.style.display =\n",
              "          google.colab.kernel.accessAllowed ? 'block' : 'none';\n",
              "\n",
              "        async function convertToInteractive(key) {\n",
              "          const element = document.querySelector('#df-2ecd8b2b-f66d-4bb6-8d38-f29fbef073d3');\n",
              "          const dataTable =\n",
              "            await google.colab.kernel.invokeFunction('convertToInteractive',\n",
              "                                                     [key], {});\n",
              "          if (!dataTable) return;\n",
              "\n",
              "          const docLinkHtml = 'Like what you see? Visit the ' +\n",
              "            '<a target=\"_blank\" href=https://colab.research.google.com/notebooks/data_table.ipynb>data table notebook</a>'\n",
              "            + ' to learn more about interactive tables.';\n",
              "          element.innerHTML = '';\n",
              "          dataTable['output_type'] = 'display_data';\n",
              "          await google.colab.output.renderOutput(dataTable, element);\n",
              "          const docLink = document.createElement('div');\n",
              "          docLink.innerHTML = docLinkHtml;\n",
              "          element.appendChild(docLink);\n",
              "        }\n",
              "      </script>\n",
              "    </div>\n",
              "  </div>\n",
              "  "
            ],
            "text/plain": [
              "   Unnamed: 0                                             Smiles\n",
              "0           0  COC(=O)Nc1ccc(-c2nc(N3CCOCC3)c3cnn(C4CCN(Cc5cc...\n",
              "1           1                    O=Cc1cn(Cc2ccc(Cl)cc2)c2ccccc12\n",
              "2           2                      NC(CO)C(=O)NNCc1ccc(O)c(O)c1O\n",
              "3           3       Nc1nc(=O)n([C@H]2C[C@H](O)[C@@H](CO)O2)cc1Cl\n",
              "4           4  Nc1ccc(C(=O)Nc2cccc(-c3nc(N4CCOCC4)c4oc5ncccc5..."
            ]
          },
          "metadata": {},
          "execution_count": 56
        }
      ],
      "source": [
        "test_data = pd.read_csv(\"test.csv\")\n",
        "test_data.head()"
      ]
    },
    {
      "cell_type": "code",
      "execution_count": 57,
      "metadata": {
        "id": "s31uag8P9FBG"
      },
      "outputs": [],
      "source": [
        "!pip install rdkit-pypi -qqq"
      ]
    },
    {
      "cell_type": "code",
      "execution_count": 58,
      "metadata": {
        "id": "STrMFE4l-RSt"
      },
      "outputs": [],
      "source": [
        "from rdkit.Chem import rdMolDescriptors"
      ]
    },
    {
      "cell_type": "code",
      "execution_count": 59,
      "metadata": {
        "id": "P1Y6aVZ0ALP1"
      },
      "outputs": [],
      "source": [
        "from rdkit import Chem"
      ]
    },
    {
      "cell_type": "code",
      "execution_count": 60,
      "metadata": {
        "id": "GNrZ-Jag-GNr"
      },
      "outputs": [],
      "source": [
        "descriptor_names = list(rdMolDescriptors.Properties.GetAvailableProperties())\n",
        "\n",
        "get_descriptors = rdMolDescriptors.Properties(descriptor_names)"
      ]
    },
    {
      "cell_type": "code",
      "execution_count": 61,
      "metadata": {
        "colab": {
          "base_uri": "https://localhost:8080/"
        },
        "id": "pofdiaqB-8ik",
        "outputId": "4fa57e41-5aa9-4aac-bac0-f7ca7aaca110"
      },
      "outputs": [
        {
          "output_type": "execute_result",
          "data": {
            "text/plain": [
              "['exactmw',\n",
              " 'amw',\n",
              " 'lipinskiHBA',\n",
              " 'lipinskiHBD',\n",
              " 'NumRotatableBonds',\n",
              " 'NumHBD',\n",
              " 'NumHBA',\n",
              " 'NumHeavyAtoms',\n",
              " 'NumAtoms',\n",
              " 'NumHeteroatoms',\n",
              " 'NumAmideBonds',\n",
              " 'FractionCSP3',\n",
              " 'NumRings',\n",
              " 'NumAromaticRings',\n",
              " 'NumAliphaticRings',\n",
              " 'NumSaturatedRings',\n",
              " 'NumHeterocycles',\n",
              " 'NumAromaticHeterocycles',\n",
              " 'NumSaturatedHeterocycles',\n",
              " 'NumAliphaticHeterocycles',\n",
              " 'NumSpiroAtoms',\n",
              " 'NumBridgeheadAtoms',\n",
              " 'NumAtomStereoCenters',\n",
              " 'NumUnspecifiedAtomStereoCenters',\n",
              " 'labuteASA',\n",
              " 'tpsa',\n",
              " 'CrippenClogP',\n",
              " 'CrippenMR',\n",
              " 'chi0v',\n",
              " 'chi1v',\n",
              " 'chi2v',\n",
              " 'chi3v',\n",
              " 'chi4v',\n",
              " 'chi0n',\n",
              " 'chi1n',\n",
              " 'chi2n',\n",
              " 'chi3n',\n",
              " 'chi4n',\n",
              " 'hallKierAlpha',\n",
              " 'kappa1',\n",
              " 'kappa2',\n",
              " 'kappa3',\n",
              " 'Phi']"
            ]
          },
          "metadata": {},
          "execution_count": 61
        }
      ],
      "source": [
        "descriptor_names"
      ]
    },
    {
      "cell_type": "code",
      "execution_count": 62,
      "metadata": {
        "id": "0UdBfaEn_IBV"
      },
      "outputs": [],
      "source": [
        "def smi_to_descriptors(smile):\n",
        "    mol = Chem.MolFromSmiles(smile)\n",
        "    descriptors = []\n",
        "    if mol:\n",
        "        descriptors = np.array(get_descriptors.ComputeProperties(mol))\n",
        "    return descriptors"
      ]
    },
    {
      "cell_type": "code",
      "execution_count": 63,
      "metadata": {
        "colab": {
          "base_uri": "https://localhost:8080/"
        },
        "id": "sW9VyyrxB-ep",
        "outputId": "445bbcd9-c76d-4d5e-97bf-ab5256d291ac"
      },
      "outputs": [
        {
          "output_type": "execute_result",
          "data": {
            "text/plain": [
              "array([190.11061307, 190.246     ,   3.        ,   3.        ,\n",
              "         3.        ,   2.        ,   2.        ,  14.        ,\n",
              "        28.        ,   3.        ,   0.        ,   0.27272727,\n",
              "         2.        ,   2.        ,   0.        ,   0.        ,\n",
              "         1.        ,   1.        ,   0.        ,   0.        ,\n",
              "         0.        ,   0.        ,   0.        ,   0.        ,\n",
              "        82.87049034,  51.04      ,   1.6777    ,  57.6091    ,\n",
              "         8.2092132 ,   4.68955826,   2.38826548,   2.38826548,\n",
              "         1.64682994,   8.2092132 ,   4.68955826,   2.38826548,\n",
              "         2.38826548,   1.64682994,  -1.48      ,   9.08983299,\n",
              "         3.71708073,   1.46395692,   2.41340308])"
            ]
          },
          "metadata": {},
          "execution_count": 63
        }
      ],
      "source": [
        "smi_to_descriptors(train_data[\"Smiles\"][0])"
      ]
    },
    {
      "cell_type": "code",
      "execution_count": 64,
      "metadata": {
        "id": "dGU3emgBC851"
      },
      "outputs": [],
      "source": [
        "train_data[[descriptor_names]] = \"\""
      ]
    },
    {
      "cell_type": "code",
      "execution_count": 65,
      "metadata": {
        "colab": {
          "base_uri": "https://localhost:8080/",
          "height": 305
        },
        "id": "66VphNGkDCvS",
        "outputId": "4c76fd2f-7c3f-4e40-f7cd-26b89b49d696"
      },
      "outputs": [
        {
          "output_type": "execute_result",
          "data": {
            "text/html": [
              "\n",
              "  <div id=\"df-14cbfc70-9afe-4f96-823a-72da4b4bfbdc\">\n",
              "    <div class=\"colab-df-container\">\n",
              "      <div>\n",
              "<style scoped>\n",
              "    .dataframe tbody tr th:only-of-type {\n",
              "        vertical-align: middle;\n",
              "    }\n",
              "\n",
              "    .dataframe tbody tr th {\n",
              "        vertical-align: top;\n",
              "    }\n",
              "\n",
              "    .dataframe thead th {\n",
              "        text-align: right;\n",
              "    }\n",
              "</style>\n",
              "<table border=\"1\" class=\"dataframe\">\n",
              "  <thead>\n",
              "    <tr style=\"text-align: right;\">\n",
              "      <th></th>\n",
              "      <th>Unnamed: 0</th>\n",
              "      <th>Smiles</th>\n",
              "      <th>Active</th>\n",
              "      <th>exactmw</th>\n",
              "      <th>amw</th>\n",
              "      <th>lipinskiHBA</th>\n",
              "      <th>lipinskiHBD</th>\n",
              "      <th>NumRotatableBonds</th>\n",
              "      <th>NumHBD</th>\n",
              "      <th>NumHBA</th>\n",
              "      <th>NumHeavyAtoms</th>\n",
              "      <th>NumAtoms</th>\n",
              "      <th>NumHeteroatoms</th>\n",
              "      <th>NumAmideBonds</th>\n",
              "      <th>FractionCSP3</th>\n",
              "      <th>NumRings</th>\n",
              "      <th>NumAromaticRings</th>\n",
              "      <th>NumAliphaticRings</th>\n",
              "      <th>NumSaturatedRings</th>\n",
              "      <th>NumHeterocycles</th>\n",
              "      <th>NumAromaticHeterocycles</th>\n",
              "      <th>NumSaturatedHeterocycles</th>\n",
              "      <th>NumAliphaticHeterocycles</th>\n",
              "      <th>NumSpiroAtoms</th>\n",
              "      <th>NumBridgeheadAtoms</th>\n",
              "      <th>NumAtomStereoCenters</th>\n",
              "      <th>NumUnspecifiedAtomStereoCenters</th>\n",
              "      <th>labuteASA</th>\n",
              "      <th>tpsa</th>\n",
              "      <th>CrippenClogP</th>\n",
              "      <th>CrippenMR</th>\n",
              "      <th>chi0v</th>\n",
              "      <th>chi1v</th>\n",
              "      <th>chi2v</th>\n",
              "      <th>chi3v</th>\n",
              "      <th>chi4v</th>\n",
              "      <th>chi0n</th>\n",
              "      <th>chi1n</th>\n",
              "      <th>chi2n</th>\n",
              "      <th>chi3n</th>\n",
              "      <th>chi4n</th>\n",
              "      <th>hallKierAlpha</th>\n",
              "      <th>kappa1</th>\n",
              "      <th>kappa2</th>\n",
              "      <th>kappa3</th>\n",
              "      <th>Phi</th>\n",
              "    </tr>\n",
              "  </thead>\n",
              "  <tbody>\n",
              "    <tr>\n",
              "      <th>0</th>\n",
              "      <td>0</td>\n",
              "      <td>COc1ccc2[nH]cc(CCN)c2c1</td>\n",
              "      <td>False</td>\n",
              "      <td></td>\n",
              "      <td></td>\n",
              "      <td></td>\n",
              "      <td></td>\n",
              "      <td></td>\n",
              "      <td></td>\n",
              "      <td></td>\n",
              "      <td></td>\n",
              "      <td></td>\n",
              "      <td></td>\n",
              "      <td></td>\n",
              "      <td></td>\n",
              "      <td></td>\n",
              "      <td></td>\n",
              "      <td></td>\n",
              "      <td></td>\n",
              "      <td></td>\n",
              "      <td></td>\n",
              "      <td></td>\n",
              "      <td></td>\n",
              "      <td></td>\n",
              "      <td></td>\n",
              "      <td></td>\n",
              "      <td></td>\n",
              "      <td></td>\n",
              "      <td></td>\n",
              "      <td></td>\n",
              "      <td></td>\n",
              "      <td></td>\n",
              "      <td></td>\n",
              "      <td></td>\n",
              "      <td></td>\n",
              "      <td></td>\n",
              "      <td></td>\n",
              "      <td></td>\n",
              "      <td></td>\n",
              "      <td></td>\n",
              "      <td></td>\n",
              "      <td></td>\n",
              "      <td></td>\n",
              "      <td></td>\n",
              "      <td></td>\n",
              "      <td></td>\n",
              "    </tr>\n",
              "    <tr>\n",
              "      <th>1</th>\n",
              "      <td>1</td>\n",
              "      <td>CCCN1CCC[C@H](c2cccc(O)c2)C1.Cl</td>\n",
              "      <td>False</td>\n",
              "      <td></td>\n",
              "      <td></td>\n",
              "      <td></td>\n",
              "      <td></td>\n",
              "      <td></td>\n",
              "      <td></td>\n",
              "      <td></td>\n",
              "      <td></td>\n",
              "      <td></td>\n",
              "      <td></td>\n",
              "      <td></td>\n",
              "      <td></td>\n",
              "      <td></td>\n",
              "      <td></td>\n",
              "      <td></td>\n",
              "      <td></td>\n",
              "      <td></td>\n",
              "      <td></td>\n",
              "      <td></td>\n",
              "      <td></td>\n",
              "      <td></td>\n",
              "      <td></td>\n",
              "      <td></td>\n",
              "      <td></td>\n",
              "      <td></td>\n",
              "      <td></td>\n",
              "      <td></td>\n",
              "      <td></td>\n",
              "      <td></td>\n",
              "      <td></td>\n",
              "      <td></td>\n",
              "      <td></td>\n",
              "      <td></td>\n",
              "      <td></td>\n",
              "      <td></td>\n",
              "      <td></td>\n",
              "      <td></td>\n",
              "      <td></td>\n",
              "      <td></td>\n",
              "      <td></td>\n",
              "      <td></td>\n",
              "      <td></td>\n",
              "      <td></td>\n",
              "    </tr>\n",
              "    <tr>\n",
              "      <th>2</th>\n",
              "      <td>2</td>\n",
              "      <td>O=C(NO)c1cnc(N2CCN(S(=O)(=O)c3ccc4ccccc4c3)CC2...</td>\n",
              "      <td>False</td>\n",
              "      <td></td>\n",
              "      <td></td>\n",
              "      <td></td>\n",
              "      <td></td>\n",
              "      <td></td>\n",
              "      <td></td>\n",
              "      <td></td>\n",
              "      <td></td>\n",
              "      <td></td>\n",
              "      <td></td>\n",
              "      <td></td>\n",
              "      <td></td>\n",
              "      <td></td>\n",
              "      <td></td>\n",
              "      <td></td>\n",
              "      <td></td>\n",
              "      <td></td>\n",
              "      <td></td>\n",
              "      <td></td>\n",
              "      <td></td>\n",
              "      <td></td>\n",
              "      <td></td>\n",
              "      <td></td>\n",
              "      <td></td>\n",
              "      <td></td>\n",
              "      <td></td>\n",
              "      <td></td>\n",
              "      <td></td>\n",
              "      <td></td>\n",
              "      <td></td>\n",
              "      <td></td>\n",
              "      <td></td>\n",
              "      <td></td>\n",
              "      <td></td>\n",
              "      <td></td>\n",
              "      <td></td>\n",
              "      <td></td>\n",
              "      <td></td>\n",
              "      <td></td>\n",
              "      <td></td>\n",
              "      <td></td>\n",
              "      <td></td>\n",
              "      <td></td>\n",
              "    </tr>\n",
              "    <tr>\n",
              "      <th>3</th>\n",
              "      <td>3</td>\n",
              "      <td>Nc1cccc(CNC(=O)c2ccc(Oc3ccc(OCc4cccc(F)c4)cc3)...</td>\n",
              "      <td>False</td>\n",
              "      <td></td>\n",
              "      <td></td>\n",
              "      <td></td>\n",
              "      <td></td>\n",
              "      <td></td>\n",
              "      <td></td>\n",
              "      <td></td>\n",
              "      <td></td>\n",
              "      <td></td>\n",
              "      <td></td>\n",
              "      <td></td>\n",
              "      <td></td>\n",
              "      <td></td>\n",
              "      <td></td>\n",
              "      <td></td>\n",
              "      <td></td>\n",
              "      <td></td>\n",
              "      <td></td>\n",
              "      <td></td>\n",
              "      <td></td>\n",
              "      <td></td>\n",
              "      <td></td>\n",
              "      <td></td>\n",
              "      <td></td>\n",
              "      <td></td>\n",
              "      <td></td>\n",
              "      <td></td>\n",
              "      <td></td>\n",
              "      <td></td>\n",
              "      <td></td>\n",
              "      <td></td>\n",
              "      <td></td>\n",
              "      <td></td>\n",
              "      <td></td>\n",
              "      <td></td>\n",
              "      <td></td>\n",
              "      <td></td>\n",
              "      <td></td>\n",
              "      <td></td>\n",
              "      <td></td>\n",
              "      <td></td>\n",
              "      <td></td>\n",
              "      <td></td>\n",
              "    </tr>\n",
              "    <tr>\n",
              "      <th>4</th>\n",
              "      <td>4</td>\n",
              "      <td>Fc1ccccc1CNCc1ccc(-c2ccnc3[nH]ccc23)cc1</td>\n",
              "      <td>False</td>\n",
              "      <td></td>\n",
              "      <td></td>\n",
              "      <td></td>\n",
              "      <td></td>\n",
              "      <td></td>\n",
              "      <td></td>\n",
              "      <td></td>\n",
              "      <td></td>\n",
              "      <td></td>\n",
              "      <td></td>\n",
              "      <td></td>\n",
              "      <td></td>\n",
              "      <td></td>\n",
              "      <td></td>\n",
              "      <td></td>\n",
              "      <td></td>\n",
              "      <td></td>\n",
              "      <td></td>\n",
              "      <td></td>\n",
              "      <td></td>\n",
              "      <td></td>\n",
              "      <td></td>\n",
              "      <td></td>\n",
              "      <td></td>\n",
              "      <td></td>\n",
              "      <td></td>\n",
              "      <td></td>\n",
              "      <td></td>\n",
              "      <td></td>\n",
              "      <td></td>\n",
              "      <td></td>\n",
              "      <td></td>\n",
              "      <td></td>\n",
              "      <td></td>\n",
              "      <td></td>\n",
              "      <td></td>\n",
              "      <td></td>\n",
              "      <td></td>\n",
              "      <td></td>\n",
              "      <td></td>\n",
              "      <td></td>\n",
              "      <td></td>\n",
              "      <td></td>\n",
              "    </tr>\n",
              "  </tbody>\n",
              "</table>\n",
              "</div>\n",
              "      <button class=\"colab-df-convert\" onclick=\"convertToInteractive('df-14cbfc70-9afe-4f96-823a-72da4b4bfbdc')\"\n",
              "              title=\"Convert this dataframe to an interactive table.\"\n",
              "              style=\"display:none;\">\n",
              "        \n",
              "  <svg xmlns=\"http://www.w3.org/2000/svg\" height=\"24px\"viewBox=\"0 0 24 24\"\n",
              "       width=\"24px\">\n",
              "    <path d=\"M0 0h24v24H0V0z\" fill=\"none\"/>\n",
              "    <path d=\"M18.56 5.44l.94 2.06.94-2.06 2.06-.94-2.06-.94-.94-2.06-.94 2.06-2.06.94zm-11 1L8.5 8.5l.94-2.06 2.06-.94-2.06-.94L8.5 2.5l-.94 2.06-2.06.94zm10 10l.94 2.06.94-2.06 2.06-.94-2.06-.94-.94-2.06-.94 2.06-2.06.94z\"/><path d=\"M17.41 7.96l-1.37-1.37c-.4-.4-.92-.59-1.43-.59-.52 0-1.04.2-1.43.59L10.3 9.45l-7.72 7.72c-.78.78-.78 2.05 0 2.83L4 21.41c.39.39.9.59 1.41.59.51 0 1.02-.2 1.41-.59l7.78-7.78 2.81-2.81c.8-.78.8-2.07 0-2.86zM5.41 20L4 18.59l7.72-7.72 1.47 1.35L5.41 20z\"/>\n",
              "  </svg>\n",
              "      </button>\n",
              "      \n",
              "  <style>\n",
              "    .colab-df-container {\n",
              "      display:flex;\n",
              "      flex-wrap:wrap;\n",
              "      gap: 12px;\n",
              "    }\n",
              "\n",
              "    .colab-df-convert {\n",
              "      background-color: #E8F0FE;\n",
              "      border: none;\n",
              "      border-radius: 50%;\n",
              "      cursor: pointer;\n",
              "      display: none;\n",
              "      fill: #1967D2;\n",
              "      height: 32px;\n",
              "      padding: 0 0 0 0;\n",
              "      width: 32px;\n",
              "    }\n",
              "\n",
              "    .colab-df-convert:hover {\n",
              "      background-color: #E2EBFA;\n",
              "      box-shadow: 0px 1px 2px rgba(60, 64, 67, 0.3), 0px 1px 3px 1px rgba(60, 64, 67, 0.15);\n",
              "      fill: #174EA6;\n",
              "    }\n",
              "\n",
              "    [theme=dark] .colab-df-convert {\n",
              "      background-color: #3B4455;\n",
              "      fill: #D2E3FC;\n",
              "    }\n",
              "\n",
              "    [theme=dark] .colab-df-convert:hover {\n",
              "      background-color: #434B5C;\n",
              "      box-shadow: 0px 1px 3px 1px rgba(0, 0, 0, 0.15);\n",
              "      filter: drop-shadow(0px 1px 2px rgba(0, 0, 0, 0.3));\n",
              "      fill: #FFFFFF;\n",
              "    }\n",
              "  </style>\n",
              "\n",
              "      <script>\n",
              "        const buttonEl =\n",
              "          document.querySelector('#df-14cbfc70-9afe-4f96-823a-72da4b4bfbdc button.colab-df-convert');\n",
              "        buttonEl.style.display =\n",
              "          google.colab.kernel.accessAllowed ? 'block' : 'none';\n",
              "\n",
              "        async function convertToInteractive(key) {\n",
              "          const element = document.querySelector('#df-14cbfc70-9afe-4f96-823a-72da4b4bfbdc');\n",
              "          const dataTable =\n",
              "            await google.colab.kernel.invokeFunction('convertToInteractive',\n",
              "                                                     [key], {});\n",
              "          if (!dataTable) return;\n",
              "\n",
              "          const docLinkHtml = 'Like what you see? Visit the ' +\n",
              "            '<a target=\"_blank\" href=https://colab.research.google.com/notebooks/data_table.ipynb>data table notebook</a>'\n",
              "            + ' to learn more about interactive tables.';\n",
              "          element.innerHTML = '';\n",
              "          dataTable['output_type'] = 'display_data';\n",
              "          await google.colab.output.renderOutput(dataTable, element);\n",
              "          const docLink = document.createElement('div');\n",
              "          docLink.innerHTML = docLinkHtml;\n",
              "          element.appendChild(docLink);\n",
              "        }\n",
              "      </script>\n",
              "    </div>\n",
              "  </div>\n",
              "  "
            ],
            "text/plain": [
              "   Unnamed: 0                                             Smiles  ...  kappa3 Phi\n",
              "0           0                            COc1ccc2[nH]cc(CCN)c2c1  ...            \n",
              "1           1                    CCCN1CCC[C@H](c2cccc(O)c2)C1.Cl  ...            \n",
              "2           2  O=C(NO)c1cnc(N2CCN(S(=O)(=O)c3ccc4ccccc4c3)CC2...  ...            \n",
              "3           3  Nc1cccc(CNC(=O)c2ccc(Oc3ccc(OCc4cccc(F)c4)cc3)...  ...            \n",
              "4           4            Fc1ccccc1CNCc1ccc(-c2ccnc3[nH]ccc23)cc1  ...            \n",
              "\n",
              "[5 rows x 46 columns]"
            ]
          },
          "metadata": {},
          "execution_count": 65
        }
      ],
      "source": [
        "train_data.head()"
      ]
    },
    {
      "cell_type": "code",
      "execution_count": 66,
      "metadata": {
        "id": "g14yherq_rC2"
      },
      "outputs": [],
      "source": [
        "train_data['descriptors'] = train_data.Smiles.apply(smi_to_descriptors)"
      ]
    },
    {
      "cell_type": "code",
      "execution_count": 67,
      "metadata": {
        "colab": {
          "base_uri": "https://localhost:8080/",
          "height": 461
        },
        "id": "TVOLN-VHBEGO",
        "outputId": "5de5c32a-a670-4ab0-ddf5-d27750376e32"
      },
      "outputs": [
        {
          "output_type": "execute_result",
          "data": {
            "text/html": [
              "\n",
              "  <div id=\"df-5f5bbc59-4958-4892-a1f3-1021779e2ca3\">\n",
              "    <div class=\"colab-df-container\">\n",
              "      <div>\n",
              "<style scoped>\n",
              "    .dataframe tbody tr th:only-of-type {\n",
              "        vertical-align: middle;\n",
              "    }\n",
              "\n",
              "    .dataframe tbody tr th {\n",
              "        vertical-align: top;\n",
              "    }\n",
              "\n",
              "    .dataframe thead th {\n",
              "        text-align: right;\n",
              "    }\n",
              "</style>\n",
              "<table border=\"1\" class=\"dataframe\">\n",
              "  <thead>\n",
              "    <tr style=\"text-align: right;\">\n",
              "      <th></th>\n",
              "      <th>Unnamed: 0</th>\n",
              "      <th>Smiles</th>\n",
              "      <th>Active</th>\n",
              "      <th>exactmw</th>\n",
              "      <th>amw</th>\n",
              "      <th>lipinskiHBA</th>\n",
              "      <th>lipinskiHBD</th>\n",
              "      <th>NumRotatableBonds</th>\n",
              "      <th>NumHBD</th>\n",
              "      <th>NumHBA</th>\n",
              "      <th>NumHeavyAtoms</th>\n",
              "      <th>NumAtoms</th>\n",
              "      <th>NumHeteroatoms</th>\n",
              "      <th>NumAmideBonds</th>\n",
              "      <th>FractionCSP3</th>\n",
              "      <th>NumRings</th>\n",
              "      <th>NumAromaticRings</th>\n",
              "      <th>NumAliphaticRings</th>\n",
              "      <th>NumSaturatedRings</th>\n",
              "      <th>NumHeterocycles</th>\n",
              "      <th>NumAromaticHeterocycles</th>\n",
              "      <th>NumSaturatedHeterocycles</th>\n",
              "      <th>NumAliphaticHeterocycles</th>\n",
              "      <th>NumSpiroAtoms</th>\n",
              "      <th>NumBridgeheadAtoms</th>\n",
              "      <th>NumAtomStereoCenters</th>\n",
              "      <th>NumUnspecifiedAtomStereoCenters</th>\n",
              "      <th>labuteASA</th>\n",
              "      <th>tpsa</th>\n",
              "      <th>CrippenClogP</th>\n",
              "      <th>CrippenMR</th>\n",
              "      <th>chi0v</th>\n",
              "      <th>chi1v</th>\n",
              "      <th>chi2v</th>\n",
              "      <th>chi3v</th>\n",
              "      <th>chi4v</th>\n",
              "      <th>chi0n</th>\n",
              "      <th>chi1n</th>\n",
              "      <th>chi2n</th>\n",
              "      <th>chi3n</th>\n",
              "      <th>chi4n</th>\n",
              "      <th>hallKierAlpha</th>\n",
              "      <th>kappa1</th>\n",
              "      <th>kappa2</th>\n",
              "      <th>kappa3</th>\n",
              "      <th>Phi</th>\n",
              "      <th>descriptors</th>\n",
              "    </tr>\n",
              "  </thead>\n",
              "  <tbody>\n",
              "    <tr>\n",
              "      <th>0</th>\n",
              "      <td>0</td>\n",
              "      <td>COc1ccc2[nH]cc(CCN)c2c1</td>\n",
              "      <td>False</td>\n",
              "      <td></td>\n",
              "      <td></td>\n",
              "      <td></td>\n",
              "      <td></td>\n",
              "      <td></td>\n",
              "      <td></td>\n",
              "      <td></td>\n",
              "      <td></td>\n",
              "      <td></td>\n",
              "      <td></td>\n",
              "      <td></td>\n",
              "      <td></td>\n",
              "      <td></td>\n",
              "      <td></td>\n",
              "      <td></td>\n",
              "      <td></td>\n",
              "      <td></td>\n",
              "      <td></td>\n",
              "      <td></td>\n",
              "      <td></td>\n",
              "      <td></td>\n",
              "      <td></td>\n",
              "      <td></td>\n",
              "      <td></td>\n",
              "      <td></td>\n",
              "      <td></td>\n",
              "      <td></td>\n",
              "      <td></td>\n",
              "      <td></td>\n",
              "      <td></td>\n",
              "      <td></td>\n",
              "      <td></td>\n",
              "      <td></td>\n",
              "      <td></td>\n",
              "      <td></td>\n",
              "      <td></td>\n",
              "      <td></td>\n",
              "      <td></td>\n",
              "      <td></td>\n",
              "      <td></td>\n",
              "      <td></td>\n",
              "      <td></td>\n",
              "      <td></td>\n",
              "      <td>[190.110613068, 190.24599999999995, 3.0, 3.0, ...</td>\n",
              "    </tr>\n",
              "    <tr>\n",
              "      <th>1</th>\n",
              "      <td>1</td>\n",
              "      <td>CCCN1CCC[C@H](c2cccc(O)c2)C1.Cl</td>\n",
              "      <td>False</td>\n",
              "      <td></td>\n",
              "      <td></td>\n",
              "      <td></td>\n",
              "      <td></td>\n",
              "      <td></td>\n",
              "      <td></td>\n",
              "      <td></td>\n",
              "      <td></td>\n",
              "      <td></td>\n",
              "      <td></td>\n",
              "      <td></td>\n",
              "      <td></td>\n",
              "      <td></td>\n",
              "      <td></td>\n",
              "      <td></td>\n",
              "      <td></td>\n",
              "      <td></td>\n",
              "      <td></td>\n",
              "      <td></td>\n",
              "      <td></td>\n",
              "      <td></td>\n",
              "      <td></td>\n",
              "      <td></td>\n",
              "      <td></td>\n",
              "      <td></td>\n",
              "      <td></td>\n",
              "      <td></td>\n",
              "      <td></td>\n",
              "      <td></td>\n",
              "      <td></td>\n",
              "      <td></td>\n",
              "      <td></td>\n",
              "      <td></td>\n",
              "      <td></td>\n",
              "      <td></td>\n",
              "      <td></td>\n",
              "      <td></td>\n",
              "      <td></td>\n",
              "      <td></td>\n",
              "      <td></td>\n",
              "      <td></td>\n",
              "      <td></td>\n",
              "      <td></td>\n",
              "      <td>[255.138992004, 255.78900000000002, 2.0, 1.0, ...</td>\n",
              "    </tr>\n",
              "    <tr>\n",
              "      <th>2</th>\n",
              "      <td>2</td>\n",
              "      <td>O=C(NO)c1cnc(N2CCN(S(=O)(=O)c3ccc4ccccc4c3)CC2...</td>\n",
              "      <td>False</td>\n",
              "      <td></td>\n",
              "      <td></td>\n",
              "      <td></td>\n",
              "      <td></td>\n",
              "      <td></td>\n",
              "      <td></td>\n",
              "      <td></td>\n",
              "      <td></td>\n",
              "      <td></td>\n",
              "      <td></td>\n",
              "      <td></td>\n",
              "      <td></td>\n",
              "      <td></td>\n",
              "      <td></td>\n",
              "      <td></td>\n",
              "      <td></td>\n",
              "      <td></td>\n",
              "      <td></td>\n",
              "      <td></td>\n",
              "      <td></td>\n",
              "      <td></td>\n",
              "      <td></td>\n",
              "      <td></td>\n",
              "      <td></td>\n",
              "      <td></td>\n",
              "      <td></td>\n",
              "      <td></td>\n",
              "      <td></td>\n",
              "      <td></td>\n",
              "      <td></td>\n",
              "      <td></td>\n",
              "      <td></td>\n",
              "      <td></td>\n",
              "      <td></td>\n",
              "      <td></td>\n",
              "      <td></td>\n",
              "      <td></td>\n",
              "      <td></td>\n",
              "      <td></td>\n",
              "      <td></td>\n",
              "      <td></td>\n",
              "      <td></td>\n",
              "      <td></td>\n",
              "      <td>[413.1157750880001, 413.4590000000002, 9.0, 2....</td>\n",
              "    </tr>\n",
              "    <tr>\n",
              "      <th>3</th>\n",
              "      <td>3</td>\n",
              "      <td>Nc1cccc(CNC(=O)c2ccc(Oc3ccc(OCc4cccc(F)c4)cc3)...</td>\n",
              "      <td>False</td>\n",
              "      <td></td>\n",
              "      <td></td>\n",
              "      <td></td>\n",
              "      <td></td>\n",
              "      <td></td>\n",
              "      <td></td>\n",
              "      <td></td>\n",
              "      <td></td>\n",
              "      <td></td>\n",
              "      <td></td>\n",
              "      <td></td>\n",
              "      <td></td>\n",
              "      <td></td>\n",
              "      <td></td>\n",
              "      <td></td>\n",
              "      <td></td>\n",
              "      <td></td>\n",
              "      <td></td>\n",
              "      <td></td>\n",
              "      <td></td>\n",
              "      <td></td>\n",
              "      <td></td>\n",
              "      <td></td>\n",
              "      <td></td>\n",
              "      <td></td>\n",
              "      <td></td>\n",
              "      <td></td>\n",
              "      <td></td>\n",
              "      <td></td>\n",
              "      <td></td>\n",
              "      <td></td>\n",
              "      <td></td>\n",
              "      <td></td>\n",
              "      <td></td>\n",
              "      <td></td>\n",
              "      <td></td>\n",
              "      <td></td>\n",
              "      <td></td>\n",
              "      <td></td>\n",
              "      <td></td>\n",
              "      <td></td>\n",
              "      <td></td>\n",
              "      <td></td>\n",
              "      <td>[443.16451978400005, 443.4780000000001, 6.0, 3...</td>\n",
              "    </tr>\n",
              "    <tr>\n",
              "      <th>4</th>\n",
              "      <td>4</td>\n",
              "      <td>Fc1ccccc1CNCc1ccc(-c2ccnc3[nH]ccc23)cc1</td>\n",
              "      <td>False</td>\n",
              "      <td></td>\n",
              "      <td></td>\n",
              "      <td></td>\n",
              "      <td></td>\n",
              "      <td></td>\n",
              "      <td></td>\n",
              "      <td></td>\n",
              "      <td></td>\n",
              "      <td></td>\n",
              "      <td></td>\n",
              "      <td></td>\n",
              "      <td></td>\n",
              "      <td></td>\n",
              "      <td></td>\n",
              "      <td></td>\n",
              "      <td></td>\n",
              "      <td></td>\n",
              "      <td></td>\n",
              "      <td></td>\n",
              "      <td></td>\n",
              "      <td></td>\n",
              "      <td></td>\n",
              "      <td></td>\n",
              "      <td></td>\n",
              "      <td></td>\n",
              "      <td></td>\n",
              "      <td></td>\n",
              "      <td></td>\n",
              "      <td></td>\n",
              "      <td></td>\n",
              "      <td></td>\n",
              "      <td></td>\n",
              "      <td></td>\n",
              "      <td></td>\n",
              "      <td></td>\n",
              "      <td></td>\n",
              "      <td></td>\n",
              "      <td></td>\n",
              "      <td></td>\n",
              "      <td></td>\n",
              "      <td></td>\n",
              "      <td></td>\n",
              "      <td></td>\n",
              "      <td>[331.148475796, 331.394, 3.0, 2.0, 5.0, 2.0, 2...</td>\n",
              "    </tr>\n",
              "  </tbody>\n",
              "</table>\n",
              "</div>\n",
              "      <button class=\"colab-df-convert\" onclick=\"convertToInteractive('df-5f5bbc59-4958-4892-a1f3-1021779e2ca3')\"\n",
              "              title=\"Convert this dataframe to an interactive table.\"\n",
              "              style=\"display:none;\">\n",
              "        \n",
              "  <svg xmlns=\"http://www.w3.org/2000/svg\" height=\"24px\"viewBox=\"0 0 24 24\"\n",
              "       width=\"24px\">\n",
              "    <path d=\"M0 0h24v24H0V0z\" fill=\"none\"/>\n",
              "    <path d=\"M18.56 5.44l.94 2.06.94-2.06 2.06-.94-2.06-.94-.94-2.06-.94 2.06-2.06.94zm-11 1L8.5 8.5l.94-2.06 2.06-.94-2.06-.94L8.5 2.5l-.94 2.06-2.06.94zm10 10l.94 2.06.94-2.06 2.06-.94-2.06-.94-.94-2.06-.94 2.06-2.06.94z\"/><path d=\"M17.41 7.96l-1.37-1.37c-.4-.4-.92-.59-1.43-.59-.52 0-1.04.2-1.43.59L10.3 9.45l-7.72 7.72c-.78.78-.78 2.05 0 2.83L4 21.41c.39.39.9.59 1.41.59.51 0 1.02-.2 1.41-.59l7.78-7.78 2.81-2.81c.8-.78.8-2.07 0-2.86zM5.41 20L4 18.59l7.72-7.72 1.47 1.35L5.41 20z\"/>\n",
              "  </svg>\n",
              "      </button>\n",
              "      \n",
              "  <style>\n",
              "    .colab-df-container {\n",
              "      display:flex;\n",
              "      flex-wrap:wrap;\n",
              "      gap: 12px;\n",
              "    }\n",
              "\n",
              "    .colab-df-convert {\n",
              "      background-color: #E8F0FE;\n",
              "      border: none;\n",
              "      border-radius: 50%;\n",
              "      cursor: pointer;\n",
              "      display: none;\n",
              "      fill: #1967D2;\n",
              "      height: 32px;\n",
              "      padding: 0 0 0 0;\n",
              "      width: 32px;\n",
              "    }\n",
              "\n",
              "    .colab-df-convert:hover {\n",
              "      background-color: #E2EBFA;\n",
              "      box-shadow: 0px 1px 2px rgba(60, 64, 67, 0.3), 0px 1px 3px 1px rgba(60, 64, 67, 0.15);\n",
              "      fill: #174EA6;\n",
              "    }\n",
              "\n",
              "    [theme=dark] .colab-df-convert {\n",
              "      background-color: #3B4455;\n",
              "      fill: #D2E3FC;\n",
              "    }\n",
              "\n",
              "    [theme=dark] .colab-df-convert:hover {\n",
              "      background-color: #434B5C;\n",
              "      box-shadow: 0px 1px 3px 1px rgba(0, 0, 0, 0.15);\n",
              "      filter: drop-shadow(0px 1px 2px rgba(0, 0, 0, 0.3));\n",
              "      fill: #FFFFFF;\n",
              "    }\n",
              "  </style>\n",
              "\n",
              "      <script>\n",
              "        const buttonEl =\n",
              "          document.querySelector('#df-5f5bbc59-4958-4892-a1f3-1021779e2ca3 button.colab-df-convert');\n",
              "        buttonEl.style.display =\n",
              "          google.colab.kernel.accessAllowed ? 'block' : 'none';\n",
              "\n",
              "        async function convertToInteractive(key) {\n",
              "          const element = document.querySelector('#df-5f5bbc59-4958-4892-a1f3-1021779e2ca3');\n",
              "          const dataTable =\n",
              "            await google.colab.kernel.invokeFunction('convertToInteractive',\n",
              "                                                     [key], {});\n",
              "          if (!dataTable) return;\n",
              "\n",
              "          const docLinkHtml = 'Like what you see? Visit the ' +\n",
              "            '<a target=\"_blank\" href=https://colab.research.google.com/notebooks/data_table.ipynb>data table notebook</a>'\n",
              "            + ' to learn more about interactive tables.';\n",
              "          element.innerHTML = '';\n",
              "          dataTable['output_type'] = 'display_data';\n",
              "          await google.colab.output.renderOutput(dataTable, element);\n",
              "          const docLink = document.createElement('div');\n",
              "          docLink.innerHTML = docLinkHtml;\n",
              "          element.appendChild(docLink);\n",
              "        }\n",
              "      </script>\n",
              "    </div>\n",
              "  </div>\n",
              "  "
            ],
            "text/plain": [
              "   Unnamed: 0  ...                                        descriptors\n",
              "0           0  ...  [190.110613068, 190.24599999999995, 3.0, 3.0, ...\n",
              "1           1  ...  [255.138992004, 255.78900000000002, 2.0, 1.0, ...\n",
              "2           2  ...  [413.1157750880001, 413.4590000000002, 9.0, 2....\n",
              "3           3  ...  [443.16451978400005, 443.4780000000001, 6.0, 3...\n",
              "4           4  ...  [331.148475796, 331.394, 3.0, 2.0, 5.0, 2.0, 2...\n",
              "\n",
              "[5 rows x 47 columns]"
            ]
          },
          "metadata": {},
          "execution_count": 67
        }
      ],
      "source": [
        "train_data.head()"
      ]
    },
    {
      "cell_type": "code",
      "execution_count": 68,
      "metadata": {
        "colab": {
          "base_uri": "https://localhost:8080/"
        },
        "id": "HMjSZWwqAS0K",
        "outputId": "d34e7ea2-2c8d-4c73-9e67-5b444fdf7ac5"
      },
      "outputs": [
        {
          "output_type": "execute_result",
          "data": {
            "text/plain": [
              "0    [190.110613068, 190.24599999999995, 3.0, 3.0, ...\n",
              "1    [255.138992004, 255.78900000000002, 2.0, 1.0, ...\n",
              "2    [413.1157750880001, 413.4590000000002, 9.0, 2....\n",
              "3    [443.16451978400005, 443.4780000000001, 6.0, 3...\n",
              "4    [331.148475796, 331.394, 3.0, 2.0, 5.0, 2.0, 2...\n",
              "Name: descriptors, dtype: object"
            ]
          },
          "metadata": {},
          "execution_count": 68
        }
      ],
      "source": [
        "train_data['descriptors'].head()"
      ]
    },
    {
      "cell_type": "code",
      "execution_count": 69,
      "metadata": {
        "colab": {
          "base_uri": "https://localhost:8080/"
        },
        "id": "eljDxMKGOkjJ",
        "outputId": "b2f4ee58-392d-4517-e22b-e9dddb3b6cdf"
      },
      "outputs": [
        {
          "output_type": "stream",
          "name": "stderr",
          "text": [
            "/usr/local/lib/python3.7/dist-packages/ipykernel_launcher.py:3: SettingWithCopyWarning: \n",
            "A value is trying to be set on a copy of a slice from a DataFrame\n",
            "\n",
            "See the caveats in the documentation: https://pandas.pydata.org/pandas-docs/stable/user_guide/indexing.html#returning-a-view-versus-a-copy\n",
            "  This is separate from the ipykernel package so we can avoid doing imports until\n"
          ]
        }
      ],
      "source": [
        "for row in range(len(train_data)):\n",
        "  for key, value in enumerate(train_data['descriptors'][row]):\n",
        "    train_data[descriptor_names[key]][row] = value\n"
      ]
    },
    {
      "cell_type": "code",
      "execution_count": 70,
      "metadata": {
        "colab": {
          "base_uri": "https://localhost:8080/",
          "height": 461
        },
        "id": "hM7ZPgsTVgU3",
        "outputId": "6adca3f6-6265-4b2c-c3a1-7a5739068f31"
      },
      "outputs": [
        {
          "output_type": "execute_result",
          "data": {
            "text/html": [
              "\n",
              "  <div id=\"df-1333bb7b-aa12-495f-8855-de7a97663740\">\n",
              "    <div class=\"colab-df-container\">\n",
              "      <div>\n",
              "<style scoped>\n",
              "    .dataframe tbody tr th:only-of-type {\n",
              "        vertical-align: middle;\n",
              "    }\n",
              "\n",
              "    .dataframe tbody tr th {\n",
              "        vertical-align: top;\n",
              "    }\n",
              "\n",
              "    .dataframe thead th {\n",
              "        text-align: right;\n",
              "    }\n",
              "</style>\n",
              "<table border=\"1\" class=\"dataframe\">\n",
              "  <thead>\n",
              "    <tr style=\"text-align: right;\">\n",
              "      <th></th>\n",
              "      <th>Unnamed: 0</th>\n",
              "      <th>Smiles</th>\n",
              "      <th>Active</th>\n",
              "      <th>exactmw</th>\n",
              "      <th>amw</th>\n",
              "      <th>lipinskiHBA</th>\n",
              "      <th>lipinskiHBD</th>\n",
              "      <th>NumRotatableBonds</th>\n",
              "      <th>NumHBD</th>\n",
              "      <th>NumHBA</th>\n",
              "      <th>NumHeavyAtoms</th>\n",
              "      <th>NumAtoms</th>\n",
              "      <th>NumHeteroatoms</th>\n",
              "      <th>NumAmideBonds</th>\n",
              "      <th>FractionCSP3</th>\n",
              "      <th>NumRings</th>\n",
              "      <th>NumAromaticRings</th>\n",
              "      <th>NumAliphaticRings</th>\n",
              "      <th>NumSaturatedRings</th>\n",
              "      <th>NumHeterocycles</th>\n",
              "      <th>NumAromaticHeterocycles</th>\n",
              "      <th>NumSaturatedHeterocycles</th>\n",
              "      <th>NumAliphaticHeterocycles</th>\n",
              "      <th>NumSpiroAtoms</th>\n",
              "      <th>NumBridgeheadAtoms</th>\n",
              "      <th>NumAtomStereoCenters</th>\n",
              "      <th>NumUnspecifiedAtomStereoCenters</th>\n",
              "      <th>labuteASA</th>\n",
              "      <th>tpsa</th>\n",
              "      <th>CrippenClogP</th>\n",
              "      <th>CrippenMR</th>\n",
              "      <th>chi0v</th>\n",
              "      <th>chi1v</th>\n",
              "      <th>chi2v</th>\n",
              "      <th>chi3v</th>\n",
              "      <th>chi4v</th>\n",
              "      <th>chi0n</th>\n",
              "      <th>chi1n</th>\n",
              "      <th>chi2n</th>\n",
              "      <th>chi3n</th>\n",
              "      <th>chi4n</th>\n",
              "      <th>hallKierAlpha</th>\n",
              "      <th>kappa1</th>\n",
              "      <th>kappa2</th>\n",
              "      <th>kappa3</th>\n",
              "      <th>Phi</th>\n",
              "      <th>descriptors</th>\n",
              "    </tr>\n",
              "  </thead>\n",
              "  <tbody>\n",
              "    <tr>\n",
              "      <th>0</th>\n",
              "      <td>0</td>\n",
              "      <td>COc1ccc2[nH]cc(CCN)c2c1</td>\n",
              "      <td>False</td>\n",
              "      <td>190.110613</td>\n",
              "      <td>190.246</td>\n",
              "      <td>3.0</td>\n",
              "      <td>3.0</td>\n",
              "      <td>3.0</td>\n",
              "      <td>2.0</td>\n",
              "      <td>2.0</td>\n",
              "      <td>14.0</td>\n",
              "      <td>28.0</td>\n",
              "      <td>3.0</td>\n",
              "      <td>0.0</td>\n",
              "      <td>0.272727</td>\n",
              "      <td>2.0</td>\n",
              "      <td>2.0</td>\n",
              "      <td>0.0</td>\n",
              "      <td>0.0</td>\n",
              "      <td>1.0</td>\n",
              "      <td>1.0</td>\n",
              "      <td>0.0</td>\n",
              "      <td>0.0</td>\n",
              "      <td>0.0</td>\n",
              "      <td>0.0</td>\n",
              "      <td>0.0</td>\n",
              "      <td>0.0</td>\n",
              "      <td>82.87049</td>\n",
              "      <td>51.04</td>\n",
              "      <td>1.6777</td>\n",
              "      <td>57.6091</td>\n",
              "      <td>8.209213</td>\n",
              "      <td>4.689558</td>\n",
              "      <td>2.388265</td>\n",
              "      <td>2.388265</td>\n",
              "      <td>1.64683</td>\n",
              "      <td>8.209213</td>\n",
              "      <td>4.689558</td>\n",
              "      <td>2.388265</td>\n",
              "      <td>2.388265</td>\n",
              "      <td>1.64683</td>\n",
              "      <td>-1.48</td>\n",
              "      <td>9.089833</td>\n",
              "      <td>3.717081</td>\n",
              "      <td>1.463957</td>\n",
              "      <td>2.413403</td>\n",
              "      <td>[190.110613068, 190.24599999999995, 3.0, 3.0, ...</td>\n",
              "    </tr>\n",
              "    <tr>\n",
              "      <th>1</th>\n",
              "      <td>1</td>\n",
              "      <td>CCCN1CCC[C@H](c2cccc(O)c2)C1.Cl</td>\n",
              "      <td>False</td>\n",
              "      <td>255.138992</td>\n",
              "      <td>255.789</td>\n",
              "      <td>2.0</td>\n",
              "      <td>1.0</td>\n",
              "      <td>3.0</td>\n",
              "      <td>1.0</td>\n",
              "      <td>2.0</td>\n",
              "      <td>17.0</td>\n",
              "      <td>39.0</td>\n",
              "      <td>3.0</td>\n",
              "      <td>0.0</td>\n",
              "      <td>0.571429</td>\n",
              "      <td>2.0</td>\n",
              "      <td>1.0</td>\n",
              "      <td>1.0</td>\n",
              "      <td>1.0</td>\n",
              "      <td>1.0</td>\n",
              "      <td>0.0</td>\n",
              "      <td>1.0</td>\n",
              "      <td>1.0</td>\n",
              "      <td>0.0</td>\n",
              "      <td>0.0</td>\n",
              "      <td>1.0</td>\n",
              "      <td>0.0</td>\n",
              "      <td>110.05227</td>\n",
              "      <td>23.47</td>\n",
              "      <td>3.4034</td>\n",
              "      <td>74.0608</td>\n",
              "      <td>11.248564</td>\n",
              "      <td>6.305936</td>\n",
              "      <td>3.386963</td>\n",
              "      <td>3.386963</td>\n",
              "      <td>2.625667</td>\n",
              "      <td>10.432068</td>\n",
              "      <td>6.305936</td>\n",
              "      <td>3.386963</td>\n",
              "      <td>3.386963</td>\n",
              "      <td>2.625667</td>\n",
              "      <td>-0.73</td>\n",
              "      <td>14.331463</td>\n",
              "      <td>6.87309</td>\n",
              "      <td>3.896375</td>\n",
              "      <td>5.794202</td>\n",
              "      <td>[255.138992004, 255.78900000000002, 2.0, 1.0, ...</td>\n",
              "    </tr>\n",
              "    <tr>\n",
              "      <th>2</th>\n",
              "      <td>2</td>\n",
              "      <td>O=C(NO)c1cnc(N2CCN(S(=O)(=O)c3ccc4ccccc4c3)CC2...</td>\n",
              "      <td>False</td>\n",
              "      <td>413.115775</td>\n",
              "      <td>413.459</td>\n",
              "      <td>9.0</td>\n",
              "      <td>2.0</td>\n",
              "      <td>4.0</td>\n",
              "      <td>2.0</td>\n",
              "      <td>7.0</td>\n",
              "      <td>29.0</td>\n",
              "      <td>48.0</td>\n",
              "      <td>10.0</td>\n",
              "      <td>1.0</td>\n",
              "      <td>0.210526</td>\n",
              "      <td>4.0</td>\n",
              "      <td>3.0</td>\n",
              "      <td>1.0</td>\n",
              "      <td>1.0</td>\n",
              "      <td>2.0</td>\n",
              "      <td>1.0</td>\n",
              "      <td>1.0</td>\n",
              "      <td>1.0</td>\n",
              "      <td>0.0</td>\n",
              "      <td>0.0</td>\n",
              "      <td>0.0</td>\n",
              "      <td>0.0</td>\n",
              "      <td>167.168437</td>\n",
              "      <td>115.73</td>\n",
              "      <td>1.2597</td>\n",
              "      <td>106.2045</td>\n",
              "      <td>16.210137</td>\n",
              "      <td>10.43269</td>\n",
              "      <td>6.776768</td>\n",
              "      <td>6.776768</td>\n",
              "      <td>4.72978</td>\n",
              "      <td>15.393641</td>\n",
              "      <td>8.992626</td>\n",
              "      <td>4.882131</td>\n",
              "      <td>4.882131</td>\n",
              "      <td>3.271715</td>\n",
              "      <td>-3.08</td>\n",
              "      <td>19.245735</td>\n",
              "      <td>7.740178</td>\n",
              "      <td>3.770959</td>\n",
              "      <td>5.136739</td>\n",
              "      <td>[413.1157750880001, 413.4590000000002, 9.0, 2....</td>\n",
              "    </tr>\n",
              "    <tr>\n",
              "      <th>3</th>\n",
              "      <td>3</td>\n",
              "      <td>Nc1cccc(CNC(=O)c2ccc(Oc3ccc(OCc4cccc(F)c4)cc3)...</td>\n",
              "      <td>False</td>\n",
              "      <td>443.16452</td>\n",
              "      <td>443.478</td>\n",
              "      <td>6.0</td>\n",
              "      <td>3.0</td>\n",
              "      <td>8.0</td>\n",
              "      <td>2.0</td>\n",
              "      <td>5.0</td>\n",
              "      <td>33.0</td>\n",
              "      <td>55.0</td>\n",
              "      <td>7.0</td>\n",
              "      <td>1.0</td>\n",
              "      <td>0.076923</td>\n",
              "      <td>4.0</td>\n",
              "      <td>4.0</td>\n",
              "      <td>0.0</td>\n",
              "      <td>0.0</td>\n",
              "      <td>1.0</td>\n",
              "      <td>1.0</td>\n",
              "      <td>0.0</td>\n",
              "      <td>0.0</td>\n",
              "      <td>0.0</td>\n",
              "      <td>0.0</td>\n",
              "      <td>0.0</td>\n",
              "      <td>0.0</td>\n",
              "      <td>190.361061</td>\n",
              "      <td>86.47</td>\n",
              "      <td>5.1042</td>\n",
              "      <td>123.5096</td>\n",
              "      <td>17.701741</td>\n",
              "      <td>10.288755</td>\n",
              "      <td>4.743324</td>\n",
              "      <td>4.743324</td>\n",
              "      <td>3.080538</td>\n",
              "      <td>17.701741</td>\n",
              "      <td>10.288755</td>\n",
              "      <td>4.743324</td>\n",
              "      <td>4.743324</td>\n",
              "      <td>3.080538</td>\n",
              "      <td>-4.39</td>\n",
              "      <td>21.827384</td>\n",
              "      <td>10.279784</td>\n",
              "      <td>6.300775</td>\n",
              "      <td>6.799418</td>\n",
              "      <td>[443.16451978400005, 443.4780000000001, 6.0, 3...</td>\n",
              "    </tr>\n",
              "    <tr>\n",
              "      <th>4</th>\n",
              "      <td>4</td>\n",
              "      <td>Fc1ccccc1CNCc1ccc(-c2ccnc3[nH]ccc23)cc1</td>\n",
              "      <td>False</td>\n",
              "      <td>331.148476</td>\n",
              "      <td>331.394</td>\n",
              "      <td>3.0</td>\n",
              "      <td>2.0</td>\n",
              "      <td>5.0</td>\n",
              "      <td>2.0</td>\n",
              "      <td>2.0</td>\n",
              "      <td>25.0</td>\n",
              "      <td>43.0</td>\n",
              "      <td>4.0</td>\n",
              "      <td>0.0</td>\n",
              "      <td>0.095238</td>\n",
              "      <td>4.0</td>\n",
              "      <td>4.0</td>\n",
              "      <td>0.0</td>\n",
              "      <td>0.0</td>\n",
              "      <td>2.0</td>\n",
              "      <td>2.0</td>\n",
              "      <td>0.0</td>\n",
              "      <td>0.0</td>\n",
              "      <td>0.0</td>\n",
              "      <td>0.0</td>\n",
              "      <td>0.0</td>\n",
              "      <td>0.0</td>\n",
              "      <td>145.101346</td>\n",
              "      <td>40.71</td>\n",
              "      <td>4.6588</td>\n",
              "      <td>98.4734</td>\n",
              "      <td>13.667595</td>\n",
              "      <td>8.266411</td>\n",
              "      <td>4.327533</td>\n",
              "      <td>4.327533</td>\n",
              "      <td>2.998036</td>\n",
              "      <td>13.667595</td>\n",
              "      <td>8.266411</td>\n",
              "      <td>4.327533</td>\n",
              "      <td>4.327533</td>\n",
              "      <td>2.998036</td>\n",
              "      <td>-2.98</td>\n",
              "      <td>15.542044</td>\n",
              "      <td>6.869555</td>\n",
              "      <td>3.297687</td>\n",
              "      <td>4.270677</td>\n",
              "      <td>[331.148475796, 331.394, 3.0, 2.0, 5.0, 2.0, 2...</td>\n",
              "    </tr>\n",
              "  </tbody>\n",
              "</table>\n",
              "</div>\n",
              "      <button class=\"colab-df-convert\" onclick=\"convertToInteractive('df-1333bb7b-aa12-495f-8855-de7a97663740')\"\n",
              "              title=\"Convert this dataframe to an interactive table.\"\n",
              "              style=\"display:none;\">\n",
              "        \n",
              "  <svg xmlns=\"http://www.w3.org/2000/svg\" height=\"24px\"viewBox=\"0 0 24 24\"\n",
              "       width=\"24px\">\n",
              "    <path d=\"M0 0h24v24H0V0z\" fill=\"none\"/>\n",
              "    <path d=\"M18.56 5.44l.94 2.06.94-2.06 2.06-.94-2.06-.94-.94-2.06-.94 2.06-2.06.94zm-11 1L8.5 8.5l.94-2.06 2.06-.94-2.06-.94L8.5 2.5l-.94 2.06-2.06.94zm10 10l.94 2.06.94-2.06 2.06-.94-2.06-.94-.94-2.06-.94 2.06-2.06.94z\"/><path d=\"M17.41 7.96l-1.37-1.37c-.4-.4-.92-.59-1.43-.59-.52 0-1.04.2-1.43.59L10.3 9.45l-7.72 7.72c-.78.78-.78 2.05 0 2.83L4 21.41c.39.39.9.59 1.41.59.51 0 1.02-.2 1.41-.59l7.78-7.78 2.81-2.81c.8-.78.8-2.07 0-2.86zM5.41 20L4 18.59l7.72-7.72 1.47 1.35L5.41 20z\"/>\n",
              "  </svg>\n",
              "      </button>\n",
              "      \n",
              "  <style>\n",
              "    .colab-df-container {\n",
              "      display:flex;\n",
              "      flex-wrap:wrap;\n",
              "      gap: 12px;\n",
              "    }\n",
              "\n",
              "    .colab-df-convert {\n",
              "      background-color: #E8F0FE;\n",
              "      border: none;\n",
              "      border-radius: 50%;\n",
              "      cursor: pointer;\n",
              "      display: none;\n",
              "      fill: #1967D2;\n",
              "      height: 32px;\n",
              "      padding: 0 0 0 0;\n",
              "      width: 32px;\n",
              "    }\n",
              "\n",
              "    .colab-df-convert:hover {\n",
              "      background-color: #E2EBFA;\n",
              "      box-shadow: 0px 1px 2px rgba(60, 64, 67, 0.3), 0px 1px 3px 1px rgba(60, 64, 67, 0.15);\n",
              "      fill: #174EA6;\n",
              "    }\n",
              "\n",
              "    [theme=dark] .colab-df-convert {\n",
              "      background-color: #3B4455;\n",
              "      fill: #D2E3FC;\n",
              "    }\n",
              "\n",
              "    [theme=dark] .colab-df-convert:hover {\n",
              "      background-color: #434B5C;\n",
              "      box-shadow: 0px 1px 3px 1px rgba(0, 0, 0, 0.15);\n",
              "      filter: drop-shadow(0px 1px 2px rgba(0, 0, 0, 0.3));\n",
              "      fill: #FFFFFF;\n",
              "    }\n",
              "  </style>\n",
              "\n",
              "      <script>\n",
              "        const buttonEl =\n",
              "          document.querySelector('#df-1333bb7b-aa12-495f-8855-de7a97663740 button.colab-df-convert');\n",
              "        buttonEl.style.display =\n",
              "          google.colab.kernel.accessAllowed ? 'block' : 'none';\n",
              "\n",
              "        async function convertToInteractive(key) {\n",
              "          const element = document.querySelector('#df-1333bb7b-aa12-495f-8855-de7a97663740');\n",
              "          const dataTable =\n",
              "            await google.colab.kernel.invokeFunction('convertToInteractive',\n",
              "                                                     [key], {});\n",
              "          if (!dataTable) return;\n",
              "\n",
              "          const docLinkHtml = 'Like what you see? Visit the ' +\n",
              "            '<a target=\"_blank\" href=https://colab.research.google.com/notebooks/data_table.ipynb>data table notebook</a>'\n",
              "            + ' to learn more about interactive tables.';\n",
              "          element.innerHTML = '';\n",
              "          dataTable['output_type'] = 'display_data';\n",
              "          await google.colab.output.renderOutput(dataTable, element);\n",
              "          const docLink = document.createElement('div');\n",
              "          docLink.innerHTML = docLinkHtml;\n",
              "          element.appendChild(docLink);\n",
              "        }\n",
              "      </script>\n",
              "    </div>\n",
              "  </div>\n",
              "  "
            ],
            "text/plain": [
              "   Unnamed: 0  ...                                        descriptors\n",
              "0           0  ...  [190.110613068, 190.24599999999995, 3.0, 3.0, ...\n",
              "1           1  ...  [255.138992004, 255.78900000000002, 2.0, 1.0, ...\n",
              "2           2  ...  [413.1157750880001, 413.4590000000002, 9.0, 2....\n",
              "3           3  ...  [443.16451978400005, 443.4780000000001, 6.0, 3...\n",
              "4           4  ...  [331.148475796, 331.394, 3.0, 2.0, 5.0, 2.0, 2...\n",
              "\n",
              "[5 rows x 47 columns]"
            ]
          },
          "metadata": {},
          "execution_count": 70
        }
      ],
      "source": [
        "train_data.head()"
      ]
    },
    {
      "cell_type": "code",
      "execution_count": 71,
      "metadata": {
        "id": "vfJQfDrudX1i"
      },
      "outputs": [],
      "source": [
        "test_data[[descriptor_names]] = \"\""
      ]
    },
    {
      "cell_type": "code",
      "execution_count": 72,
      "metadata": {
        "id": "4C0gmcOLdyyd"
      },
      "outputs": [],
      "source": [
        "test_data['descriptors'] = test_data.Smiles.apply(smi_to_descriptors)"
      ]
    },
    {
      "cell_type": "code",
      "execution_count": 73,
      "metadata": {
        "colab": {
          "base_uri": "https://localhost:8080/"
        },
        "id": "ee8NuSigdGhl",
        "outputId": "d940e7b7-40ba-4bb9-a568-51ed78dee73c"
      },
      "outputs": [
        {
          "output_type": "stream",
          "name": "stderr",
          "text": [
            "/usr/local/lib/python3.7/dist-packages/ipykernel_launcher.py:3: SettingWithCopyWarning: \n",
            "A value is trying to be set on a copy of a slice from a DataFrame\n",
            "\n",
            "See the caveats in the documentation: https://pandas.pydata.org/pandas-docs/stable/user_guide/indexing.html#returning-a-view-versus-a-copy\n",
            "  This is separate from the ipykernel package so we can avoid doing imports until\n"
          ]
        }
      ],
      "source": [
        "for row in range(len(test_data)):\n",
        "  for key, value in enumerate(test_data['descriptors'][row]):\n",
        "    test_data[descriptor_names[key]][row] = value\n"
      ]
    },
    {
      "cell_type": "code",
      "execution_count": 74,
      "metadata": {
        "colab": {
          "base_uri": "https://localhost:8080/",
          "height": 461
        },
        "id": "FtoXhnOweFuI",
        "outputId": "31859cc3-bfb9-4116-ffd7-29c4605499ec"
      },
      "outputs": [
        {
          "output_type": "execute_result",
          "data": {
            "text/html": [
              "\n",
              "  <div id=\"df-1ecf52ca-c00f-47a3-8e2b-1b02a4b1230e\">\n",
              "    <div class=\"colab-df-container\">\n",
              "      <div>\n",
              "<style scoped>\n",
              "    .dataframe tbody tr th:only-of-type {\n",
              "        vertical-align: middle;\n",
              "    }\n",
              "\n",
              "    .dataframe tbody tr th {\n",
              "        vertical-align: top;\n",
              "    }\n",
              "\n",
              "    .dataframe thead th {\n",
              "        text-align: right;\n",
              "    }\n",
              "</style>\n",
              "<table border=\"1\" class=\"dataframe\">\n",
              "  <thead>\n",
              "    <tr style=\"text-align: right;\">\n",
              "      <th></th>\n",
              "      <th>Unnamed: 0</th>\n",
              "      <th>Smiles</th>\n",
              "      <th>exactmw</th>\n",
              "      <th>amw</th>\n",
              "      <th>lipinskiHBA</th>\n",
              "      <th>lipinskiHBD</th>\n",
              "      <th>NumRotatableBonds</th>\n",
              "      <th>NumHBD</th>\n",
              "      <th>NumHBA</th>\n",
              "      <th>NumHeavyAtoms</th>\n",
              "      <th>NumAtoms</th>\n",
              "      <th>NumHeteroatoms</th>\n",
              "      <th>NumAmideBonds</th>\n",
              "      <th>FractionCSP3</th>\n",
              "      <th>NumRings</th>\n",
              "      <th>NumAromaticRings</th>\n",
              "      <th>NumAliphaticRings</th>\n",
              "      <th>NumSaturatedRings</th>\n",
              "      <th>NumHeterocycles</th>\n",
              "      <th>NumAromaticHeterocycles</th>\n",
              "      <th>NumSaturatedHeterocycles</th>\n",
              "      <th>NumAliphaticHeterocycles</th>\n",
              "      <th>NumSpiroAtoms</th>\n",
              "      <th>NumBridgeheadAtoms</th>\n",
              "      <th>NumAtomStereoCenters</th>\n",
              "      <th>NumUnspecifiedAtomStereoCenters</th>\n",
              "      <th>labuteASA</th>\n",
              "      <th>tpsa</th>\n",
              "      <th>CrippenClogP</th>\n",
              "      <th>CrippenMR</th>\n",
              "      <th>chi0v</th>\n",
              "      <th>chi1v</th>\n",
              "      <th>chi2v</th>\n",
              "      <th>chi3v</th>\n",
              "      <th>chi4v</th>\n",
              "      <th>chi0n</th>\n",
              "      <th>chi1n</th>\n",
              "      <th>chi2n</th>\n",
              "      <th>chi3n</th>\n",
              "      <th>chi4n</th>\n",
              "      <th>hallKierAlpha</th>\n",
              "      <th>kappa1</th>\n",
              "      <th>kappa2</th>\n",
              "      <th>kappa3</th>\n",
              "      <th>Phi</th>\n",
              "      <th>descriptors</th>\n",
              "    </tr>\n",
              "  </thead>\n",
              "  <tbody>\n",
              "    <tr>\n",
              "      <th>0</th>\n",
              "      <td>0</td>\n",
              "      <td>COC(=O)Nc1ccc(-c2nc(N3CCOCC3)c3cnn(C4CCN(Cc5cc...</td>\n",
              "      <td>528.259737</td>\n",
              "      <td>528.617</td>\n",
              "      <td>11.0</td>\n",
              "      <td>1.0</td>\n",
              "      <td>6.0</td>\n",
              "      <td>1.0</td>\n",
              "      <td>10.0</td>\n",
              "      <td>39.0</td>\n",
              "      <td>71.0</td>\n",
              "      <td>11.0</td>\n",
              "      <td>1.0</td>\n",
              "      <td>0.392857</td>\n",
              "      <td>6.0</td>\n",
              "      <td>4.0</td>\n",
              "      <td>2.0</td>\n",
              "      <td>2.0</td>\n",
              "      <td>5.0</td>\n",
              "      <td>3.0</td>\n",
              "      <td>2.0</td>\n",
              "      <td>2.0</td>\n",
              "      <td>0.0</td>\n",
              "      <td>0.0</td>\n",
              "      <td>0.0</td>\n",
              "      <td>0.0</td>\n",
              "      <td>226.319219</td>\n",
              "      <td>110.53</td>\n",
              "      <td>3.7403</td>\n",
              "      <td>147.6037</td>\n",
              "      <td>21.992704</td>\n",
              "      <td>13.323531</td>\n",
              "      <td>7.351116</td>\n",
              "      <td>7.351116</td>\n",
              "      <td>5.266717</td>\n",
              "      <td>21.992704</td>\n",
              "      <td>13.323531</td>\n",
              "      <td>7.351116</td>\n",
              "      <td>7.351116</td>\n",
              "      <td>5.266717</td>\n",
              "      <td>-4.09</td>\n",
              "      <td>25.202404</td>\n",
              "      <td>11.339826</td>\n",
              "      <td>5.545201</td>\n",
              "      <td>7.327971</td>\n",
              "      <td>[528.2597368840002, 528.6170000000003, 11.0, 1...</td>\n",
              "    </tr>\n",
              "    <tr>\n",
              "      <th>1</th>\n",
              "      <td>1</td>\n",
              "      <td>O=Cc1cn(Cc2ccc(Cl)cc2)c2ccccc12</td>\n",
              "      <td>269.060742</td>\n",
              "      <td>269.731</td>\n",
              "      <td>2.0</td>\n",
              "      <td>0.0</td>\n",
              "      <td>3.0</td>\n",
              "      <td>0.0</td>\n",
              "      <td>2.0</td>\n",
              "      <td>19.0</td>\n",
              "      <td>31.0</td>\n",
              "      <td>3.0</td>\n",
              "      <td>0.0</td>\n",
              "      <td>0.0625</td>\n",
              "      <td>3.0</td>\n",
              "      <td>3.0</td>\n",
              "      <td>0.0</td>\n",
              "      <td>0.0</td>\n",
              "      <td>1.0</td>\n",
              "      <td>1.0</td>\n",
              "      <td>0.0</td>\n",
              "      <td>0.0</td>\n",
              "      <td>0.0</td>\n",
              "      <td>0.0</td>\n",
              "      <td>0.0</td>\n",
              "      <td>0.0</td>\n",
              "      <td>115.783966</td>\n",
              "      <td>22.0</td>\n",
              "      <td>4.1555</td>\n",
              "      <td>77.8795</td>\n",
              "      <td>10.969965</td>\n",
              "      <td>6.430304</td>\n",
              "      <td>3.464525</td>\n",
              "      <td>3.464525</td>\n",
              "      <td>2.412406</td>\n",
              "      <td>10.214036</td>\n",
              "      <td>6.052339</td>\n",
              "      <td>3.212548</td>\n",
              "      <td>3.212548</td>\n",
              "      <td>2.286418</td>\n",
              "      <td>-2.06</td>\n",
              "      <td>11.998587</td>\n",
              "      <td>4.902237</td>\n",
              "      <td>2.26997</td>\n",
              "      <td>3.095785</td>\n",
              "      <td>[269.060741684, 269.731, 2.0, 0.0, 3.0, 0.0, 2...</td>\n",
              "    </tr>\n",
              "    <tr>\n",
              "      <th>2</th>\n",
              "      <td>2</td>\n",
              "      <td>NC(CO)C(=O)NNCc1ccc(O)c(O)c1O</td>\n",
              "      <td>257.101171</td>\n",
              "      <td>257.246</td>\n",
              "      <td>8.0</td>\n",
              "      <td>8.0</td>\n",
              "      <td>5.0</td>\n",
              "      <td>7.0</td>\n",
              "      <td>7.0</td>\n",
              "      <td>18.0</td>\n",
              "      <td>33.0</td>\n",
              "      <td>8.0</td>\n",
              "      <td>1.0</td>\n",
              "      <td>0.3</td>\n",
              "      <td>1.0</td>\n",
              "      <td>1.0</td>\n",
              "      <td>0.0</td>\n",
              "      <td>0.0</td>\n",
              "      <td>0.0</td>\n",
              "      <td>0.0</td>\n",
              "      <td>0.0</td>\n",
              "      <td>0.0</td>\n",
              "      <td>0.0</td>\n",
              "      <td>0.0</td>\n",
              "      <td>1.0</td>\n",
              "      <td>1.0</td>\n",
              "      <td>102.63938</td>\n",
              "      <td>148.07</td>\n",
              "      <td>-1.7562</td>\n",
              "      <td>61.48</td>\n",
              "      <td>9.420717</td>\n",
              "      <td>5.089219</td>\n",
              "      <td>2.237368</td>\n",
              "      <td>2.237368</td>\n",
              "      <td>1.15558</td>\n",
              "      <td>9.420717</td>\n",
              "      <td>5.089219</td>\n",
              "      <td>2.237368</td>\n",
              "      <td>2.237368</td>\n",
              "      <td>1.15558</td>\n",
              "      <td>-2.03</td>\n",
              "      <td>14.032617</td>\n",
              "      <td>6.052775</td>\n",
              "      <td>3.230833</td>\n",
              "      <td>4.718682</td>\n",
              "      <td>[257.10117058000003, 257.246, 8.0, 8.0, 5.0, 7...</td>\n",
              "    </tr>\n",
              "    <tr>\n",
              "      <th>3</th>\n",
              "      <td>3</td>\n",
              "      <td>Nc1nc(=O)n([C@H]2C[C@H](O)[C@@H](CO)O2)cc1Cl</td>\n",
              "      <td>261.051634</td>\n",
              "      <td>261.665</td>\n",
              "      <td>7.0</td>\n",
              "      <td>4.0</td>\n",
              "      <td>2.0</td>\n",
              "      <td>3.0</td>\n",
              "      <td>7.0</td>\n",
              "      <td>17.0</td>\n",
              "      <td>29.0</td>\n",
              "      <td>8.0</td>\n",
              "      <td>0.0</td>\n",
              "      <td>0.555556</td>\n",
              "      <td>2.0</td>\n",
              "      <td>1.0</td>\n",
              "      <td>1.0</td>\n",
              "      <td>1.0</td>\n",
              "      <td>2.0</td>\n",
              "      <td>1.0</td>\n",
              "      <td>1.0</td>\n",
              "      <td>1.0</td>\n",
              "      <td>0.0</td>\n",
              "      <td>0.0</td>\n",
              "      <td>3.0</td>\n",
              "      <td>0.0</td>\n",
              "      <td>101.406242</td>\n",
              "      <td>110.6</td>\n",
              "      <td>-0.8804</td>\n",
              "      <td>59.539</td>\n",
              "      <td>9.540209</td>\n",
              "      <td>5.389549</td>\n",
              "      <td>2.919679</td>\n",
              "      <td>2.919679</td>\n",
              "      <td>1.861576</td>\n",
              "      <td>8.78428</td>\n",
              "      <td>5.011584</td>\n",
              "      <td>2.628464</td>\n",
              "      <td>2.628464</td>\n",
              "      <td>1.71418</td>\n",
              "      <td>-1.15</td>\n",
              "      <td>12.310689</td>\n",
              "      <td>4.612891</td>\n",
              "      <td>2.272281</td>\n",
              "      <td>3.340463</td>\n",
              "      <td>[261.051633544, 261.66499999999996, 7.0, 4.0, ...</td>\n",
              "    </tr>\n",
              "    <tr>\n",
              "      <th>4</th>\n",
              "      <td>4</td>\n",
              "      <td>Nc1ccc(C(=O)Nc2cccc(-c3nc(N4CCOCC4)c4oc5ncccc5...</td>\n",
              "      <td>467.170588</td>\n",
              "      <td>467.489</td>\n",
              "      <td>10.0</td>\n",
              "      <td>3.0</td>\n",
              "      <td>4.0</td>\n",
              "      <td>2.0</td>\n",
              "      <td>9.0</td>\n",
              "      <td>35.0</td>\n",
              "      <td>56.0</td>\n",
              "      <td>10.0</td>\n",
              "      <td>1.0</td>\n",
              "      <td>0.16</td>\n",
              "      <td>6.0</td>\n",
              "      <td>5.0</td>\n",
              "      <td>1.0</td>\n",
              "      <td>1.0</td>\n",
              "      <td>5.0</td>\n",
              "      <td>4.0</td>\n",
              "      <td>1.0</td>\n",
              "      <td>1.0</td>\n",
              "      <td>0.0</td>\n",
              "      <td>0.0</td>\n",
              "      <td>0.0</td>\n",
              "      <td>0.0</td>\n",
              "      <td>199.325375</td>\n",
              "      <td>132.29</td>\n",
              "      <td>3.5041</td>\n",
              "      <td>132.1756</td>\n",
              "      <td>18.640093</td>\n",
              "      <td>11.168566</td>\n",
              "      <td>5.810493</td>\n",
              "      <td>5.810493</td>\n",
              "      <td>4.06172</td>\n",
              "      <td>18.640093</td>\n",
              "      <td>11.168566</td>\n",
              "      <td>5.810493</td>\n",
              "      <td>5.810493</td>\n",
              "      <td>4.06172</td>\n",
              "      <td>-4.57</td>\n",
              "      <td>20.996174</td>\n",
              "      <td>8.65335</td>\n",
              "      <td>3.997108</td>\n",
              "      <td>5.191064</td>\n",
              "      <td>[467.17058753200007, 467.48900000000026, 10.0,...</td>\n",
              "    </tr>\n",
              "  </tbody>\n",
              "</table>\n",
              "</div>\n",
              "      <button class=\"colab-df-convert\" onclick=\"convertToInteractive('df-1ecf52ca-c00f-47a3-8e2b-1b02a4b1230e')\"\n",
              "              title=\"Convert this dataframe to an interactive table.\"\n",
              "              style=\"display:none;\">\n",
              "        \n",
              "  <svg xmlns=\"http://www.w3.org/2000/svg\" height=\"24px\"viewBox=\"0 0 24 24\"\n",
              "       width=\"24px\">\n",
              "    <path d=\"M0 0h24v24H0V0z\" fill=\"none\"/>\n",
              "    <path d=\"M18.56 5.44l.94 2.06.94-2.06 2.06-.94-2.06-.94-.94-2.06-.94 2.06-2.06.94zm-11 1L8.5 8.5l.94-2.06 2.06-.94-2.06-.94L8.5 2.5l-.94 2.06-2.06.94zm10 10l.94 2.06.94-2.06 2.06-.94-2.06-.94-.94-2.06-.94 2.06-2.06.94z\"/><path d=\"M17.41 7.96l-1.37-1.37c-.4-.4-.92-.59-1.43-.59-.52 0-1.04.2-1.43.59L10.3 9.45l-7.72 7.72c-.78.78-.78 2.05 0 2.83L4 21.41c.39.39.9.59 1.41.59.51 0 1.02-.2 1.41-.59l7.78-7.78 2.81-2.81c.8-.78.8-2.07 0-2.86zM5.41 20L4 18.59l7.72-7.72 1.47 1.35L5.41 20z\"/>\n",
              "  </svg>\n",
              "      </button>\n",
              "      \n",
              "  <style>\n",
              "    .colab-df-container {\n",
              "      display:flex;\n",
              "      flex-wrap:wrap;\n",
              "      gap: 12px;\n",
              "    }\n",
              "\n",
              "    .colab-df-convert {\n",
              "      background-color: #E8F0FE;\n",
              "      border: none;\n",
              "      border-radius: 50%;\n",
              "      cursor: pointer;\n",
              "      display: none;\n",
              "      fill: #1967D2;\n",
              "      height: 32px;\n",
              "      padding: 0 0 0 0;\n",
              "      width: 32px;\n",
              "    }\n",
              "\n",
              "    .colab-df-convert:hover {\n",
              "      background-color: #E2EBFA;\n",
              "      box-shadow: 0px 1px 2px rgba(60, 64, 67, 0.3), 0px 1px 3px 1px rgba(60, 64, 67, 0.15);\n",
              "      fill: #174EA6;\n",
              "    }\n",
              "\n",
              "    [theme=dark] .colab-df-convert {\n",
              "      background-color: #3B4455;\n",
              "      fill: #D2E3FC;\n",
              "    }\n",
              "\n",
              "    [theme=dark] .colab-df-convert:hover {\n",
              "      background-color: #434B5C;\n",
              "      box-shadow: 0px 1px 3px 1px rgba(0, 0, 0, 0.15);\n",
              "      filter: drop-shadow(0px 1px 2px rgba(0, 0, 0, 0.3));\n",
              "      fill: #FFFFFF;\n",
              "    }\n",
              "  </style>\n",
              "\n",
              "      <script>\n",
              "        const buttonEl =\n",
              "          document.querySelector('#df-1ecf52ca-c00f-47a3-8e2b-1b02a4b1230e button.colab-df-convert');\n",
              "        buttonEl.style.display =\n",
              "          google.colab.kernel.accessAllowed ? 'block' : 'none';\n",
              "\n",
              "        async function convertToInteractive(key) {\n",
              "          const element = document.querySelector('#df-1ecf52ca-c00f-47a3-8e2b-1b02a4b1230e');\n",
              "          const dataTable =\n",
              "            await google.colab.kernel.invokeFunction('convertToInteractive',\n",
              "                                                     [key], {});\n",
              "          if (!dataTable) return;\n",
              "\n",
              "          const docLinkHtml = 'Like what you see? Visit the ' +\n",
              "            '<a target=\"_blank\" href=https://colab.research.google.com/notebooks/data_table.ipynb>data table notebook</a>'\n",
              "            + ' to learn more about interactive tables.';\n",
              "          element.innerHTML = '';\n",
              "          dataTable['output_type'] = 'display_data';\n",
              "          await google.colab.output.renderOutput(dataTable, element);\n",
              "          const docLink = document.createElement('div');\n",
              "          docLink.innerHTML = docLinkHtml;\n",
              "          element.appendChild(docLink);\n",
              "        }\n",
              "      </script>\n",
              "    </div>\n",
              "  </div>\n",
              "  "
            ],
            "text/plain": [
              "   Unnamed: 0  ...                                        descriptors\n",
              "0           0  ...  [528.2597368840002, 528.6170000000003, 11.0, 1...\n",
              "1           1  ...  [269.060741684, 269.731, 2.0, 0.0, 3.0, 0.0, 2...\n",
              "2           2  ...  [257.10117058000003, 257.246, 8.0, 8.0, 5.0, 7...\n",
              "3           3  ...  [261.051633544, 261.66499999999996, 7.0, 4.0, ...\n",
              "4           4  ...  [467.17058753200007, 467.48900000000026, 10.0,...\n",
              "\n",
              "[5 rows x 46 columns]"
            ]
          },
          "metadata": {},
          "execution_count": 74
        }
      ],
      "source": [
        "test_data.head()"
      ]
    },
    {
      "cell_type": "code",
      "source": [
        "train_data.to_csv(\"training data.csv\")\n",
        "test_data.to_csv(\"testing data.csv\")"
      ],
      "metadata": {
        "id": "pYi2BLEcwahy"
      },
      "execution_count": 75,
      "outputs": []
    },
    {
      "cell_type": "markdown",
      "metadata": {
        "id": "uOpfFBqyeMkC"
      },
      "source": [
        "# DATA CLEANING/ EXPLORATORY DATA ANALYSIS"
      ]
    },
    {
      "cell_type": "code",
      "execution_count": 23,
      "metadata": {
        "colab": {
          "base_uri": "https://localhost:8080/"
        },
        "id": "DD4X4VX5eQ5x",
        "outputId": "c4b9400a-761f-4a32-a142-ee7ae224675d"
      },
      "outputs": [
        {
          "output_type": "execute_result",
          "data": {
            "text/plain": [
              "Index(['Unnamed: 0', 'Smiles', 'Active', 'exactmw', 'amw', 'lipinskiHBA',\n",
              "       'lipinskiHBD', 'NumRotatableBonds', 'NumHBD', 'NumHBA', 'NumHeavyAtoms',\n",
              "       'NumAtoms', 'NumHeteroatoms', 'NumAmideBonds', 'FractionCSP3',\n",
              "       'NumRings', 'NumAromaticRings', 'NumAliphaticRings',\n",
              "       'NumSaturatedRings', 'NumHeterocycles', 'NumAromaticHeterocycles',\n",
              "       'NumSaturatedHeterocycles', 'NumAliphaticHeterocycles', 'NumSpiroAtoms',\n",
              "       'NumBridgeheadAtoms', 'NumAtomStereoCenters',\n",
              "       'NumUnspecifiedAtomStereoCenters', 'labuteASA', 'tpsa', 'CrippenClogP',\n",
              "       'CrippenMR', 'chi0v', 'chi1v', 'chi2v', 'chi3v', 'chi4v', 'chi0n',\n",
              "       'chi1n', 'chi2n', 'chi3n', 'chi4n', 'hallKierAlpha', 'kappa1', 'kappa2',\n",
              "       'kappa3', 'Phi', 'descriptors'],\n",
              "      dtype='object')"
            ]
          },
          "metadata": {},
          "execution_count": 23
        }
      ],
      "source": [
        "train_data.columns"
      ]
    },
    {
      "cell_type": "code",
      "execution_count": 24,
      "metadata": {
        "id": "2nCzXu4PgkgL"
      },
      "outputs": [],
      "source": [
        "train_data.drop(columns=[\"Unnamed: 0\", \"Smiles\", \"descriptors\"], inplace=True)\n",
        "test_data.drop(columns=[\"Unnamed: 0\", \"Smiles\", \"descriptors\"], inplace=True)"
      ]
    },
    {
      "cell_type": "code",
      "execution_count": 25,
      "metadata": {
        "colab": {
          "base_uri": "https://localhost:8080/",
          "height": 207
        },
        "id": "UgYVNDrOh7gs",
        "outputId": "c750ba77-e64d-4c36-f674-b2758400d6f2"
      },
      "outputs": [
        {
          "output_type": "execute_result",
          "data": {
            "text/html": [
              "\n",
              "  <div id=\"df-119bafa8-1dc7-49df-8edc-7f1b78cb8844\">\n",
              "    <div class=\"colab-df-container\">\n",
              "      <div>\n",
              "<style scoped>\n",
              "    .dataframe tbody tr th:only-of-type {\n",
              "        vertical-align: middle;\n",
              "    }\n",
              "\n",
              "    .dataframe tbody tr th {\n",
              "        vertical-align: top;\n",
              "    }\n",
              "\n",
              "    .dataframe thead th {\n",
              "        text-align: right;\n",
              "    }\n",
              "</style>\n",
              "<table border=\"1\" class=\"dataframe\">\n",
              "  <thead>\n",
              "    <tr style=\"text-align: right;\">\n",
              "      <th></th>\n",
              "      <th>Active</th>\n",
              "      <th>exactmw</th>\n",
              "      <th>amw</th>\n",
              "      <th>lipinskiHBA</th>\n",
              "      <th>lipinskiHBD</th>\n",
              "      <th>NumRotatableBonds</th>\n",
              "      <th>NumHBD</th>\n",
              "      <th>NumHBA</th>\n",
              "      <th>NumHeavyAtoms</th>\n",
              "      <th>NumAtoms</th>\n",
              "      <th>NumHeteroatoms</th>\n",
              "      <th>NumAmideBonds</th>\n",
              "      <th>FractionCSP3</th>\n",
              "      <th>NumRings</th>\n",
              "      <th>NumAromaticRings</th>\n",
              "      <th>NumAliphaticRings</th>\n",
              "      <th>NumSaturatedRings</th>\n",
              "      <th>NumHeterocycles</th>\n",
              "      <th>NumAromaticHeterocycles</th>\n",
              "      <th>NumSaturatedHeterocycles</th>\n",
              "      <th>NumAliphaticHeterocycles</th>\n",
              "      <th>NumSpiroAtoms</th>\n",
              "      <th>NumBridgeheadAtoms</th>\n",
              "      <th>NumAtomStereoCenters</th>\n",
              "      <th>NumUnspecifiedAtomStereoCenters</th>\n",
              "      <th>labuteASA</th>\n",
              "      <th>tpsa</th>\n",
              "      <th>CrippenClogP</th>\n",
              "      <th>CrippenMR</th>\n",
              "      <th>chi0v</th>\n",
              "      <th>chi1v</th>\n",
              "      <th>chi2v</th>\n",
              "      <th>chi3v</th>\n",
              "      <th>chi4v</th>\n",
              "      <th>chi0n</th>\n",
              "      <th>chi1n</th>\n",
              "      <th>chi2n</th>\n",
              "      <th>chi3n</th>\n",
              "      <th>chi4n</th>\n",
              "      <th>hallKierAlpha</th>\n",
              "      <th>kappa1</th>\n",
              "      <th>kappa2</th>\n",
              "      <th>kappa3</th>\n",
              "      <th>Phi</th>\n",
              "    </tr>\n",
              "  </thead>\n",
              "  <tbody>\n",
              "    <tr>\n",
              "      <th>0</th>\n",
              "      <td>False</td>\n",
              "      <td>190.110613</td>\n",
              "      <td>190.246</td>\n",
              "      <td>3.0</td>\n",
              "      <td>3.0</td>\n",
              "      <td>3.0</td>\n",
              "      <td>2.0</td>\n",
              "      <td>2.0</td>\n",
              "      <td>14.0</td>\n",
              "      <td>28.0</td>\n",
              "      <td>3.0</td>\n",
              "      <td>0.0</td>\n",
              "      <td>0.272727</td>\n",
              "      <td>2.0</td>\n",
              "      <td>2.0</td>\n",
              "      <td>0.0</td>\n",
              "      <td>0.0</td>\n",
              "      <td>1.0</td>\n",
              "      <td>1.0</td>\n",
              "      <td>0.0</td>\n",
              "      <td>0.0</td>\n",
              "      <td>0.0</td>\n",
              "      <td>0.0</td>\n",
              "      <td>0.0</td>\n",
              "      <td>0.0</td>\n",
              "      <td>82.87049</td>\n",
              "      <td>51.04</td>\n",
              "      <td>1.6777</td>\n",
              "      <td>57.6091</td>\n",
              "      <td>8.209213</td>\n",
              "      <td>4.689558</td>\n",
              "      <td>2.388265</td>\n",
              "      <td>2.388265</td>\n",
              "      <td>1.64683</td>\n",
              "      <td>8.209213</td>\n",
              "      <td>4.689558</td>\n",
              "      <td>2.388265</td>\n",
              "      <td>2.388265</td>\n",
              "      <td>1.64683</td>\n",
              "      <td>-1.48</td>\n",
              "      <td>9.089833</td>\n",
              "      <td>3.717081</td>\n",
              "      <td>1.463957</td>\n",
              "      <td>2.413403</td>\n",
              "    </tr>\n",
              "    <tr>\n",
              "      <th>1</th>\n",
              "      <td>False</td>\n",
              "      <td>255.138992</td>\n",
              "      <td>255.789</td>\n",
              "      <td>2.0</td>\n",
              "      <td>1.0</td>\n",
              "      <td>3.0</td>\n",
              "      <td>1.0</td>\n",
              "      <td>2.0</td>\n",
              "      <td>17.0</td>\n",
              "      <td>39.0</td>\n",
              "      <td>3.0</td>\n",
              "      <td>0.0</td>\n",
              "      <td>0.571429</td>\n",
              "      <td>2.0</td>\n",
              "      <td>1.0</td>\n",
              "      <td>1.0</td>\n",
              "      <td>1.0</td>\n",
              "      <td>1.0</td>\n",
              "      <td>0.0</td>\n",
              "      <td>1.0</td>\n",
              "      <td>1.0</td>\n",
              "      <td>0.0</td>\n",
              "      <td>0.0</td>\n",
              "      <td>1.0</td>\n",
              "      <td>0.0</td>\n",
              "      <td>110.05227</td>\n",
              "      <td>23.47</td>\n",
              "      <td>3.4034</td>\n",
              "      <td>74.0608</td>\n",
              "      <td>11.248564</td>\n",
              "      <td>6.305936</td>\n",
              "      <td>3.386963</td>\n",
              "      <td>3.386963</td>\n",
              "      <td>2.625667</td>\n",
              "      <td>10.432068</td>\n",
              "      <td>6.305936</td>\n",
              "      <td>3.386963</td>\n",
              "      <td>3.386963</td>\n",
              "      <td>2.625667</td>\n",
              "      <td>-0.73</td>\n",
              "      <td>14.331463</td>\n",
              "      <td>6.87309</td>\n",
              "      <td>3.896375</td>\n",
              "      <td>5.794202</td>\n",
              "    </tr>\n",
              "    <tr>\n",
              "      <th>2</th>\n",
              "      <td>False</td>\n",
              "      <td>413.115775</td>\n",
              "      <td>413.459</td>\n",
              "      <td>9.0</td>\n",
              "      <td>2.0</td>\n",
              "      <td>4.0</td>\n",
              "      <td>2.0</td>\n",
              "      <td>7.0</td>\n",
              "      <td>29.0</td>\n",
              "      <td>48.0</td>\n",
              "      <td>10.0</td>\n",
              "      <td>1.0</td>\n",
              "      <td>0.210526</td>\n",
              "      <td>4.0</td>\n",
              "      <td>3.0</td>\n",
              "      <td>1.0</td>\n",
              "      <td>1.0</td>\n",
              "      <td>2.0</td>\n",
              "      <td>1.0</td>\n",
              "      <td>1.0</td>\n",
              "      <td>1.0</td>\n",
              "      <td>0.0</td>\n",
              "      <td>0.0</td>\n",
              "      <td>0.0</td>\n",
              "      <td>0.0</td>\n",
              "      <td>167.168437</td>\n",
              "      <td>115.73</td>\n",
              "      <td>1.2597</td>\n",
              "      <td>106.2045</td>\n",
              "      <td>16.210137</td>\n",
              "      <td>10.43269</td>\n",
              "      <td>6.776768</td>\n",
              "      <td>6.776768</td>\n",
              "      <td>4.72978</td>\n",
              "      <td>15.393641</td>\n",
              "      <td>8.992626</td>\n",
              "      <td>4.882131</td>\n",
              "      <td>4.882131</td>\n",
              "      <td>3.271715</td>\n",
              "      <td>-3.08</td>\n",
              "      <td>19.245735</td>\n",
              "      <td>7.740178</td>\n",
              "      <td>3.770959</td>\n",
              "      <td>5.136739</td>\n",
              "    </tr>\n",
              "  </tbody>\n",
              "</table>\n",
              "</div>\n",
              "      <button class=\"colab-df-convert\" onclick=\"convertToInteractive('df-119bafa8-1dc7-49df-8edc-7f1b78cb8844')\"\n",
              "              title=\"Convert this dataframe to an interactive table.\"\n",
              "              style=\"display:none;\">\n",
              "        \n",
              "  <svg xmlns=\"http://www.w3.org/2000/svg\" height=\"24px\"viewBox=\"0 0 24 24\"\n",
              "       width=\"24px\">\n",
              "    <path d=\"M0 0h24v24H0V0z\" fill=\"none\"/>\n",
              "    <path d=\"M18.56 5.44l.94 2.06.94-2.06 2.06-.94-2.06-.94-.94-2.06-.94 2.06-2.06.94zm-11 1L8.5 8.5l.94-2.06 2.06-.94-2.06-.94L8.5 2.5l-.94 2.06-2.06.94zm10 10l.94 2.06.94-2.06 2.06-.94-2.06-.94-.94-2.06-.94 2.06-2.06.94z\"/><path d=\"M17.41 7.96l-1.37-1.37c-.4-.4-.92-.59-1.43-.59-.52 0-1.04.2-1.43.59L10.3 9.45l-7.72 7.72c-.78.78-.78 2.05 0 2.83L4 21.41c.39.39.9.59 1.41.59.51 0 1.02-.2 1.41-.59l7.78-7.78 2.81-2.81c.8-.78.8-2.07 0-2.86zM5.41 20L4 18.59l7.72-7.72 1.47 1.35L5.41 20z\"/>\n",
              "  </svg>\n",
              "      </button>\n",
              "      \n",
              "  <style>\n",
              "    .colab-df-container {\n",
              "      display:flex;\n",
              "      flex-wrap:wrap;\n",
              "      gap: 12px;\n",
              "    }\n",
              "\n",
              "    .colab-df-convert {\n",
              "      background-color: #E8F0FE;\n",
              "      border: none;\n",
              "      border-radius: 50%;\n",
              "      cursor: pointer;\n",
              "      display: none;\n",
              "      fill: #1967D2;\n",
              "      height: 32px;\n",
              "      padding: 0 0 0 0;\n",
              "      width: 32px;\n",
              "    }\n",
              "\n",
              "    .colab-df-convert:hover {\n",
              "      background-color: #E2EBFA;\n",
              "      box-shadow: 0px 1px 2px rgba(60, 64, 67, 0.3), 0px 1px 3px 1px rgba(60, 64, 67, 0.15);\n",
              "      fill: #174EA6;\n",
              "    }\n",
              "\n",
              "    [theme=dark] .colab-df-convert {\n",
              "      background-color: #3B4455;\n",
              "      fill: #D2E3FC;\n",
              "    }\n",
              "\n",
              "    [theme=dark] .colab-df-convert:hover {\n",
              "      background-color: #434B5C;\n",
              "      box-shadow: 0px 1px 3px 1px rgba(0, 0, 0, 0.15);\n",
              "      filter: drop-shadow(0px 1px 2px rgba(0, 0, 0, 0.3));\n",
              "      fill: #FFFFFF;\n",
              "    }\n",
              "  </style>\n",
              "\n",
              "      <script>\n",
              "        const buttonEl =\n",
              "          document.querySelector('#df-119bafa8-1dc7-49df-8edc-7f1b78cb8844 button.colab-df-convert');\n",
              "        buttonEl.style.display =\n",
              "          google.colab.kernel.accessAllowed ? 'block' : 'none';\n",
              "\n",
              "        async function convertToInteractive(key) {\n",
              "          const element = document.querySelector('#df-119bafa8-1dc7-49df-8edc-7f1b78cb8844');\n",
              "          const dataTable =\n",
              "            await google.colab.kernel.invokeFunction('convertToInteractive',\n",
              "                                                     [key], {});\n",
              "          if (!dataTable) return;\n",
              "\n",
              "          const docLinkHtml = 'Like what you see? Visit the ' +\n",
              "            '<a target=\"_blank\" href=https://colab.research.google.com/notebooks/data_table.ipynb>data table notebook</a>'\n",
              "            + ' to learn more about interactive tables.';\n",
              "          element.innerHTML = '';\n",
              "          dataTable['output_type'] = 'display_data';\n",
              "          await google.colab.output.renderOutput(dataTable, element);\n",
              "          const docLink = document.createElement('div');\n",
              "          docLink.innerHTML = docLinkHtml;\n",
              "          element.appendChild(docLink);\n",
              "        }\n",
              "      </script>\n",
              "    </div>\n",
              "  </div>\n",
              "  "
            ],
            "text/plain": [
              "   Active     exactmw      amw  ...    kappa2    kappa3       Phi\n",
              "0   False  190.110613  190.246  ...  3.717081  1.463957  2.413403\n",
              "1   False  255.138992  255.789  ...   6.87309  3.896375  5.794202\n",
              "2   False  413.115775  413.459  ...  7.740178  3.770959  5.136739\n",
              "\n",
              "[3 rows x 44 columns]"
            ]
          },
          "metadata": {},
          "execution_count": 25
        }
      ],
      "source": [
        "train_data.head(3)"
      ]
    },
    {
      "cell_type": "code",
      "execution_count": 26,
      "metadata": {
        "colab": {
          "base_uri": "https://localhost:8080/"
        },
        "id": "OfGS41f-h_lO",
        "outputId": "ed54cfa5-d373-4a5d-d2b8-3cd463db82b5"
      },
      "outputs": [
        {
          "output_type": "stream",
          "name": "stdout",
          "text": [
            "<class 'pandas.core.frame.DataFrame'>\n",
            "RangeIndex: 5557 entries, 0 to 5556\n",
            "Data columns (total 44 columns):\n",
            " #   Column                           Non-Null Count  Dtype \n",
            "---  ------                           --------------  ----- \n",
            " 0   Active                           5557 non-null   bool  \n",
            " 1   exactmw                          5557 non-null   object\n",
            " 2   amw                              5557 non-null   object\n",
            " 3   lipinskiHBA                      5557 non-null   object\n",
            " 4   lipinskiHBD                      5557 non-null   object\n",
            " 5   NumRotatableBonds                5557 non-null   object\n",
            " 6   NumHBD                           5557 non-null   object\n",
            " 7   NumHBA                           5557 non-null   object\n",
            " 8   NumHeavyAtoms                    5557 non-null   object\n",
            " 9   NumAtoms                         5557 non-null   object\n",
            " 10  NumHeteroatoms                   5557 non-null   object\n",
            " 11  NumAmideBonds                    5557 non-null   object\n",
            " 12  FractionCSP3                     5557 non-null   object\n",
            " 13  NumRings                         5557 non-null   object\n",
            " 14  NumAromaticRings                 5557 non-null   object\n",
            " 15  NumAliphaticRings                5557 non-null   object\n",
            " 16  NumSaturatedRings                5557 non-null   object\n",
            " 17  NumHeterocycles                  5557 non-null   object\n",
            " 18  NumAromaticHeterocycles          5557 non-null   object\n",
            " 19  NumSaturatedHeterocycles         5557 non-null   object\n",
            " 20  NumAliphaticHeterocycles         5557 non-null   object\n",
            " 21  NumSpiroAtoms                    5557 non-null   object\n",
            " 22  NumBridgeheadAtoms               5557 non-null   object\n",
            " 23  NumAtomStereoCenters             5557 non-null   object\n",
            " 24  NumUnspecifiedAtomStereoCenters  5557 non-null   object\n",
            " 25  labuteASA                        5557 non-null   object\n",
            " 26  tpsa                             5557 non-null   object\n",
            " 27  CrippenClogP                     5557 non-null   object\n",
            " 28  CrippenMR                        5557 non-null   object\n",
            " 29  chi0v                            5557 non-null   object\n",
            " 30  chi1v                            5557 non-null   object\n",
            " 31  chi2v                            5557 non-null   object\n",
            " 32  chi3v                            5557 non-null   object\n",
            " 33  chi4v                            5557 non-null   object\n",
            " 34  chi0n                            5557 non-null   object\n",
            " 35  chi1n                            5557 non-null   object\n",
            " 36  chi2n                            5557 non-null   object\n",
            " 37  chi3n                            5557 non-null   object\n",
            " 38  chi4n                            5557 non-null   object\n",
            " 39  hallKierAlpha                    5557 non-null   object\n",
            " 40  kappa1                           5557 non-null   object\n",
            " 41  kappa2                           5557 non-null   object\n",
            " 42  kappa3                           5557 non-null   object\n",
            " 43  Phi                              5557 non-null   object\n",
            "dtypes: bool(1), object(43)\n",
            "memory usage: 1.8+ MB\n"
          ]
        }
      ],
      "source": [
        "train_data.info()"
      ]
    },
    {
      "cell_type": "code",
      "execution_count": 27,
      "metadata": {
        "id": "0SiS1NQfjhQB"
      },
      "outputs": [],
      "source": [
        "train_data.to_csv(\"modified data\")"
      ]
    },
    {
      "cell_type": "markdown",
      "metadata": {
        "id": "s-32_Ejfk8mu"
      },
      "source": [
        "# FEATURE SCALING"
      ]
    },
    {
      "cell_type": "markdown",
      "metadata": {
        "id": "qIdEciUqlEqF"
      },
      "source": [
        "seperating data into `features` and `labels`"
      ]
    },
    {
      "cell_type": "code",
      "execution_count": 28,
      "metadata": {
        "id": "sAap5gwQlAHt"
      },
      "outputs": [],
      "source": [
        "data_y = train_data['Active']\n",
        "data_x = train_data.drop(columns=['Active'])"
      ]
    },
    {
      "cell_type": "markdown",
      "metadata": {
        "id": "1sOFHm7dtRyN"
      },
      "source": [
        "let's check the distribution of classes in our dataset"
      ]
    },
    {
      "cell_type": "code",
      "execution_count": 29,
      "metadata": {
        "colab": {
          "base_uri": "https://localhost:8080/",
          "height": 483
        },
        "id": "iUtFb9U6tQjF",
        "outputId": "644acd7f-04b7-4788-9433-d7065b27aaf5"
      },
      "outputs": [
        {
          "output_type": "execute_result",
          "data": {
            "text/plain": [
              "<matplotlib.axes._subplots.AxesSubplot at 0x7f743371bc90>"
            ]
          },
          "metadata": {},
          "execution_count": 29
        },
        {
          "output_type": "display_data",
          "data": {
            "image/png": "[encoded data removed]",
            "text/plain": [
              "<Figure size 720x576 with 1 Axes>"
            ]
          },
          "metadata": {}
        }
      ],
      "source": [
        "plt.figure(figsize=(10,8))\n",
        "data_y.value_counts().plot.pie(autopct=\"%.2f\")"
      ]
    },
    {
      "cell_type": "markdown",
      "metadata": {
        "id": "IQ1G54aflk9i"
      },
      "source": [
        "let's label encode the `data_y`"
      ]
    },
    {
      "cell_type": "code",
      "execution_count": 30,
      "metadata": {
        "colab": {
          "base_uri": "https://localhost:8080/"
        },
        "id": "KaNuIaAilj00",
        "outputId": "93c2822a-c6fc-4d7d-cb9d-8f052febe6ae"
      },
      "outputs": [
        {
          "output_type": "execute_result",
          "data": {
            "text/plain": [
              "array([0, 0, 0, ..., 0, 0, 0])"
            ]
          },
          "metadata": {},
          "execution_count": 30
        }
      ],
      "source": [
        "from sklearn.preprocessing import LabelEncoder\n",
        "le = LabelEncoder()\n",
        "data_y = le.fit_transform(data_y)\n",
        "data_y"
      ]
    },
    {
      "cell_type": "markdown",
      "metadata": {
        "id": "__Hji2b2lps1"
      },
      "source": [
        "let's scale our features using `standardization` technique"
      ]
    },
    {
      "cell_type": "code",
      "execution_count": 31,
      "metadata": {
        "colab": {
          "base_uri": "https://localhost:8080/"
        },
        "id": "ksOab_SjmDzL",
        "outputId": "2a05632b-eb4f-4834-db9d-c988ad2b7f24"
      },
      "outputs": [
        {
          "output_type": "execute_result",
          "data": {
            "text/plain": [
              "array([[-1.06733961e+00, -1.06817243e+00, -7.35158853e-01, ...,\n",
              "        -7.86144098e-01, -4.16557477e-02, -4.65068315e-01],\n",
              "       [-6.92917339e-01, -6.91127150e-01, -9.72619778e-01, ...,\n",
              "        -2.15431409e-01, -2.46081672e-02, -3.71996126e-02],\n",
              "       [ 2.16685935e-01,  2.15891597e-01,  6.89606695e-01, ...,\n",
              "        -5.86325729e-02, -2.54871448e-02, -1.20407137e-01],\n",
              "       ...,\n",
              "       [-1.32677500e+00, -1.32753021e+00, -9.72619778e-01, ...,\n",
              "        -1.05415885e+00, -4.54455169e-02, -6.12099770e-01],\n",
              "       [ 8.73452592e-01,  8.71836372e-01, -4.97697929e-01, ...,\n",
              "         4.20315742e-01, -1.13828192e-02,  1.89874943e-01],\n",
              "       [-4.33691458e-01, -4.32022493e-01, -4.97697929e-01, ...,\n",
              "         4.43744923e-01, -3.42208513e-04,  4.76810410e-01]])"
            ]
          },
          "metadata": {},
          "execution_count": 31
        }
      ],
      "source": [
        "from sklearn.preprocessing import StandardScaler\n",
        "sc = StandardScaler()\n",
        "data_x = sc.fit_transform(data_x)\n",
        "test_data = sc.fit_transform(test_data)\n",
        "data_x"
      ]
    },
    {
      "cell_type": "code",
      "execution_count": 32,
      "metadata": {
        "colab": {
          "base_uri": "https://localhost:8080/"
        },
        "id": "B4nMRGgNmpiC",
        "outputId": "706c5a70-142b-435c-9bac-fb3e41f4af5b"
      },
      "outputs": [
        {
          "output_type": "execute_result",
          "data": {
            "text/plain": [
              "array([[ 0.70895596,  0.70798623,  0.92828483, ...,  0.52425364,\n",
              "         0.01516092,  0.22943563],\n",
              "       [-0.54987517, -0.54844144, -0.8247398 , ..., -0.55038365,\n",
              "        -0.14596105, -0.58595036],\n",
              "       [-0.60795826, -0.60903375,  0.34394329, ..., -0.35832256,\n",
              "        -0.09869229, -0.27327812],\n",
              "       ...,\n",
              "       [ 0.24267889,  0.24178704, -0.04561774, ..., -0.0660914 ,\n",
              "        -0.10224775, -0.08361586],\n",
              "       [-0.2920749 , -0.29298312, -0.04561774, ..., -0.22217767,\n",
              "        -0.06475537, -0.32174417],\n",
              "       [-0.24387053, -0.24472767, -0.24039826, ..., -0.4524403 ,\n",
              "        -0.13847955, -0.54962753]])"
            ]
          },
          "metadata": {},
          "execution_count": 32
        }
      ],
      "source": [
        "test_data"
      ]
    },
    {
      "cell_type": "markdown",
      "metadata": {
        "id": "d2-3QEmamtfN"
      },
      "source": [
        "# SPLITTING OUR DATASET INTO TRAINING AND VALIDATION SET"
      ]
    },
    {
      "cell_type": "code",
      "execution_count": 33,
      "metadata": {
        "id": "ZXIKo-KYm1jq"
      },
      "outputs": [],
      "source": [
        "from sklearn.model_selection import train_test_split\n",
        "x_train, x_val, y_train, y_val = train_test_split(data_x, data_y, test_size=0.2,\n",
        "                                                  random_state = 42, stratify=data_y)"
      ]
    },
    {
      "cell_type": "code",
      "execution_count": 34,
      "metadata": {
        "colab": {
          "base_uri": "https://localhost:8080/"
        },
        "id": "I8G8u4X6o2RY",
        "outputId": "25213211-3b18-47ba-febf-cf745ef35f69"
      },
      "outputs": [
        {
          "output_type": "execute_result",
          "data": {
            "text/plain": [
              "(4445, 4445, 1112, 1112)"
            ]
          },
          "metadata": {},
          "execution_count": 34
        }
      ],
      "source": [
        "len(x_train), len(y_train), len(x_val), len(y_val)"
      ]
    },
    {
      "cell_type": "markdown",
      "metadata": {
        "id": "qMFhRN3XqR9u"
      },
      "source": [
        "# RANDOM OVERSAMPLING"
      ]
    },
    {
      "cell_type": "code",
      "execution_count": 35,
      "metadata": {
        "colab": {
          "base_uri": "https://localhost:8080/"
        },
        "id": "ZgHBBEZhqgQ1",
        "outputId": "e0e31027-9f55-4e83-dde6-a7076eed45cd"
      },
      "outputs": [
        {
          "output_type": "stream",
          "name": "stdout",
          "text": [
            "Requirement already satisfied: imbalanced-learn in /usr/local/lib/python3.7/dist-packages (0.8.1)\n",
            "Collecting imbalanced-learn\n",
            "  Downloading imbalanced_learn-0.9.0-py3-none-any.whl (199 kB)\n",
            "\u001b[K     |████████████████████████████████| 199 kB 5.1 MB/s \n",
            "\u001b[?25hRequirement already satisfied: scipy>=1.1.0 in /usr/local/lib/python3.7/dist-packages (from imbalanced-learn) (1.4.1)\n",
            "Requirement already satisfied: threadpoolctl>=2.0.0 in /usr/local/lib/python3.7/dist-packages (from imbalanced-learn) (3.1.0)\n",
            "Requirement already satisfied: joblib>=0.11 in /usr/local/lib/python3.7/dist-packages (from imbalanced-learn) (1.1.0)\n",
            "Requirement already satisfied: scikit-learn>=1.0.1 in /usr/local/lib/python3.7/dist-packages (from imbalanced-learn) (1.0.2)\n",
            "Requirement already satisfied: numpy>=1.14.6 in /usr/local/lib/python3.7/dist-packages (from imbalanced-learn) (1.21.5)\n",
            "Installing collected packages: imbalanced-learn\n",
            "  Attempting uninstall: imbalanced-learn\n",
            "    Found existing installation: imbalanced-learn 0.8.1\n",
            "    Uninstalling imbalanced-learn-0.8.1:\n",
            "      Successfully uninstalled imbalanced-learn-0.8.1\n",
            "Successfully installed imbalanced-learn-0.9.0\n"
          ]
        }
      ],
      "source": [
        "!pip install -U imbalanced-learn\n",
        "from imblearn.over_sampling import SMOTE\n",
        "ruc = SMOTE(sampling_strategy=1)\n",
        "\"\"\" \n",
        "this will provide us with the classes in equal ratio. \n",
        "we can change the value of sampling_strategy to change class number ratio.\n",
        "\"\"\"\n",
        "x_res, y_res = ruc.fit_resample(x_train, y_train)"
      ]
    },
    {
      "cell_type": "code",
      "execution_count": 36,
      "metadata": {
        "colab": {
          "base_uri": "https://localhost:8080/"
        },
        "id": "APzzfjXntgSX",
        "outputId": "410f11ca-8b73-4c9e-d3da-22ca1312e3d4"
      },
      "outputs": [
        {
          "output_type": "execute_result",
          "data": {
            "text/plain": [
              "array([0, 0, 0, ..., 1, 1, 1])"
            ]
          },
          "metadata": {},
          "execution_count": 36
        }
      ],
      "source": [
        "y_res"
      ]
    },
    {
      "cell_type": "code",
      "execution_count": 37,
      "metadata": {
        "colab": {
          "base_uri": "https://localhost:8080/",
          "height": 483
        },
        "id": "vXI05GpVtmu1",
        "outputId": "99b309c2-08c4-4907-9558-62daa6a4daca"
      },
      "outputs": [
        {
          "output_type": "execute_result",
          "data": {
            "text/plain": [
              "<matplotlib.axes._subplots.AxesSubplot at 0x7f742da06450>"
            ]
          },
          "metadata": {},
          "execution_count": 37
        },
        {
          "output_type": "display_data",
          "data": {
            "image/png": "[encoded data removed]",
            "text/plain": [
              "<Figure size 720x576 with 1 Axes>"
            ]
          },
          "metadata": {}
        }
      ],
      "source": [
        "df = pd.DataFrame(y_res, columns = [\"Active\"])\n",
        "plt.figure(figsize=(10,8))\n",
        "df.value_counts().plot.pie(autopct=\"%.2f\")"
      ]
    },
    {
      "cell_type": "markdown",
      "metadata": {
        "id": "A6_S30FwuJM4"
      },
      "source": [
        "now, we can see above that our data is not imbalanced any more.\n",
        "\n",
        "we only randomly oversampled our training set to deal with data imbalancement, we did not do anything with our validation data."
      ]
    },
    {
      "cell_type": "markdown",
      "metadata": {
        "id": "mtxWsoVPuc_x"
      },
      "source": [
        "# Model 1: Using RUSBoostClassifier"
      ]
    },
    {
      "cell_type": "code",
      "execution_count": 38,
      "metadata": {
        "colab": {
          "base_uri": "https://localhost:8080/"
        },
        "id": "5FvhO5RFubEU",
        "outputId": "3a94890e-50b2-4934-b6fe-9456e17bd466"
      },
      "outputs": [
        {
          "output_type": "execute_result",
          "data": {
            "text/plain": [
              "RUSBoostClassifier(random_state=42)"
            ]
          },
          "metadata": {},
          "execution_count": 38
        }
      ],
      "source": [
        "from imblearn.ensemble import RUSBoostClassifier\n",
        "classifier = RUSBoostClassifier(random_state=42)\n",
        "classifier.fit(x_res,y_res)"
      ]
    },
    {
      "cell_type": "code",
      "execution_count": 39,
      "metadata": {
        "colab": {
          "base_uri": "https://localhost:8080/"
        },
        "id": "G_zbk80buuUZ",
        "outputId": "9e87e11d-ecf2-48ac-be43-f0ea900975f9"
      },
      "outputs": [
        {
          "output_type": "execute_result",
          "data": {
            "text/plain": [
              "0.14942528735632182"
            ]
          },
          "metadata": {},
          "execution_count": 39
        }
      ],
      "source": [
        "from sklearn.metrics import f1_score\n",
        "y_pred = classifier.predict(x_val)\n",
        "f1 = f1_score(y_val, y_pred)\n",
        "f1"
      ]
    },
    {
      "cell_type": "markdown",
      "metadata": {
        "id": "yEvKHU3wvGV2"
      },
      "source": [
        "# Model 2: Using XGBoost"
      ]
    },
    {
      "cell_type": "code",
      "execution_count": 40,
      "metadata": {
        "colab": {
          "base_uri": "https://localhost:8080/"
        },
        "id": "f89MebGKvFsd",
        "outputId": "9b222e06-2431-4815-f4b9-17cab493f76c"
      },
      "outputs": [
        {
          "output_type": "execute_result",
          "data": {
            "text/plain": [
              "XGBClassifier()"
            ]
          },
          "metadata": {},
          "execution_count": 40
        }
      ],
      "source": [
        "import xgboost as xgb\n",
        "XGB = xgb.XGBClassifier()\n",
        "XGB.fit(x_res, y_res)"
      ]
    },
    {
      "cell_type": "code",
      "execution_count": 41,
      "metadata": {
        "colab": {
          "base_uri": "https://localhost:8080/"
        },
        "id": "GqwzU-DqvUFv",
        "outputId": "961a4b8d-81a5-4907-d539-374a41c358db"
      },
      "outputs": [
        {
          "output_type": "execute_result",
          "data": {
            "text/plain": [
              "0.22988505747126436"
            ]
          },
          "metadata": {},
          "execution_count": 41
        }
      ],
      "source": [
        "y_pred = XGB.predict(x_val)\n",
        "f1 = f1_score(y_val, y_pred)\n",
        "f1"
      ]
    },
    {
      "cell_type": "markdown",
      "metadata": {
        "id": "pMI7DTV7vXhg"
      },
      "source": [
        "# Model 3: Using Random Forest Classifier"
      ]
    },
    {
      "cell_type": "code",
      "execution_count": 42,
      "metadata": {
        "colab": {
          "base_uri": "https://localhost:8080/"
        },
        "id": "uZfL7M51vWvE",
        "outputId": "2f72b5b9-4ab7-46a9-947b-10a758c1a4e6"
      },
      "outputs": [
        {
          "output_type": "execute_result",
          "data": {
            "text/plain": [
              "RandomForestClassifier()"
            ]
          },
          "metadata": {},
          "execution_count": 42
        }
      ],
      "source": [
        "from sklearn.ensemble import RandomForestClassifier\n",
        "rvc = RandomForestClassifier()\n",
        "rvc.fit(x_res, y_res)"
      ]
    },
    {
      "cell_type": "code",
      "execution_count": 43,
      "metadata": {
        "colab": {
          "base_uri": "https://localhost:8080/"
        },
        "id": "S3xLAQpyvozQ",
        "outputId": "8bf16561-68e5-4e6b-dd25-80814f9c7422"
      },
      "outputs": [
        {
          "output_type": "execute_result",
          "data": {
            "text/plain": [
              "0.17857142857142858"
            ]
          },
          "metadata": {},
          "execution_count": 43
        }
      ],
      "source": [
        "y_pred = rvc.predict(x_val)\n",
        "f1 = f1_score(y_val, y_pred)\n",
        "f1"
      ]
    },
    {
      "cell_type": "markdown",
      "metadata": {
        "id": "cIOGlqQpv8UF"
      },
      "source": [
        "# Model 4: USING ANN"
      ]
    },
    {
      "cell_type": "code",
      "execution_count": 44,
      "metadata": {
        "id": "3KNapozHwBU2"
      },
      "outputs": [],
      "source": [
        "import tensorflow as tf\n",
        "from tensorflow.keras import layers"
      ]
    },
    {
      "cell_type": "code",
      "execution_count": 45,
      "metadata": {
        "colab": {
          "base_uri": "https://localhost:8080/"
        },
        "id": "6dDyM3b8xM29",
        "outputId": "6cf7b3b4-53d0-4b05-948f-ec7f07f197c7"
      },
      "outputs": [
        {
          "output_type": "execute_result",
          "data": {
            "text/plain": [
              "43"
            ]
          },
          "metadata": {},
          "execution_count": 45
        }
      ],
      "source": [
        "len(x_res[0])"
      ]
    },
    {
      "cell_type": "code",
      "execution_count": 46,
      "metadata": {
        "id": "vb6iLTjEwK1f"
      },
      "outputs": [],
      "source": [
        "model = tf.keras.models.Sequential(\n",
        "    [\n",
        "     layers.Dense(8, activation=\"relu\", input_dim = len(x_res[0])),\n",
        "     layers.Dense(16, activation = \"relu\"),\n",
        "     # adding a dropout layer\n",
        "     layers.Dropout(0.5),\n",
        "     layers.Dense(24, activation='relu'),\n",
        "     layers.Dense(1, activation=\"sigmoid\")\n",
        "    ]\n",
        ")\n",
        "\n",
        "# compiling the model\n",
        "model.compile(optimizer = 'adam', loss = 'binary_crossentropy', metrics = ['accuracy',\n",
        "                                                                           tf.keras.metrics.Precision(),\n",
        "                                                                           tf.keras.metrics.Recall()\n",
        "                                                                           ])"
      ]
    },
    {
      "cell_type": "code",
      "execution_count": 47,
      "metadata": {
        "colab": {
          "base_uri": "https://localhost:8080/"
        },
        "id": "6o2ydpABzJ2t",
        "outputId": "7ebac05e-2b25-44bd-b75e-ba4bc339b4d1"
      },
      "outputs": [
        {
          "output_type": "stream",
          "name": "stdout",
          "text": [
            "Epoch 1/20\n",
            "856/856 [==============================] - 6s 5ms/step - loss: 0.6537 - accuracy: 0.6199 - precision: 0.6220 - recall: 0.6110\n",
            "Epoch 2/20\n",
            "856/856 [==============================] - 4s 5ms/step - loss: 0.5622 - accuracy: 0.7129 - precision: 0.6796 - recall: 0.8054\n",
            "Epoch 3/20\n",
            "856/856 [==============================] - 3s 4ms/step - loss: 0.5129 - accuracy: 0.7435 - precision: 0.7048 - recall: 0.8379\n",
            "Epoch 4/20\n",
            "856/856 [==============================] - 4s 5ms/step - loss: 0.4823 - accuracy: 0.7659 - precision: 0.7210 - recall: 0.8675\n",
            "Epoch 5/20\n",
            "856/856 [==============================] - 3s 4ms/step - loss: 0.4634 - accuracy: 0.7782 - precision: 0.7318 - recall: 0.8783\n",
            "Epoch 6/20\n",
            "856/856 [==============================] - 3s 3ms/step - loss: 0.4446 - accuracy: 0.7893 - precision: 0.7389 - recall: 0.8946\n",
            "Epoch 7/20\n",
            "856/856 [==============================] - 3s 4ms/step - loss: 0.4397 - accuracy: 0.7905 - precision: 0.7411 - recall: 0.8930\n",
            "Epoch 8/20\n",
            "856/856 [==============================] - 3s 3ms/step - loss: 0.4256 - accuracy: 0.7994 - precision: 0.7476 - recall: 0.9040\n",
            "Epoch 9/20\n",
            "856/856 [==============================] - 5s 6ms/step - loss: 0.4188 - accuracy: 0.8023 - precision: 0.7517 - recall: 0.9030\n",
            "Epoch 10/20\n",
            "856/856 [==============================] - 5s 6ms/step - loss: 0.4118 - accuracy: 0.8098 - precision: 0.7582 - recall: 0.9098\n",
            "Epoch 11/20\n",
            "856/856 [==============================] - 5s 6ms/step - loss: 0.4033 - accuracy: 0.8138 - precision: 0.7613 - recall: 0.9143\n",
            "Epoch 12/20\n",
            "856/856 [==============================] - 4s 5ms/step - loss: 0.4014 - accuracy: 0.8116 - precision: 0.7599 - recall: 0.9110\n",
            "Epoch 13/20\n",
            "856/856 [==============================] - 4s 4ms/step - loss: 0.4014 - accuracy: 0.8178 - precision: 0.7634 - recall: 0.9210\n",
            "Epoch 14/20\n",
            "856/856 [==============================] - 3s 4ms/step - loss: 0.3960 - accuracy: 0.8173 - precision: 0.7644 - recall: 0.9173\n",
            "Epoch 15/20\n",
            "856/856 [==============================] - 3s 4ms/step - loss: 0.3911 - accuracy: 0.8190 - precision: 0.7652 - recall: 0.9206\n",
            "Epoch 16/20\n",
            "856/856 [==============================] - 3s 4ms/step - loss: 0.3890 - accuracy: 0.8235 - precision: 0.7680 - recall: 0.9271\n",
            "Epoch 17/20\n",
            "856/856 [==============================] - 3s 4ms/step - loss: 0.3812 - accuracy: 0.8312 - precision: 0.7785 - recall: 0.9257\n",
            "Epoch 18/20\n",
            "856/856 [==============================] - 2s 2ms/step - loss: 0.3862 - accuracy: 0.8256 - precision: 0.7706 - recall: 0.9271\n",
            "Epoch 19/20\n",
            "856/856 [==============================] - 2s 2ms/step - loss: 0.3744 - accuracy: 0.8359 - precision: 0.7831 - recall: 0.9290\n",
            "Epoch 20/20\n",
            "856/856 [==============================] - 1s 2ms/step - loss: 0.3784 - accuracy: 0.8308 - precision: 0.7751 - recall: 0.9322\n"
          ]
        }
      ],
      "source": [
        "# let's train our model\n",
        "history = model.fit(x_res, y_res, batch_size=10, epochs=20)"
      ]
    },
    {
      "cell_type": "code",
      "execution_count": 48,
      "metadata": {
        "id": "CZeVN8Z7zjee"
      },
      "outputs": [],
      "source": [
        "def cal_f1_score(history):\n",
        "  \"\"\"\n",
        "  this function will take precision and recall and will return the f1-score\n",
        "  \"\"\"\n",
        "  precision = history.history['precision'][-1]\n",
        "  recall = history.history['recall'][-1]\n",
        "  f1 = 2*((precision*recall)/(precision+recall))\n",
        "  return f1"
      ]
    },
    {
      "cell_type": "code",
      "execution_count": 49,
      "metadata": {
        "colab": {
          "base_uri": "https://localhost:8080/"
        },
        "id": "Urj3mNTjOLOH",
        "outputId": "c277ebd4-62a5-4b2d-8d0d-f834bd1946d3"
      },
      "outputs": [
        {
          "output_type": "execute_result",
          "data": {
            "text/plain": [
              "0.8464149304652493"
            ]
          },
          "metadata": {},
          "execution_count": 49
        }
      ],
      "source": [
        "cal_f1_score(history)"
      ]
    },
    {
      "cell_type": "code",
      "execution_count": 50,
      "metadata": {
        "colab": {
          "base_uri": "https://localhost:8080/"
        },
        "id": "uUJS8PUSPU1w",
        "outputId": "d1afe53b-8e90-416b-edfa-7bf7ea088de8"
      },
      "outputs": [
        {
          "output_type": "execute_result",
          "data": {
            "text/plain": [
              "array([[6.9078994e-01],\n",
              "       [5.2705038e-01],\n",
              "       [8.0984151e-01],\n",
              "       ...,\n",
              "       [2.3623005e-12],\n",
              "       [2.7327836e-03],\n",
              "       [1.4140487e-02]], dtype=float32)"
            ]
          },
          "metadata": {},
          "execution_count": 50
        }
      ],
      "source": [
        "y_prob = model.predict(test_data)\n",
        "y_prob"
      ]
    },
    {
      "cell_type": "code",
      "execution_count": 51,
      "metadata": {
        "colab": {
          "base_uri": "https://localhost:8080/"
        },
        "id": "xr2D5LXdQbQ0",
        "outputId": "2180d44d-ca36-41f9-a854-1e42d5829d74"
      },
      "outputs": [
        {
          "output_type": "execute_result",
          "data": {
            "text/plain": [
              "<tf.Tensor: shape=(1614,), dtype=int64, numpy=array([0, 0, 0, ..., 0, 0, 0])>"
            ]
          },
          "metadata": {},
          "execution_count": 51
        }
      ],
      "source": [
        "y_pred = tf.argmax(y_prob, axis=1)\n",
        "y_pred"
      ]
    },
    {
      "cell_type": "code",
      "execution_count": 52,
      "metadata": {
        "colab": {
          "base_uri": "https://localhost:8080/",
          "height": 346
        },
        "id": "h51vCLpLQngj",
        "outputId": "08783b03-d067-4a03-a192-95110bed9c4b"
      },
      "outputs": [
        {
          "output_type": "error",
          "ename": "FileNotFoundError",
          "evalue": "ignored",
          "traceback": [
            "\u001b[0;31m---------------------------------------------------------------------------\u001b[0m",
            "\u001b[0;31mFileNotFoundError\u001b[0m                         Traceback (most recent call last)",
            "\u001b[0;32m<ipython-input-52-0249a773c8e8>\u001b[0m in \u001b[0;36m<module>\u001b[0;34m()\u001b[0m\n\u001b[0;32m----> 1\u001b[0;31m \u001b[0msub\u001b[0m \u001b[0;34m=\u001b[0m \u001b[0mpd\u001b[0m\u001b[0;34m.\u001b[0m\u001b[0mread_csv\u001b[0m\u001b[0;34m(\u001b[0m\u001b[0;34m\"submission_2.csv\"\u001b[0m\u001b[0;34m)\u001b[0m\u001b[0;34m\u001b[0m\u001b[0;34m\u001b[0m\u001b[0m\n\u001b[0m\u001b[1;32m      2\u001b[0m \u001b[0msub\u001b[0m\u001b[0;34m.\u001b[0m\u001b[0mhead\u001b[0m\u001b[0;34m(\u001b[0m\u001b[0;34m)\u001b[0m\u001b[0;34m\u001b[0m\u001b[0;34m\u001b[0m\u001b[0m\n",
            "\u001b[0;32m/usr/local/lib/python3.7/dist-packages/pandas/util/_decorators.py\u001b[0m in \u001b[0;36mwrapper\u001b[0;34m(*args, **kwargs)\u001b[0m\n\u001b[1;32m    309\u001b[0m                     \u001b[0mstacklevel\u001b[0m\u001b[0;34m=\u001b[0m\u001b[0mstacklevel\u001b[0m\u001b[0;34m,\u001b[0m\u001b[0;34m\u001b[0m\u001b[0;34m\u001b[0m\u001b[0m\n\u001b[1;32m    310\u001b[0m                 )\n\u001b[0;32m--> 311\u001b[0;31m             \u001b[0;32mreturn\u001b[0m \u001b[0mfunc\u001b[0m\u001b[0;34m(\u001b[0m\u001b[0;34m*\u001b[0m\u001b[0margs\u001b[0m\u001b[0;34m,\u001b[0m \u001b[0;34m**\u001b[0m\u001b[0mkwargs\u001b[0m\u001b[0;34m)\u001b[0m\u001b[0;34m\u001b[0m\u001b[0;34m\u001b[0m\u001b[0m\n\u001b[0m\u001b[1;32m    312\u001b[0m \u001b[0;34m\u001b[0m\u001b[0m\n\u001b[1;32m    313\u001b[0m         \u001b[0;32mreturn\u001b[0m \u001b[0mwrapper\u001b[0m\u001b[0;34m\u001b[0m\u001b[0;34m\u001b[0m\u001b[0m\n",
            "\u001b[0;32m/usr/local/lib/python3.7/dist-packages/pandas/io/parsers/readers.py\u001b[0m in \u001b[0;36mread_csv\u001b[0;34m(filepath_or_buffer, sep, delimiter, header, names, index_col, usecols, squeeze, prefix, mangle_dupe_cols, dtype, engine, converters, true_values, false_values, skipinitialspace, skiprows, skipfooter, nrows, na_values, keep_default_na, na_filter, verbose, skip_blank_lines, parse_dates, infer_datetime_format, keep_date_col, date_parser, dayfirst, cache_dates, iterator, chunksize, compression, thousands, decimal, lineterminator, quotechar, quoting, doublequote, escapechar, comment, encoding, encoding_errors, dialect, error_bad_lines, warn_bad_lines, on_bad_lines, delim_whitespace, low_memory, memory_map, float_precision, storage_options)\u001b[0m\n\u001b[1;32m    584\u001b[0m     \u001b[0mkwds\u001b[0m\u001b[0;34m.\u001b[0m\u001b[0mupdate\u001b[0m\u001b[0;34m(\u001b[0m\u001b[0mkwds_defaults\u001b[0m\u001b[0;34m)\u001b[0m\u001b[0;34m\u001b[0m\u001b[0;34m\u001b[0m\u001b[0m\n\u001b[1;32m    585\u001b[0m \u001b[0;34m\u001b[0m\u001b[0m\n\u001b[0;32m--> 586\u001b[0;31m     \u001b[0;32mreturn\u001b[0m \u001b[0m_read\u001b[0m\u001b[0;34m(\u001b[0m\u001b[0mfilepath_or_buffer\u001b[0m\u001b[0;34m,\u001b[0m \u001b[0mkwds\u001b[0m\u001b[0;34m)\u001b[0m\u001b[0;34m\u001b[0m\u001b[0;34m\u001b[0m\u001b[0m\n\u001b[0m\u001b[1;32m    587\u001b[0m \u001b[0;34m\u001b[0m\u001b[0m\n\u001b[1;32m    588\u001b[0m \u001b[0;34m\u001b[0m\u001b[0m\n",
            "\u001b[0;32m/usr/local/lib/python3.7/dist-packages/pandas/io/parsers/readers.py\u001b[0m in \u001b[0;36m_read\u001b[0;34m(filepath_or_buffer, kwds)\u001b[0m\n\u001b[1;32m    480\u001b[0m \u001b[0;34m\u001b[0m\u001b[0m\n\u001b[1;32m    481\u001b[0m     \u001b[0;31m# Create the parser.\u001b[0m\u001b[0;34m\u001b[0m\u001b[0;34m\u001b[0m\u001b[0;34m\u001b[0m\u001b[0m\n\u001b[0;32m--> 482\u001b[0;31m     \u001b[0mparser\u001b[0m \u001b[0;34m=\u001b[0m \u001b[0mTextFileReader\u001b[0m\u001b[0;34m(\u001b[0m\u001b[0mfilepath_or_buffer\u001b[0m\u001b[0;34m,\u001b[0m \u001b[0;34m**\u001b[0m\u001b[0mkwds\u001b[0m\u001b[0;34m)\u001b[0m\u001b[0;34m\u001b[0m\u001b[0;34m\u001b[0m\u001b[0m\n\u001b[0m\u001b[1;32m    483\u001b[0m \u001b[0;34m\u001b[0m\u001b[0m\n\u001b[1;32m    484\u001b[0m     \u001b[0;32mif\u001b[0m \u001b[0mchunksize\u001b[0m \u001b[0;32mor\u001b[0m \u001b[0miterator\u001b[0m\u001b[0;34m:\u001b[0m\u001b[0;34m\u001b[0m\u001b[0;34m\u001b[0m\u001b[0m\n",
            "\u001b[0;32m/usr/local/lib/python3.7/dist-packages/pandas/io/parsers/readers.py\u001b[0m in \u001b[0;36m__init__\u001b[0;34m(self, f, engine, **kwds)\u001b[0m\n\u001b[1;32m    809\u001b[0m             \u001b[0mself\u001b[0m\u001b[0;34m.\u001b[0m\u001b[0moptions\u001b[0m\u001b[0;34m[\u001b[0m\u001b[0;34m\"has_index_names\"\u001b[0m\u001b[0;34m]\u001b[0m \u001b[0;34m=\u001b[0m \u001b[0mkwds\u001b[0m\u001b[0;34m[\u001b[0m\u001b[0;34m\"has_index_names\"\u001b[0m\u001b[0;34m]\u001b[0m\u001b[0;34m\u001b[0m\u001b[0;34m\u001b[0m\u001b[0m\n\u001b[1;32m    810\u001b[0m \u001b[0;34m\u001b[0m\u001b[0m\n\u001b[0;32m--> 811\u001b[0;31m         \u001b[0mself\u001b[0m\u001b[0;34m.\u001b[0m\u001b[0m_engine\u001b[0m \u001b[0;34m=\u001b[0m \u001b[0mself\u001b[0m\u001b[0;34m.\u001b[0m\u001b[0m_make_engine\u001b[0m\u001b[0;34m(\u001b[0m\u001b[0mself\u001b[0m\u001b[0;34m.\u001b[0m\u001b[0mengine\u001b[0m\u001b[0;34m)\u001b[0m\u001b[0;34m\u001b[0m\u001b[0;34m\u001b[0m\u001b[0m\n\u001b[0m\u001b[1;32m    812\u001b[0m \u001b[0;34m\u001b[0m\u001b[0m\n\u001b[1;32m    813\u001b[0m     \u001b[0;32mdef\u001b[0m \u001b[0mclose\u001b[0m\u001b[0;34m(\u001b[0m\u001b[0mself\u001b[0m\u001b[0;34m)\u001b[0m\u001b[0;34m:\u001b[0m\u001b[0;34m\u001b[0m\u001b[0;34m\u001b[0m\u001b[0m\n",
            "\u001b[0;32m/usr/local/lib/python3.7/dist-packages/pandas/io/parsers/readers.py\u001b[0m in \u001b[0;36m_make_engine\u001b[0;34m(self, engine)\u001b[0m\n\u001b[1;32m   1038\u001b[0m             )\n\u001b[1;32m   1039\u001b[0m         \u001b[0;31m# error: Too many arguments for \"ParserBase\"\u001b[0m\u001b[0;34m\u001b[0m\u001b[0;34m\u001b[0m\u001b[0;34m\u001b[0m\u001b[0m\n\u001b[0;32m-> 1040\u001b[0;31m         \u001b[0;32mreturn\u001b[0m \u001b[0mmapping\u001b[0m\u001b[0;34m[\u001b[0m\u001b[0mengine\u001b[0m\u001b[0;34m]\u001b[0m\u001b[0;34m(\u001b[0m\u001b[0mself\u001b[0m\u001b[0;34m.\u001b[0m\u001b[0mf\u001b[0m\u001b[0;34m,\u001b[0m \u001b[0;34m**\u001b[0m\u001b[0mself\u001b[0m\u001b[0;34m.\u001b[0m\u001b[0moptions\u001b[0m\u001b[0;34m)\u001b[0m  \u001b[0;31m# type: ignore[call-arg]\u001b[0m\u001b[0;34m\u001b[0m\u001b[0;34m\u001b[0m\u001b[0m\n\u001b[0m\u001b[1;32m   1041\u001b[0m \u001b[0;34m\u001b[0m\u001b[0m\n\u001b[1;32m   1042\u001b[0m     \u001b[0;32mdef\u001b[0m \u001b[0m_failover_to_python\u001b[0m\u001b[0;34m(\u001b[0m\u001b[0mself\u001b[0m\u001b[0;34m)\u001b[0m\u001b[0;34m:\u001b[0m\u001b[0;34m\u001b[0m\u001b[0;34m\u001b[0m\u001b[0m\n",
            "\u001b[0;32m/usr/local/lib/python3.7/dist-packages/pandas/io/parsers/c_parser_wrapper.py\u001b[0m in \u001b[0;36m__init__\u001b[0;34m(self, src, **kwds)\u001b[0m\n\u001b[1;32m     49\u001b[0m \u001b[0;34m\u001b[0m\u001b[0m\n\u001b[1;32m     50\u001b[0m         \u001b[0;31m# open handles\u001b[0m\u001b[0;34m\u001b[0m\u001b[0;34m\u001b[0m\u001b[0;34m\u001b[0m\u001b[0m\n\u001b[0;32m---> 51\u001b[0;31m         \u001b[0mself\u001b[0m\u001b[0;34m.\u001b[0m\u001b[0m_open_handles\u001b[0m\u001b[0;34m(\u001b[0m\u001b[0msrc\u001b[0m\u001b[0;34m,\u001b[0m \u001b[0mkwds\u001b[0m\u001b[0;34m)\u001b[0m\u001b[0;34m\u001b[0m\u001b[0;34m\u001b[0m\u001b[0m\n\u001b[0m\u001b[1;32m     52\u001b[0m         \u001b[0;32massert\u001b[0m \u001b[0mself\u001b[0m\u001b[0;34m.\u001b[0m\u001b[0mhandles\u001b[0m \u001b[0;32mis\u001b[0m \u001b[0;32mnot\u001b[0m \u001b[0;32mNone\u001b[0m\u001b[0;34m\u001b[0m\u001b[0;34m\u001b[0m\u001b[0m\n\u001b[1;32m     53\u001b[0m \u001b[0;34m\u001b[0m\u001b[0m\n",
            "\u001b[0;32m/usr/local/lib/python3.7/dist-packages/pandas/io/parsers/base_parser.py\u001b[0m in \u001b[0;36m_open_handles\u001b[0;34m(self, src, kwds)\u001b[0m\n\u001b[1;32m    227\u001b[0m             \u001b[0mmemory_map\u001b[0m\u001b[0;34m=\u001b[0m\u001b[0mkwds\u001b[0m\u001b[0;34m.\u001b[0m\u001b[0mget\u001b[0m\u001b[0;34m(\u001b[0m\u001b[0;34m\"memory_map\"\u001b[0m\u001b[0;34m,\u001b[0m \u001b[0;32mFalse\u001b[0m\u001b[0;34m)\u001b[0m\u001b[0;34m,\u001b[0m\u001b[0;34m\u001b[0m\u001b[0;34m\u001b[0m\u001b[0m\n\u001b[1;32m    228\u001b[0m             \u001b[0mstorage_options\u001b[0m\u001b[0;34m=\u001b[0m\u001b[0mkwds\u001b[0m\u001b[0;34m.\u001b[0m\u001b[0mget\u001b[0m\u001b[0;34m(\u001b[0m\u001b[0;34m\"storage_options\"\u001b[0m\u001b[0;34m,\u001b[0m \u001b[0;32mNone\u001b[0m\u001b[0;34m)\u001b[0m\u001b[0;34m,\u001b[0m\u001b[0;34m\u001b[0m\u001b[0;34m\u001b[0m\u001b[0m\n\u001b[0;32m--> 229\u001b[0;31m             \u001b[0merrors\u001b[0m\u001b[0;34m=\u001b[0m\u001b[0mkwds\u001b[0m\u001b[0;34m.\u001b[0m\u001b[0mget\u001b[0m\u001b[0;34m(\u001b[0m\u001b[0;34m\"encoding_errors\"\u001b[0m\u001b[0;34m,\u001b[0m \u001b[0;34m\"strict\"\u001b[0m\u001b[0;34m)\u001b[0m\u001b[0;34m,\u001b[0m\u001b[0;34m\u001b[0m\u001b[0;34m\u001b[0m\u001b[0m\n\u001b[0m\u001b[1;32m    230\u001b[0m         )\n\u001b[1;32m    231\u001b[0m \u001b[0;34m\u001b[0m\u001b[0m\n",
            "\u001b[0;32m/usr/local/lib/python3.7/dist-packages/pandas/io/common.py\u001b[0m in \u001b[0;36mget_handle\u001b[0;34m(path_or_buf, mode, encoding, compression, memory_map, is_text, errors, storage_options)\u001b[0m\n\u001b[1;32m    705\u001b[0m                 \u001b[0mencoding\u001b[0m\u001b[0;34m=\u001b[0m\u001b[0mioargs\u001b[0m\u001b[0;34m.\u001b[0m\u001b[0mencoding\u001b[0m\u001b[0;34m,\u001b[0m\u001b[0;34m\u001b[0m\u001b[0;34m\u001b[0m\u001b[0m\n\u001b[1;32m    706\u001b[0m                 \u001b[0merrors\u001b[0m\u001b[0;34m=\u001b[0m\u001b[0merrors\u001b[0m\u001b[0;34m,\u001b[0m\u001b[0;34m\u001b[0m\u001b[0;34m\u001b[0m\u001b[0m\n\u001b[0;32m--> 707\u001b[0;31m                 \u001b[0mnewline\u001b[0m\u001b[0;34m=\u001b[0m\u001b[0;34m\"\"\u001b[0m\u001b[0;34m,\u001b[0m\u001b[0;34m\u001b[0m\u001b[0;34m\u001b[0m\u001b[0m\n\u001b[0m\u001b[1;32m    708\u001b[0m             )\n\u001b[1;32m    709\u001b[0m         \u001b[0;32melse\u001b[0m\u001b[0;34m:\u001b[0m\u001b[0;34m\u001b[0m\u001b[0;34m\u001b[0m\u001b[0m\n",
            "\u001b[0;31mFileNotFoundError\u001b[0m: [Errno 2] No such file or directory: 'submission_2.csv'"
          ]
        }
      ],
      "source": [
        "sub = pd.read_csv(\"submission_2.csv\")\n",
        "sub.head()"
      ]
    },
    {
      "cell_type": "code",
      "execution_count": null,
      "metadata": {
        "id": "xOAEri9xRghx"
      },
      "outputs": [],
      "source": [
        "sub['Active'] = y_pred"
      ]
    },
    {
      "cell_type": "code",
      "execution_count": null,
      "metadata": {
        "id": "MGYkdDCSRveB"
      },
      "outputs": [],
      "source": [
        "sub.head()"
      ]
    },
    {
      "cell_type": "code",
      "execution_count": null,
      "metadata": {
        "id": "2tNAmNAhRyPl"
      },
      "outputs": [],
      "source": [
        "sub.drop(columns=[\"Unnamed: 0\"], inplace=True)\n",
        "sub.head()"
      ]
    },
    {
      "cell_type": "code",
      "execution_count": null,
      "metadata": {
        "id": "99ou6PUHR3ZX"
      },
      "outputs": [],
      "source": [
        "sub.to_csv(\"final_submission_2.csv\")"
      ]
    },
    {
      "cell_type": "code",
      "execution_count": null,
      "metadata": {
        "id": "2X_Dt7PWW_fW"
      },
      "outputs": [],
      "source": [
        "y_pred = XGB.predict(test_data)\n",
        "y_pred"
      ]
    },
    {
      "cell_type": "code",
      "execution_count": null,
      "metadata": {
        "id": "smrvH5aYXOz3"
      },
      "outputs": [],
      "source": [
        "sub_2 = pd.read_csv(\"/content/submission_3.csv\")\n",
        "sub_2"
      ]
    },
    {
      "cell_type": "code",
      "execution_count": null,
      "metadata": {
        "id": "OQJ2mT-EXxx_"
      },
      "outputs": [],
      "source": [
        "sub_2['Active'] = y_pred"
      ]
    },
    {
      "cell_type": "code",
      "execution_count": null,
      "metadata": {
        "id": "cI9H8mPPX_Tp"
      },
      "outputs": [],
      "source": [
        "sub_2.head()"
      ]
    },
    {
      "cell_type": "code",
      "execution_count": null,
      "metadata": {
        "id": "w0tZ9JLxYCoM"
      },
      "outputs": [],
      "source": [
        "sub_2.drop(columns=[\"Unnamed: 0\"], inplace=True)\n",
        "sub_2.head()"
      ]
    },
    {
      "cell_type": "code",
      "execution_count": null,
      "metadata": {
        "id": "0hD2ZJvtYNtJ"
      },
      "outputs": [],
      "source": [
        "# sub_2.to_csv(\"final_submission_3.csv\")"
      ]
    }
  ],
  "metadata": {
    "colab": {
      "collapsed_sections": [],
      "name": "Global AI Challenge 2.ipynb",
      "provenance": [],
      "authorship_tag": "ABX9TyNQ3iCkRJpl8CId3MfHTtwd",
      "include_colab_link": true
    },
    "kernelspec": {
      "display_name": "Python 3",
      "name": "python3"
    },
    "language_info": {
      "name": "python"
    }
  },
  "nbformat": 4,
  "nbformat_minor": 0
}